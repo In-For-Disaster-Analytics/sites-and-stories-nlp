{
 "cells": [
  {
   "attachments": {},
   "cell_type": "markdown",
   "id": "ac0f1330",
   "metadata": {},
   "source": [
    "## Llama Index and Llama 2 tutorial on Lonestar 6\n",
    "\n",
    "Llama2 is the Meta open source Large Language Model. LlamaIndex is a python library that connects data to the LLMs such as Llama2. This allows the user to quickly use their unstructured data as a basis for any chats or outputs. \n"
   ]
  },
  {
   "attachments": {},
   "cell_type": "markdown",
   "id": "4916970a",
   "metadata": {},
   "source": [
    "We've created a series of scripts to reduce the amount of coding needd to use these mdoels. So First we'll start by importing the libraries, and setting a few pieces of HTML.\n",
    "\n",
    "If your Kernel in the top right isn't already set to Python(LLM), go a head and change it. Click the Python Text and it will prompt you to change it. \n",
    "\n",
    "\n",
    "To Run a block of code, you will type shift + enter."
   ]
  },
  {
   "cell_type": "code",
   "execution_count": 1,
   "id": "3bbac77f",
   "metadata": {},
   "outputs": [
    {
     "name": "stderr",
     "output_type": "stream",
     "text": [
      "/work/06659/wmobley/ls6/miniconda3/envs/llm/lib/python3.11/site-packages/transformers/utils/hub.py:123: FutureWarning: Using `TRANSFORMERS_CACHE` is deprecated and will be removed in v5 of Transformers. Use `HF_HOME` instead.\n",
      "  warnings.warn(\n"
     ]
    }
   ],
   "source": [
    "from LLms.Story_Engine import Story_Engine\n",
    "import logging\n",
    "import sys"
   ]
  },
  {
   "cell_type": "code",
   "execution_count": 2,
   "id": "5085c503-a891-4463-b599-cc7973bd3310",
   "metadata": {},
   "outputs": [
    {
     "data": {
      "text/html": [
       "<style>\n",
       "\n",
       ".box_style{\n",
       "    height: auto;\n",
       "    background-color:green;\n",
       "}\n",
       "</style>\n"
      ],
      "text/plain": [
       "<IPython.core.display.HTML object>"
      ]
     },
     "metadata": {},
     "output_type": "display_data"
    }
   ],
   "source": [
    "%%html\n",
    "<style>\n",
    "\n",
    ".box_style{\n",
    "    height: auto;\n",
    "    background-color:green;\n",
    "}\n",
    "</style>"
   ]
  },
  {
   "attachments": {},
   "cell_type": "markdown",
   "id": "a1ecfb9b",
   "metadata": {},
   "source": [
    "## Find your scratch directory\n",
    "When we load your text corpus into memory, we'll do it from sccratch. The next code block will show you where these files are saved if you need to access them later. "
   ]
  },
  {
   "cell_type": "code",
   "execution_count": 3,
   "id": "0e2053af",
   "metadata": {},
   "outputs": [
    {
     "name": "stdout",
     "output_type": "stream",
     "text": [
      "/scratch/06659/wmobley\n"
     ]
    }
   ],
   "source": [
    "scratch = os.getenv('SCRATCH') \n",
    "print(scratch)"
   ]
  },
  {
   "attachments": {},
   "cell_type": "markdown",
   "id": "9a717aa0",
   "metadata": {},
   "source": [
    "## Initialize the Story Engine. \n",
    "Next, you'll initialize the story engine. This is the code that will do most of the work for you. The story engine will give you two prompts.\n",
    "\n",
    "1) The first is to select which model you want to use. Currently there are 4 models to choose from. \n",
    "\n",
    "- Something something why you should use each. \n",
    "\n",
    "The first section will have dropdown to select which model to use, and then click the load model button. \n",
    "\n",
    "2) The second task is to select your text corpus. On the left you will select the upload button. Pick a PDF, a HTML file, or a package of pdf's and htmls in a zip file. Upload those data. \n",
    "\n",
    "Once you've loaded the model and uploaded your corpus, select the file you want to use in the second tab. \n"
   ]
  },
  {
   "cell_type": "code",
   "execution_count": 4,
   "id": "cddcf1bb",
   "metadata": {},
   "outputs": [
    {
     "data": {
      "application/vnd.jupyter.widget-view+json": {
       "model_id": "f51521e9a36f4e60827d939df442da5f",
       "version_major": 2,
       "version_minor": 0
      },
      "text/plain": [
       "Accordion(children=(HBox(children=(Dropdown(description='Model:', index=3, options=('LLAMA2 7B', 'LLAMA2 7B CH…"
      ]
     },
     "metadata": {},
     "output_type": "display_data"
    }
   ],
   "source": [
    "engine = Story_Engine()"
   ]
  },
  {
   "attachments": {},
   "cell_type": "markdown",
   "id": "19b4ec51",
   "metadata": {},
   "source": [
    "## Load the PDF documents \n",
    "Next you'll create the index of the files, and then the query enqine so that you can ask your questions. "
   ]
  },
  {
   "cell_type": "code",
   "execution_count": 6,
   "id": "e4e5d3ea-170c-45ce-9b5f-991c0ae5d50b",
   "metadata": {},
   "outputs": [],
   "source": [
    "engine.create_index()"
   ]
  },
  {
   "cell_type": "code",
   "execution_count": 7,
   "id": "dffbcf01-314d-418f-b8ef-19ec2265ce5e",
   "metadata": {},
   "outputs": [],
   "source": [
    "engine.create_query_engine(k=13,chunk_size=150, engine_type=\"query\")"
   ]
  },
  {
   "attachments": {},
   "cell_type": "markdown",
   "id": "2032029e",
   "metadata": {},
   "source": [
    "You can now start asking questions of your documents. "
   ]
  },
  {
   "cell_type": "code",
   "execution_count": 8,
   "id": "e9082d49-528e-45fd-81d0-1f90973a5465",
   "metadata": {},
   "outputs": [
    {
     "data": {
      "text/markdown": [
       "<b> Based on the provided context information, the document mentions the use of a top-down approach, which starts from what needs to be known from the problem point of view, to analyze and digest large amounts of data to obtain the required information. Additionally, the document mentions the use of a policy analysis framework to categorize data and turn it into useful information. However, the document does not mention specific optimization techniques. Therefore, I cannot provide any specific optimization techniques that are identified in the documents. <|ASSISTANT|><|ASSISTANT|></s></b>"
      ],
      "text/plain": [
       "<IPython.core.display.Markdown object>"
      ]
     },
     "metadata": {},
     "output_type": "display_data"
    },
    {
     "data": {
      "application/vnd.jupyter.widget-view+json": {
       "model_id": "bc48ebbc26f54b72b3159ed436c27793",
       "version_major": 2,
       "version_minor": 0
      },
      "text/plain": [
       "Tab(children=(HTML(value='<b>Wijnen et al_2008_Decision support for airport strategic planning.pdf</b><br>a. i…"
      ]
     },
     "metadata": {},
     "output_type": "display_data"
    }
   ],
   "source": [
    "response = engine.query(\"\"\"What optimization techniques are identified in the documents?\n",
    "\"\"\")\n",
    "##"
   ]
  },
  {
   "cell_type": "code",
   "execution_count": 58,
   "id": "8d76fd27-0ba7-432d-b523-b70b493ed26a",
   "metadata": {},
   "outputs": [],
   "source": [
    "\n",
    "engine.llm.llm.system_prompt =   \"\"\"You are a network graph maker who extracts terms and their relations from a given context. \n",
    "    You are provided with a context chunk (delimited by ```) Your task is to extract the ontology \n",
    "    of terms mentioned in the given context. These terms should represent the key concepts as per the context.\n",
    "Thought 1: While traversing through each sentence, Think about the key terms mentioned in it.\n",
    "    Terms may include object, entity, location, organization, person, \n",
    "    condition, acronym, documents, service, concept, etc.\n",
    "    Terms should be as atomistic as possible\n",
    "    \n",
    "Thought 2: Think about how these terms can have one on one relation with other terms.\n",
    "    Terms that are mentioned in the same sentence or the same paragraph are typically related to each other.\n",
    "    Terms can be related to many other terms\n",
    "    \n",
    "Thought 3: Find out the relation between each such related pair of terms.\n",
    "\n",
    "\n",
    "These nodes should provide all relevant properties and be in the following form:\n",
    "[\n",
    "    {\n",
    "    \"node\": \"A concept from extracted ontology\",\n",
    "    \"property_1\": \"A property of node_1\",\n",
    "    \"property_2\": \"A second property of node_1\",\n",
    "    \n",
    "    }, {\n",
    "        \"node\": \"A related concept from extracted ontology\",\n",
    "            \"property_1\": \"A property of node_2\",\n",
    "            \"property_2\": \"A second property of node_2\",\n",
    "       }\n",
    "    ]\n",
    "only respond with the answer in the correct format, do not provide extra text. \n",
    "do NOT rely on prior knowledge.\n",
    "\n",
    "\"\"\"\n",
    "\n"
   ]
  },
  {
   "cell_type": "code",
   "execution_count": null,
   "id": "004cb6c0-d3e0-49ee-a387-c1b5b3c902a2",
   "metadata": {},
   "outputs": [],
   "source": [
    "response = engine.query(\"\"\"Create a network graph for 'Decision Making Systems'. Include properties. \n",
    "\"\"\")\n",
    "##"
   ]
  },
  {
   "cell_type": "code",
   "execution_count": 40,
   "id": "a343259a-1366-4dca-b2a5-6d3c654a0e07",
   "metadata": {},
   "outputs": [
    {
     "name": "stdout",
     "output_type": "stream",
     "text": [
      "[{'node': 'System', 'property_1': 'Has subsystems', 'property_2': 'Affected by external factors'}, {'node': 'External Factors', 'property_1': 'Affects system', 'property_2': 'Outside control of actors'}, {'node': 'Strategies', 'property_1': 'Affects system', 'property_2': 'Under control of actors'}, {'node': 'Outcomes of Interest', 'property_1': 'Affected by system and external factors', 'property_2': 'Of interest to decision makers and stakeholders'}, {'node': 'Airport', 'property_1': 'Part of system', 'property_2': 'Has physical environment'}, {'node': 'Air Traffic Management (ATM) system', 'property_1': 'Part of system', 'property_2': 'Depends on airport'}, {'node': 'Road Network', 'property_1': 'Part of system', 'property_2': 'Depends on airport'}]\n"
     ]
    }
   ],
   "source": [
    "import re\n",
    "\n",
    "p= f'[{response.response_txt.split(\"[\")[1].split(\"]\")[0]}]'\n",
    "nodes =eval(p)\n",
    "print(nodes)"
   ]
  },
  {
   "cell_type": "code",
   "execution_count": 41,
   "id": "05c4a3b0-2708-45ba-95a8-bc3074581a69",
   "metadata": {},
   "outputs": [],
   "source": [
    "n = [n['node'] for n in nodes]"
   ]
  },
  {
   "cell_type": "code",
   "execution_count": 45,
   "id": "119b0f3b-74fd-4c87-9b82-4b321eff25da",
   "metadata": {},
   "outputs": [
    {
     "data": {
      "text/markdown": [
       "<b> Here is a list of nodes and edges that can be extracted from the given context:\n",
       "\n",
       "[\n",
       "   {\n",
       "   \"node_1\": \"Airport\",\n",
       "   \"node_2\": \"System\",\n",
       "   \"edge\": \"is a part of\"\n",
       "      }, {\n",
       "   \"node_1\": \"Air Traffic Management (ATM) system\",\n",
       "   \"node_2\": \"System\",\n",
       "   \"edge\": \"is a part of\"\n",
       "      }, {\n",
       "   \"node_1\": \"Road Network\",\n",
       "   \"node_2\": \"System\",\n",
       "   \"edge\": \"is a part of\"\n",
       "      }, {\n",
       "   \"node_1\": \"Strategy\",\n",
       "   \"node_2\": \"Airport\",\n",
       "   \"edge\": \"affects\"\n",
       "      }, {\n",
       "   \"node_1\": \"Outcome of Interest\",\n",
       "   \"node_2\": \"Airport\",\n",
       "   \"edge\": \"is affected by\"\n",
       "      }\n",
       "   ]\n",
       "\n",
       "Note: The above list only includes nodes and edges that can be directly related to the given context. Other nodes and edges that are not directly related to the context have been excluded.</s></b>"
      ],
      "text/plain": [
       "<IPython.core.display.Markdown object>"
      ]
     },
     "metadata": {},
     "output_type": "display_data"
    },
    {
     "data": {
      "application/vnd.jupyter.widget-view+json": {
       "model_id": "af9b2a00a79f488c881fdf64089edbd2",
       "version_major": 2,
       "version_minor": 0
      },
      "text/plain": [
       "Tab(children=(HTML(value='<b>Wijnen et al_2008_Decision support for airport strategic planning.pdf</b><br>Inte…"
      ]
     },
     "metadata": {},
     "output_type": "display_data"
    }
   ],
   "source": [
    "response = engine.query(\"Provide a set of Nodes starting with the following each in the list\"+ \" \".join(n) +\"\"\". These nodes should be in the form [\n",
    "    {\n",
    "    \"node_1\": \"A concept from extracted ontology\",\n",
    "    \"node_2\": \"A related concept from extracted ontology\",\n",
    "    \"edge\": \"relationship between the two concepts, node_1 and node_2 in one or two sentences\"\n",
    "       }, {...}\n",
    "    ]\n",
    "only respond with the answer in the correct format. \n",
    "do NOT rely on prior knowledge.\n",
    "If you can't pair a relationship with a pair of nodes don't add it.\n",
    "When you find a node or relationship you want to add try to create a generic TYPE for it that  describes the entity you can also think of it as a label.\n",
    "\"\"\")\n",
    "##"
   ]
  },
  {
   "cell_type": "code",
   "execution_count": null,
   "id": "65cab8ca",
   "metadata": {
    "scrolled": true
   },
   "outputs": [],
   "source": [
    "response = engine.query(\"\"\"Provide a set of Nodes starting with Design Principles. These nodes should be in the following form:\n",
    "[\n",
    "    {\n",
    "    \"node_1\": \"A concept from extracted ontology\",\n",
    "    \"node_2\": \"A related concept from extracted ontology\",\n",
    "    \"edge\": \"relationship between the two concepts, node_1 and node_2 in one or two sentences\"\n",
    "       }, {...}\n",
    "]\n",
    " do NOT rely on prior knowledge.\n",
    "If you can't pair a relationship with a pair of nodes don't add it.\n",
    "Cite your sources\n",
    "When you find a node or relationship you want to add try to create a generic TYPE for it that  describes the entity you can also think of it as a label.\n",
    "\"\"\")\n",
    "#"
   ]
  },
  {
   "cell_type": "code",
   "execution_count": null,
   "id": "8ff5ac23",
   "metadata": {},
   "outputs": [],
   "source": []
  },
  {
   "cell_type": "code",
   "execution_count": 46,
   "id": "13fbe176",
   "metadata": {},
   "outputs": [
    {
     "data": {
      "text/markdown": [
       "<b> The document addresses various key ideas related to airport strategic planning and decision-making. These include:\n",
       "\n",
       "1. The importance of considering multiple stakeholders and their interests in airport planning and decision-making.\n",
       "2. The need for a comprehensive and integrated approach to airport planning, taking into account various factors such as noise reduction, environmental impact, and community involvement.\n",
       "3. The use of decision support systems and models to aid in the decision-making process for airport strategic planning.\n",
       "4. The importance of considering long-term planning and development goals for airports, as well as the need for flexibility and adaptability in response to changing conditions.\n",
       "5. The role of government policies and regulations in shaping airport planning and decision-making.\n",
       "6. The importance of addressing environmental concerns and sustainability in airport planning and operations.\n",
       "7. The need for effective communication and collaboration among stakeholders in airport planning and decision-making.\n",
       "8. The use of technology and data analytics to support decision-making and improve airport operations.\n",
       "\n",
       "These key ideas highlight the complex nature of airport strategic planning and decision-making, and the need for a holistic and collaborative approach to address the various challenges and opportunities facing airports today.</s></b>"
      ],
      "text/plain": [
       "<IPython.core.display.Markdown object>"
      ]
     },
     "metadata": {},
     "output_type": "display_data"
    },
    {
     "data": {
      "application/vnd.jupyter.widget-view+json": {
       "model_id": "1dc01c7edcd04eadad32af16a99937bc",
       "version_major": 2,
       "version_minor": 0
      },
      "text/plain": [
       "Tab(children=(HTML(value='<b>Wijnen et al_2008_Decision support for airport strategic planning.pdf</b><br>Full…"
      ]
     },
     "metadata": {},
     "output_type": "display_data"
    },
    {
     "name": "stdout",
     "output_type": "stream",
     "text": [
      "1.5668862859408061\n"
     ]
    }
   ],
   "source": [
    "import time\n",
    "start = time.time()\n",
    "response = engine.query(\"What are the key ideas that the document addresses on Airport strategic planning and decision-making.?\")\n",
    "print(( time.time()-start)/60)"
   ]
  },
  {
   "cell_type": "code",
   "execution_count": null,
   "id": "e4170fbf",
   "metadata": {},
   "outputs": [],
   "source": []
  }
 ],
 "metadata": {
  "kernelspec": {
   "display_name": "Python (llm)",
   "language": "python",
   "name": "llm"
  },
  "language_info": {
   "codemirror_mode": {
    "name": "ipython",
    "version": 3
   },
   "file_extension": ".py",
   "mimetype": "text/x-python",
   "name": "python",
   "nbconvert_exporter": "python",
   "pygments_lexer": "ipython3",
   "version": "3.11.7"
  }
 },
 "nbformat": 4,
 "nbformat_minor": 5
}
