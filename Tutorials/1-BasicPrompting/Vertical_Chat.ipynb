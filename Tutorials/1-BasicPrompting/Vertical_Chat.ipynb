{
 "cells": [
  {
   "attachments": {},
   "cell_type": "markdown",
   "id": "zwzWskLgXgj5",
   "metadata": {
    "id": "zwzWskLgXgj5"
   },
   "source": [
    "## Understand And Apply Large Language Models</h3>\n",
    "### Brief Introduction to Prompt Engineering with OpenAI</h2>\n",
    "  Initially Written by Pere Martra\n",
    "\n",
    "  Adapted by William Mobley"
   ]
  },
  {
   "cell_type": "code",
   "execution_count": 2,
   "id": "ad6702f2-c1cf-4358-a593-623717c405cd",
   "metadata": {},
   "outputs": [],
   "source": [
    "from utils import model_chooser, css"
   ]
  },
  {
   "attachments": {},
   "cell_type": "markdown",
   "id": "c23b4dd1",
   "metadata": {
    "id": "c23b4dd1"
   },
   "source": [
    "# Vertical Chat\n",
    "A sample how to build a chat for small businees using:\n",
    "* ipywidgets\n",
    "* Ollama\n",
    "\n",
    "This is just a simple sample to start to understand how to create Prompts. It is far from being a complete solution.\n",
    "We are going to introduce some interesting points:\n",
    "\n",
    "* The roles in a conversation.\n",
    "* How is the conversations’ memory preserved?\n"
   ]
  },
  {
   "cell_type": "code",
   "execution_count": 1,
   "id": "a03f026a",
   "metadata": {
    "id": "a03f026a"
   },
   "outputs": [
    {
     "data": {
      "application/vnd.jupyter.widget-view+json": {
       "model_id": "7ea3a5bb1ad249dda7e9a1eaa0ee9884",
       "version_major": 2,
       "version_minor": 0
      },
      "text/plain": [
       "VBox(children=(Combobox(value='', description='Number:', options=('mixtral', 'mistral', 'llama2:7b', 'llama2:7…"
      ]
     },
     "metadata": {},
     "output_type": "display_data"
    }
   ],
   "source": [
    "import ollama\n",
    "import ipywidgets as widgets\n",
    "\n",
    "chooser= model_chooser()"
   ]
  },
  {
   "cell_type": "code",
   "execution_count": 3,
   "id": "ddaabe74-23d9-4690-ac99-dc543d9d22a4",
   "metadata": {},
   "outputs": [],
   "source": [
    "text_area = widgets.Textarea(\n",
    "    value='Hello World',\n",
    "    placeholder='Type something',\n",
    "    description='String:',\n",
    "    disabled=False\n",
    ")\n",
    "\n",
    "button = widgets.Button(\n",
    "    value=False,\n",
    "    description='Click me',\n",
    "    disabled=False,\n",
    "    button_style='', # 'success', 'info', 'warning', 'danger' or ''\n",
    "    tooltip='Description',\n",
    "    icon='check' # (FontAwesome names without the `fa-` prefix)\n",
    ")\n"
   ]
  },
  {
   "cell_type": "code",
   "execution_count": 4,
   "id": "77eac86d",
   "metadata": {
    "id": "77eac86d"
   },
   "outputs": [],
   "source": [
    "def continue_conversation(messages, temperature=0):\n",
    "    response = ollama.chat(model=chooser.Model.value,\n",
    "        messages=messages,\n",
    "       options={ \"temperature\":temperature}\n",
    "    )\n",
    "\n",
    "    return response['message']['content']"
   ]
  },
  {
   "cell_type": "code",
   "execution_count": 5,
   "id": "51bec475",
   "metadata": {
    "id": "51bec475"
   },
   "outputs": [],
   "source": [
    "#Creating the prompt\n",
    "#read and understand it.\n",
    "context = [ {'role':'system', 'content':\"\"\"\n",
    "Act as an OrderBot, you work collecting orders in a delivery only fast food restaurant called\n",
    "Good Burger. \\\n",
    "First welcome the customer, in a very friendly way, then collects the order. \\\n",
    "You wait to collect the entire order, beverages included \\\n",
    "then summarize it and check for a final \\\n",
    "time if everything is ok or the customer wants to add anything else. \\\n",
    "Finally you collect the payment.\\\n",
    "Make sure to clarify all options, extras and sizes to uniquely \\\n",
    "identify the item from the menu.\\\n",
    "You respond in a short, very friendly style. \\\n",
    "Provide ordered items on separate lines. \\\n",
    "Start new sentences on separate lines. \\\n",
    "The menu includes \\\n",
    "burger  12.95, 10.00, 7.00 \\\n",
    "frankfurt   10.95, 9.25, 6.50 \\\n",
    "sandwich   11.95, 9.75, 6.75 \\\n",
    "fries 4.50, 3.50 \\\n",
    "salad 7.25 \\\n",
    "Toppings: \\\n",
    "extra cheese 2.00, \\\n",
    "mushrooms 1.50 \\\n",
    "martra sausage 3.00 \\\n",
    "canadian bacon 3.50 \\\n",
    "romesco sauce 1.50 \\\n",
    "peppers 1.00 \\\n",
    "Drinks: \\\n",
    "coke 3.00, 2.00, 1.00 \\\n",
    "sprite 3.00, 2.00, 1.00 \\\n",
    "vichy catalan 5.00 \\\n",
    "\"\"\"} ]\n",
    "\n",
    "\n",
    "def add_prompts_conversation(_):\n",
    "    #Get the value introduced by the user\n",
    "    if (text_area.value == \"\"):\n",
    "        prompt = \"Hi\"\n",
    "    else:\n",
    "        prompt = text_area.value\n",
    "    text_area.value = ''\n",
    "\n",
    "    #Append to the context the User prompt.\n",
    "    context.append({'role':'user', 'content':f\"{prompt}\"})\n",
    "\n",
    "    #Get the response.\n",
    "    response = continue_conversation(context)\n",
    "\n",
    "    #Add the response to the context.\n",
    "    context.append({'role':'assistant', 'content':f\"{response}\"})\n",
    "\n",
    "    #Update the panels to show the conversation.\n",
    "    return f'User:  {prompt}\\n Assistant:  {response}\\n'\n",
    "\n",
    "\n"
   ]
  },
  {
   "cell_type": "code",
   "execution_count": 6,
   "id": "922f8d24",
   "metadata": {
    "colab": {
     "base_uri": "https://localhost:8080/",
     "height": 573
    },
    "id": "922f8d24",
    "outputId": "93183987-3b29-4430-d8cc-6d6453a98574"
   },
   "outputs": [
    {
     "data": {
      "application/vnd.jupyter.widget-view+json": {
       "model_id": "dc1a31f8567e4a2da26d5b200447d115",
       "version_major": 2,
       "version_minor": 0
      },
      "text/plain": [
       "Textarea(value='Hello World', description='String:', placeholder='Type something')"
      ]
     },
     "metadata": {},
     "output_type": "display_data"
    },
    {
     "data": {
      "application/vnd.jupyter.widget-view+json": {
       "model_id": "f09a0ddda0bb431e965f0fcf863f3ab6",
       "version_major": 2,
       "version_minor": 0
      },
      "text/plain": [
       "Button(description='Click me', icon='check', style=ButtonStyle(), tooltip='Description')"
      ]
     },
     "metadata": {},
     "output_type": "display_data"
    },
    {
     "data": {
      "application/vnd.jupyter.widget-view+json": {
       "model_id": "32e4070998074767a9243a5baf40fa05",
       "version_major": 2,
       "version_minor": 0
      },
      "text/plain": [
       "VBox(children=(Label(value='Welcome to Good Burger, Home of the Good Burger Can I take your order?'),))"
      ]
     },
     "metadata": {},
     "output_type": "display_data"
    }
   ],
   "source": [
    "\n",
    "panels = []\n",
    "response_box = widgets.VBox([ widgets.Label(\"Welcome to Good Burger, Home of the Good Burger Can I take your order?\")])\n",
    "def on_button_clicked(response):\n",
    "    response =  add_prompts_conversation(response)\n",
    "    for sub_response in response.split(\"\\n\"):\n",
    "        response_box.children += (widgets.Label(sub_response),)\n",
    "button.on_click(on_button_clicked)\n",
    "display(text_area)\n",
    "display( button)\n",
    "display(response_box)\n"
   ]
  },
  {
   "cell_type": "code",
   "execution_count": null,
   "id": "90644fad-ec5e-44ce-a58a-2686b7998fed",
   "metadata": {},
   "outputs": [],
   "source": []
  }
 ],
 "metadata": {
  "colab": {
   "include_colab_link": true,
   "provenance": []
  },
  "kernelspec": {
   "display_name": "Python (llm)",
   "language": "python",
   "name": "llm"
  },
  "language_info": {
   "codemirror_mode": {
    "name": "ipython",
    "version": 3
   },
   "file_extension": ".py",
   "mimetype": "text/x-python",
   "name": "python",
   "nbconvert_exporter": "python",
   "pygments_lexer": "ipython3",
   "version": "3.12.2"
  }
 },
 "nbformat": 4,
 "nbformat_minor": 5
}
