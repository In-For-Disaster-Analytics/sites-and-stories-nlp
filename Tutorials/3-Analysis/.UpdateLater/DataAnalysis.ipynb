{
 "cells": [
  {
   "cell_type": "markdown",
   "metadata": {
    "id": "DPu6Q1vlol-r"
   },
   "source": [
    "<div align=\"center\">\n",
    "<h1><a href=\"https://github.com/peremartra/Large-Language-Model-Notebooks-Course\">LLM Hands On Course</a></h1>\n",
    "    <h3>Understand And Apply Large Language Models</h3>\n",
    "    <p>by <b>Pere Martra</b></p>\n",
    "    <h2>Create a Data Analyst Agent with LangChain </h2>\n",
    "</div>\n",
    "\n",
    "<br>\n",
    "\n",
    "<div align=\"center\">\n",
    "    &nbsp;\n",
    "    <a target=\"_blank\" href=\"https://www.linkedin.com/in/pere-martra/\"><img src=\"https://img.shields.io/badge/style--5eba00.svg?label=LinkedIn&logo=linkedin&style=social\"></a>\n",
    "    \n",
    "</div>\n",
    "\n",
    "<br>\n",
    "<hr>"
   ]
  },
  {
   "cell_type": "markdown",
   "metadata": {
    "id": "SutfCuwbr0QB"
   },
   "source": [
    "# Create an LLMAgent with LangChain\n",
    "\n",
    "We are going to create an Agent With LangChain that using the OpenAI API, will be able to analyze the data contained in an Excel file.\n",
    "\n",
    "It will be able to find relationships between variables, clean the data, search for a model, and execute it to make future predictions.\n",
    "\n",
    "In summary, it will act as a Data Scientist Assistant, helping us in our day-to-day tasks."
   ]
  },
  {
   "cell_type": "markdown",
   "metadata": {
    "id": "UYWYQH6burJZ"
   },
   "source": [
    "## Intalling and importing libraries"
   ]
  },
  {
   "cell_type": "markdown",
   "metadata": {
    "id": "RGX5QZNgy7WW"
   },
   "source": [
    "We use the **os** library to store Environ variables. Like OPENAI_API_KEY.\n",
    "\n",
    "Get you OpenAI API  Key: https://platform.openai.com/"
   ]
  },
  {
   "cell_type": "markdown",
   "metadata": {
    "id": "DDdr_KjCwkbm"
   },
   "source": [
    "## Loading the Data"
   ]
  },
  {
   "cell_type": "code",
   "execution_count": 1,
   "metadata": {
    "id": "NuWeRYwtECbH"
   },
   "outputs": [],
   "source": [
    "\n",
    "import zipfile\n",
    "\n",
    "# Define the path to your zip file\n",
    "file_path = './climate-insights-dataset.zip'\n",
    "with zipfile.ZipFile(file_path, 'r') as zip_ref:\n",
    "    zip_ref.extractall('./data')\n"
   ]
  },
  {
   "cell_type": "markdown",
   "metadata": {
    "id": "jJbLzm-rzrZ5"
   },
   "source": [
    "We are using a kaggle Dataset:\n",
    "https://www.kaggle.com/datasets/goyaladi/climate-insights-dataset\n",
    "\n",
    "You can download the CSV. Feel free to use the Dataset you are more interested In, or your own Data.\n",
    "\n",
    "\n"
   ]
  },
  {
   "cell_type": "code",
   "execution_count": 2,
   "metadata": {
    "id": "49sY2-63Rxzp"
   },
   "outputs": [],
   "source": [
    "import pandas as pd\n",
    "csv_file='./data/GlobalLandTemperaturesByCountry.csv'\n",
    "#creating the document with Pandas.\n",
    "document = pd.read_csv(csv_file)"
   ]
  },
  {
   "cell_type": "code",
   "execution_count": 3,
   "metadata": {
    "colab": {
     "base_uri": "https://localhost:8080/",
     "height": 206
    },
    "id": "iyJbbQZBUOXm",
    "outputId": "49f7f699-cfe8-4002-c4d7-b729976411c8"
   },
   "outputs": [
    {
     "data": {
      "text/html": [
       "<div>\n",
       "<style scoped>\n",
       "    .dataframe tbody tr th:only-of-type {\n",
       "        vertical-align: middle;\n",
       "    }\n",
       "\n",
       "    .dataframe tbody tr th {\n",
       "        vertical-align: top;\n",
       "    }\n",
       "\n",
       "    .dataframe thead th {\n",
       "        text-align: right;\n",
       "    }\n",
       "</style>\n",
       "<table border=\"1\" class=\"dataframe\">\n",
       "  <thead>\n",
       "    <tr style=\"text-align: right;\">\n",
       "      <th></th>\n",
       "      <th>dt</th>\n",
       "      <th>AverageTemperature</th>\n",
       "      <th>AverageTemperatureUncertainty</th>\n",
       "      <th>Country</th>\n",
       "    </tr>\n",
       "  </thead>\n",
       "  <tbody>\n",
       "    <tr>\n",
       "      <th>0</th>\n",
       "      <td>1743-11-01</td>\n",
       "      <td>4.384</td>\n",
       "      <td>2.294</td>\n",
       "      <td>Åland</td>\n",
       "    </tr>\n",
       "    <tr>\n",
       "      <th>1</th>\n",
       "      <td>1743-12-01</td>\n",
       "      <td>NaN</td>\n",
       "      <td>NaN</td>\n",
       "      <td>Åland</td>\n",
       "    </tr>\n",
       "    <tr>\n",
       "      <th>2</th>\n",
       "      <td>1744-01-01</td>\n",
       "      <td>NaN</td>\n",
       "      <td>NaN</td>\n",
       "      <td>Åland</td>\n",
       "    </tr>\n",
       "    <tr>\n",
       "      <th>3</th>\n",
       "      <td>1744-02-01</td>\n",
       "      <td>NaN</td>\n",
       "      <td>NaN</td>\n",
       "      <td>Åland</td>\n",
       "    </tr>\n",
       "    <tr>\n",
       "      <th>4</th>\n",
       "      <td>1744-03-01</td>\n",
       "      <td>NaN</td>\n",
       "      <td>NaN</td>\n",
       "      <td>Åland</td>\n",
       "    </tr>\n",
       "  </tbody>\n",
       "</table>\n",
       "</div>"
      ],
      "text/plain": [
       "           dt  AverageTemperature  AverageTemperatureUncertainty Country\n",
       "0  1743-11-01               4.384                          2.294   Åland\n",
       "1  1743-12-01                 NaN                            NaN   Åland\n",
       "2  1744-01-01                 NaN                            NaN   Åland\n",
       "3  1744-02-01                 NaN                            NaN   Åland\n",
       "4  1744-03-01                 NaN                            NaN   Åland"
      ]
     },
     "execution_count": 3,
     "metadata": {},
     "output_type": "execute_result"
    }
   ],
   "source": [
    "document.head(5)"
   ]
  },
  {
   "cell_type": "markdown",
   "metadata": {
    "id": "VduNnDSMnILu"
   },
   "source": [
    "# Creating the Agent\n",
    "This is the easiest Agent we can create with LangChain, we only need to import the **create_pandas_dataframe_agent**."
   ]
  },
  {
   "cell_type": "markdown",
   "metadata": {
    "id": "bCGv4U6p1mcC"
   },
   "source": [
    "Time to create our little assistant, and we need only a call.\n",
    "\n",
    "We let **OpenAI** decide which model to use. However, we specify a **temperature** value of 0 to its parameter, so that it is not imaginative. This is much better when we want the model to be able to give commands to the different libraries it can use.\n",
    "\n"
   ]
  },
  {
   "cell_type": "code",
   "execution_count": 4,
   "metadata": {
    "id": "E9uDnPbWXCwb"
   },
   "outputs": [
    {
     "data": {
      "application/vnd.jupyter.widget-view+json": {
       "model_id": "861776de1b81420e986b29154b5c7226",
       "version_major": 2,
       "version_minor": 0
      },
      "text/plain": [
       "VBox(children=(Combobox(value='', description='Number:', options=('codellama:34b', 'mixtral', 'mistral', 'llam…"
      ]
     },
     "metadata": {},
     "output_type": "display_data"
    }
   ],
   "source": [
    "from langchain.agents.agent_types import AgentType\n",
    "from langchain_experimental.agents.agent_toolkits import create_pandas_dataframe_agent\n",
    "from langchain_community.llms import Ollama\n",
    "\n",
    "import ollama\n",
    "from utils import model_chooser\n",
    "chooser= model_chooser()"
   ]
  },
  {
   "cell_type": "code",
   "execution_count": 8,
   "metadata": {},
   "outputs": [],
   "source": [
    "llm = Ollama(model=chooser.Model.value)\n"
   ]
  },
  {
   "cell_type": "code",
   "execution_count": 9,
   "metadata": {
    "id": "VyTyzCXDTrGU"
   },
   "outputs": [],
   "source": [
    "sm_ds_OAI = create_pandas_dataframe_agent(\n",
    "    llm,\n",
    "    document,\n",
    "    verbose=True\n",
    ")"
   ]
  },
  {
   "cell_type": "markdown",
   "metadata": {
    "id": "25lfRzgDbS8S"
   },
   "source": [
    "## First Question."
   ]
  },
  {
   "cell_type": "code",
   "execution_count": null,
   "metadata": {
    "colab": {
     "base_uri": "https://localhost:8080/"
    },
    "id": "fTagQKYzUWF0",
    "outputId": "6d622634-2cfc-45a4-c478-176f9814175c"
   },
   "outputs": [
    {
     "name": "stdout",
     "output_type": "stream",
     "text": [
      "\n",
      "\n",
      "\u001b[1m> Entering new AgentExecutor chain...\u001b[0m\n"
     ]
    }
   ],
   "source": [
    "sm_ds_OAI.invoke(\"Analyze this data, and write a brief explanation around 100 words.\")"
   ]
  },
  {
   "cell_type": "code",
   "execution_count": null,
   "metadata": {
    "colab": {
     "base_uri": "https://localhost:8080/"
    },
    "id": "9EiLTOo2cB79",
    "outputId": "b8b2773a-0c00-4beb-97a9-65f9b4f4cf2e"
   },
   "outputs": [],
   "source": [
    "document.info()"
   ]
  },
  {
   "cell_type": "markdown",
   "metadata": {
    "id": "M6O3TZX7bB4j"
   },
   "source": [
    "The description of the data made by the Agent is acurated."
   ]
  },
  {
   "cell_type": "markdown",
   "metadata": {
    "id": "Cw1tU1OIbPrH"
   },
   "source": [
    "## Second Question."
   ]
  },
  {
   "cell_type": "code",
   "execution_count": null,
   "metadata": {
    "colab": {
     "base_uri": "https://localhost:8080/",
     "height": 1000
    },
    "id": "wCZaMyRuUfK7",
    "outputId": "9ac07fee-13a3-46cc-c620-3a4190e191d6"
   },
   "outputs": [],
   "source": [
    "sm_ds_OAI.run(\"Do you think is possible to forecast the temperature?\")\n"
   ]
  },
  {
   "cell_type": "markdown",
   "metadata": {
    "id": "80lvpAWpb8Ho"
   },
   "source": [
    "The model thinks that is possible to forecast the temperature, but difficult because the weak correlation between variables.\n",
    "\n",
    "I don't now why the model decided to create a graphic bar."
   ]
  },
  {
   "cell_type": "markdown",
   "metadata": {
    "id": "TOt76k0EM1yh"
   },
   "source": [
    "## Third question"
   ]
  },
  {
   "cell_type": "code",
   "execution_count": null,
   "metadata": {
    "colab": {
     "base_uri": "https://localhost:8080/",
     "height": 1000
    },
    "id": "UvE5a5N_yNxq",
    "outputId": "f452b77b-bb66-4b5b-e523-9b8ffa5dc714"
   },
   "outputs": [],
   "source": [
    "sm_ds_OAI.run(\"\"\"\n",
    "Can you create a line graph containing the anual average temperature changes  over the years?\n",
    "\"\"\")\n"
   ]
  },
  {
   "cell_type": "markdown",
   "metadata": {
    "id": "rDUvtWEScyfy"
   },
   "source": [
    "## Fourth question"
   ]
  },
  {
   "cell_type": "code",
   "execution_count": null,
   "metadata": {
    "colab": {
     "base_uri": "https://localhost:8080/",
     "height": 1000
    },
    "id": "R_9Lp3JZfHGn",
    "outputId": "24074c2e-4bf2-4e7b-984b-8a25442d110a"
   },
   "outputs": [],
   "source": [
    "sm_ds_OAI.run(\"\"\"\n",
    "Create a line graph with seaborn containing the anual average co2 emissions in Portugal over the years.\n",
    "\"\"\")"
   ]
  },
  {
   "cell_type": "markdown",
   "metadata": {
    "id": "xgcnGNkQdbax"
   },
   "source": [
    "## Last Question."
   ]
  },
  {
   "cell_type": "code",
   "execution_count": null,
   "metadata": {
    "colab": {
     "base_uri": "https://localhost:8080/"
    },
    "id": "uYtojJhberB4",
    "outputId": "aa629c99-cc34-456e-f5d2-9dfcb75bf8cd"
   },
   "outputs": [],
   "source": [
    "sm_ds_OAI.invoke(\"\"\"Select a forecasting model to forecast the temperature.\n",
    "Use this kind of model to forecast the average temperature\n",
    "for year in Port Maryberg in Malta for the next 5 years.\n",
    "Write the temperatures forecasted in a table.\"\"\")"
   ]
  },
  {
   "cell_type": "markdown",
   "metadata": {
    "id": "imMJW0r-er18"
   },
   "source": [
    "Note how the agent is capable of installing the necessary software for the actions it needs to perform."
   ]
  },
  {
   "cell_type": "markdown",
   "metadata": {
    "id": "o_o-i2BNXBe6"
   },
   "source": [
    "# Conclusions\n",
    "\n",
    "This is one of the most powerful and, at the same time, easiest to use agents. We have seen how with just a few lines of code, we had an agent capable of following our instructions to analyze, clean, and generate charts from our data. Not only that, but it has also been able to draw conclusions and even decide which algorithm was best for forecasting the data.\n",
    "\n",
    "The world of agents is just beginning, and many players are entering the field, such as Hugging Face, Microsoft, or Google. Their capabilities are not only growing with new tools but also with new language models.\n",
    "\n",
    "**It's a revolution that we cannot afford to miss and will change many things.**"
   ]
  }
 ],
 "metadata": {
  "colab": {
   "gpuType": "T4",
   "include_colab_link": true,
   "machine_shape": "hm",
   "provenance": []
  },
  "kernelspec": {
   "display_name": "Python (llm)",
   "language": "python",
   "name": "llm"
  },
  "language_info": {
   "codemirror_mode": {
    "name": "ipython",
    "version": 3
   },
   "file_extension": ".py",
   "mimetype": "text/x-python",
   "name": "python",
   "nbconvert_exporter": "python",
   "pygments_lexer": "ipython3",
   "version": "3.12.2"
  }
 },
 "nbformat": 4,
 "nbformat_minor": 4
}
