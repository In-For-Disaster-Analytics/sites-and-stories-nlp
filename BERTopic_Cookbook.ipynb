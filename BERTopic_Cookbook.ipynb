{
 "cells": [
  {
   "cell_type": "markdown",
   "id": "1b59b281-8091-4c39-a26b-ad708d3eefaf",
   "metadata": {
    "tags": []
   },
   "source": [
    "# Tutorials on Lonestar 6: BERTopic - Basic Model Construction"
   ]
  },
  {
   "cell_type": "markdown",
   "id": "df1be1bf-e371-45c3-bc3a-8f5ecce8c4c8",
   "metadata": {
    "tags": []
   },
   "source": [
    "BERTopic is a powerful package utilizing transformers and c-TF-IDF in a sequential (and customizable) pipeline to cluster language for interpretable word-group topic extraction. When LLMs are used in an optional final step, this takes the word based groupings and the underlying documents they were derived from to produce readible English language topic descriptions. \n",
    "\n",
    "If you are new to BERTopic, we strongly recommend that you at least read over the description in the [documentation](https://maartengr.github.io/BERTopic/index.html) of the [underlying algorithm](https://maartengr.github.io/BERTopic/algorithm/algorithm.html) to understand the steps in the BERTopic pipeline and the options available.  The rest of the package documentation provides fuller discussion of all the pieces and models options availalbe. "
   ]
  },
  {
   "cell_type": "markdown",
   "id": "4ebaaa6f-b726-4848-a4d9-3fbde1bed23f",
   "metadata": {},
   "source": [
    "## Load necessary Libraries\n",
    "\n",
    "### General Operating Libraries and UI/UX parts"
   ]
  },
  {
   "cell_type": "code",
   "execution_count": 7,
   "id": "edefc2c3-733b-483c-b9a4-90f86382876b",
   "metadata": {
    "tags": []
   },
   "outputs": [],
   "source": [
    "import os\n",
    "import logging\n",
    "import sys\n",
    "\n",
    "from IPython.display import Markdown, display\n",
    "\n",
    "# Provides UI/UX widgets within Notebook\n",
    "import ipywidgets as widgets\n",
    "from ipywidgets import Layout, Button, Box"
   ]
  },
  {
   "cell_type": "markdown",
   "id": "dd2b80ba-9c45-463b-b6ff-8ed30469d9ca",
   "metadata": {},
   "source": [
    "### Set notebook configuration options \n",
    "These parameters do not impact the BERTopic model, but rather how elements are displayed in this notebook."
   ]
  },
  {
   "cell_type": "code",
   "execution_count": 8,
   "id": "0cfbfcc5-81b6-474b-b953-79bab4c07974",
   "metadata": {
    "tags": []
   },
   "outputs": [],
   "source": [
    "# Layout Options for widgets\n",
    "items_layout = Layout( width='auto')\n",
    "\n",
    "items_style={'description_width': 'initial'}\n",
    "\n",
    "box_layout = Layout(display='flex',\n",
    "                    flex_flow='column',\n",
    "                    align_items='stretch',\n",
    "                    border='solid',\n",
    "                    width='50%')"
   ]
  },
  {
   "cell_type": "markdown",
   "id": "121f1cac-dbea-4655-bb21-652d62905b80",
   "metadata": {
    "tags": []
   },
   "source": [
    "## BERTopic Pipeline Overview\n",
    "The 'Detailed Overview' on ['The Algorithm']((https://maartengr.github.io/BERTopic/algorithm/algorithm.html)) page linked above provides a detailed description of each step below. Each step in the process is highly customizable, and gives the user the option for switching different models at each step. The following list just provides a quick overview of hte default options for each step.\n",
    "\n",
    "1) **Extract mathematical embeddings from documents**\n",
    "    * Default model for English: [SentenceTransformers](https://www.sbert.net/) \"all-MiniLM-L6-v2\"\n",
    "    * Default multilingual model: \"paraphrase-multilingual-MiniLM-L12-v2\"  \n",
    "2) **Reduce Dimensionality**  \n",
    "   * Default: [UMAP](https://github.com/lmcinnes/umap)  \n",
    "   * Alternatives: [Guide](https://maartengr.github.io/BERTopic/getting_started/dim_reduction/dim_reduction.html) for choosing alternate options\n",
    "3) **Cluster reduced embeddings**\n",
    "    * Default: density-based clustering with [HDBSCAN](https://hdbscan.readthedocs.io/en/latest/how_hdbscan_works.html)    \n",
    "    * [Guide](https://maartengr.github.io/BERTopic/getting_started/clustering/clustering.html) for selecting alternative options\n",
    "4) **Vectorize topics**  \n",
    "    * English Default: CountVectorizer\n",
    "5) **Create Topic representations**  \n",
    "    * Default: c-TF-IDF.  Creates topic representation from bag-of-words matrix\n",
    "6) **Fine-tune the topic representations (optional)**\n",
    "    * no Default. this step can use a number of different models or LLMs to convert topic word list into English language sentences.  \n",
    "\n",
    "\n",
    "\n",
    "\n",
    "\n",
    "\n"
   ]
  },
  {
   "cell_type": "markdown",
   "id": "d5d966f2-f6fa-4187-93e2-5b56f245a641",
   "metadata": {},
   "source": [
    "## BERTopic Quick Start\n",
    "This section will follow the steps in the ['Quick Start'](https://maartengr.github.io/BERTopic/getting_started/quickstart/quickstart.html) section of the BERTopic documentation.\n",
    "\n",
    "In this section we will do the following:\n",
    "1) Load the example documents (here a dataset from scikit-learn)\n",
    "2) Construct the BERTopic model using all default models and fit the docs selected\n",
    "3) Examine & Visualize Results\n",
    "4) Fine-tune topic representations"
   ]
  },
  {
   "cell_type": "markdown",
   "id": "060e2cae-d37f-4819-af72-ee6c5050d0c7",
   "metadata": {},
   "source": [
    "### 1. Load Demo Data\n",
    "\n",
    "For this example workbook, we will use the same sklearn '20 newsgroups' dataset used in the BERTopic documentation in order to look at the various options for running the algorithim.  The documents are loaded, headers, footers and quotes removed, to generate a list of text strings.\n",
    "\n",
    "**A note on the definition of 'document'.**  \n",
    "In BERTopic a 'document' is generally a short chunk of text vs the entire text of longer pieces of information (articles, book chapters, etc.) that you might think of as a document.  For longer text, you will ingest the full text and break it into smaller chunks at a meaningful breakpoint (sentence, paragraph, etc.), and within a BERTopic context it is the smaller chunk of text that is considered a 'document', not the full length text it derives from."
   ]
  },
  {
   "cell_type": "code",
   "execution_count": 9,
   "id": "7399fac7-bbf9-4b0c-9e61-30aefd99a3c0",
   "metadata": {
    "tags": []
   },
   "outputs": [
    {
     "name": "stdout",
     "output_type": "stream",
     "text": [
      "CPU times: total: 1.72 s\n",
      "Wall time: 1.93 s\n"
     ]
    }
   ],
   "source": [
    "%%time \n",
    "from sklearn.datasets import fetch_20newsgroups\n",
    "\n",
    "docs = fetch_20newsgroups(subset='all',  remove=('headers', 'footers', 'quotes'))['data']"
   ]
  },
  {
   "cell_type": "code",
   "execution_count": 10,
   "id": "2c225122-1b0d-4297-8d8f-70ce338f2503",
   "metadata": {
    "tags": []
   },
   "outputs": [
    {
     "data": {
      "text/plain": [
       "\"\\n\\nI am sure some bashers of Pens fans are pretty confused about the lack\\nof any kind of posts about the recent Pens massacre of the Devils. Actually,\\nI am  bit puzzled too and a bit relieved. However, I am going to put an end\\nto non-PIttsburghers' relief with a bit of praise for the Pens. Man, they\\nare killing those Devils worse than I thought. Jagr just showed you why\\nhe is much better than his regular season stats. He is also a lot\\nfo fun to watch in the playoffs. Bowman should let JAgr have a lot of\\nfun in the next couple of games since the Pens are going to beat the pulp out of Jersey anyway. I was very disappointed not to see the Islanders lose the final\\nregular season game.          PENS RULE!!!\\n\\n\""
      ]
     },
     "execution_count": 10,
     "metadata": {},
     "output_type": "execute_result"
    }
   ],
   "source": [
    "# Example of the first item in the documents list\n",
    "docs[0]"
   ]
  },
  {
   "cell_type": "code",
   "execution_count": 11,
   "id": "bbcd1b78-bd27-47da-9470-4bdfadc49073",
   "metadata": {
    "tags": []
   },
   "outputs": [],
   "source": [
    "## add option to pull in own list of documents from $SCRATCH"
   ]
  },
  {
   "cell_type": "markdown",
   "id": "fda0769b-3a69-4324-8074-a72778674149",
   "metadata": {},
   "source": [
    "### 2. Construct and Fit BERTopic Model"
   ]
  },
  {
   "cell_type": "markdown",
   "id": "2f52d18e-6bce-45b0-96c0-f4e6845aa4bd",
   "metadata": {},
   "source": [
    "Configure the BERTopic model as desired.  For this first example we are simply using all the default options, so this is as straightforward as calling the model construction function and assigning it a name.  We will use the configuration setting 'verbose=True' to give some insight into the loading process, as this can take some time and this provides some insight while the model is fitting."
   ]
  },
  {
   "cell_type": "code",
   "execution_count": 13,
   "id": "ca76339e-2159-4c3a-9db6-02bd8a1a5be0",
   "metadata": {
    "tags": []
   },
   "outputs": [
    {
     "name": "stdout",
     "output_type": "stream",
     "text": [
      "CPU times: total: 0 ns\n",
      "Wall time: 0 ns\n"
     ]
    }
   ],
   "source": [
    "%%time\n",
    "from bertopic import BERTopic"
   ]
  },
  {
   "cell_type": "code",
   "execution_count": 14,
   "id": "261f257a-6a7a-4482-a347-db15594939d9",
   "metadata": {
    "tags": []
   },
   "outputs": [],
   "source": [
    "base_topic_model = BERTopic(verbose=True)"
   ]
  },
  {
   "cell_type": "markdown",
   "id": "36f2a5ae-9852-442c-97c2-828eaeafa88b",
   "metadata": {},
   "source": [
    "Fit the documents using the model generated. \n",
    "\n",
    "**Please be patient as this may take a long time.**"
   ]
  },
  {
   "cell_type": "code",
   "execution_count": 15,
   "id": "99de67f8-3602-40b1-975b-2cdf27a202ac",
   "metadata": {
    "tags": []
   },
   "outputs": [
    {
     "data": {
      "application/vnd.jupyter.widget-view+json": {
       "model_id": "fb180e8e9fa94bc2a30df3b4a126f0f8",
       "version_major": 2,
       "version_minor": 0
      },
      "text/plain": [
       "Batches:   0%|          | 0/589 [00:00<?, ?it/s]"
      ]
     },
     "metadata": {},
     "output_type": "display_data"
    },
    {
     "name": "stderr",
     "output_type": "stream",
     "text": [
      "2024-01-10 15:05:28,946 - BERTopic - Transformed documents to Embeddings\n",
      "2024-01-10 15:06:59,696 - BERTopic - Reduced dimensionality\n",
      "2024-01-10 15:07:06,163 - BERTopic - Clustered reduced embeddings\n"
     ]
    },
    {
     "name": "stdout",
     "output_type": "stream",
     "text": [
      "CPU times: total: 1h 3min 30s\n",
      "Wall time: 1h 4min 13s\n"
     ]
    }
   ],
   "source": [
    "%%time\n",
    "base_topics, base_probs = base_topic_model.fit_transform(docs)"
   ]
  },
  {
   "cell_type": "markdown",
   "id": "44d2b0b2-999f-4c1a-b9ac-b75fee64ab5f",
   "metadata": {},
   "source": [
    "We can now look at information on the most freqeuent topics identified. Topic -1 pulls together all the outliers and is generally ignored. "
   ]
  },
  {
   "cell_type": "code",
   "execution_count": 16,
   "id": "c4ec51d9-7a17-4ab8-b165-81cfce53097d",
   "metadata": {
    "tags": []
   },
   "outputs": [
    {
     "data": {
      "text/html": [
       "<div>\n",
       "<style scoped>\n",
       "    .dataframe tbody tr th:only-of-type {\n",
       "        vertical-align: middle;\n",
       "    }\n",
       "\n",
       "    .dataframe tbody tr th {\n",
       "        vertical-align: top;\n",
       "    }\n",
       "\n",
       "    .dataframe thead th {\n",
       "        text-align: right;\n",
       "    }\n",
       "</style>\n",
       "<table border=\"1\" class=\"dataframe\">\n",
       "  <thead>\n",
       "    <tr style=\"text-align: right;\">\n",
       "      <th></th>\n",
       "      <th>Topic</th>\n",
       "      <th>Count</th>\n",
       "      <th>Name</th>\n",
       "      <th>Representation</th>\n",
       "      <th>Representative_Docs</th>\n",
       "    </tr>\n",
       "  </thead>\n",
       "  <tbody>\n",
       "    <tr>\n",
       "      <th>0</th>\n",
       "      <td>-1</td>\n",
       "      <td>6494</td>\n",
       "      <td>-1_to_the_is_of</td>\n",
       "      <td>[to, the, is, of, and, you, it, for, in, that]</td>\n",
       "      <td>[(This is a continuation of an earlier post)\\n...</td>\n",
       "    </tr>\n",
       "    <tr>\n",
       "      <th>1</th>\n",
       "      <td>0</td>\n",
       "      <td>1838</td>\n",
       "      <td>0_game_team_games_he</td>\n",
       "      <td>[game, team, games, he, players, season, hocke...</td>\n",
       "      <td>[\\nNo.  Patrick Roy is the reason the game was...</td>\n",
       "    </tr>\n",
       "    <tr>\n",
       "      <th>2</th>\n",
       "      <td>1</td>\n",
       "      <td>590</td>\n",
       "      <td>1_key_clipper_chip_encryption</td>\n",
       "      <td>[key, clipper, chip, encryption, keys, escrow,...</td>\n",
       "      <td>[\\nI am not an expert in the cryptography scie...</td>\n",
       "    </tr>\n",
       "    <tr>\n",
       "      <th>3</th>\n",
       "      <td>2</td>\n",
       "      <td>530</td>\n",
       "      <td>2_ites_hello_cheek_hi</td>\n",
       "      <td>[ites, hello, cheek, hi, yep, huh, ken, ignore...</td>\n",
       "      <td>[Hi,, Hello,, ites:]</td>\n",
       "    </tr>\n",
       "    <tr>\n",
       "      <th>4</th>\n",
       "      <td>3</td>\n",
       "      <td>454</td>\n",
       "      <td>3_drive_scsi_drives_ide</td>\n",
       "      <td>[drive, scsi, drives, ide, disk, controller, h...</td>\n",
       "      <td>[\\n[ First of all, please edit your postings. ...</td>\n",
       "    </tr>\n",
       "  </tbody>\n",
       "</table>\n",
       "</div>"
      ],
      "text/plain": [
       "   Topic  Count                           Name  \\\n",
       "0     -1   6494                -1_to_the_is_of   \n",
       "1      0   1838           0_game_team_games_he   \n",
       "2      1    590  1_key_clipper_chip_encryption   \n",
       "3      2    530          2_ites_hello_cheek_hi   \n",
       "4      3    454        3_drive_scsi_drives_ide   \n",
       "\n",
       "                                      Representation  \\\n",
       "0     [to, the, is, of, and, you, it, for, in, that]   \n",
       "1  [game, team, games, he, players, season, hocke...   \n",
       "2  [key, clipper, chip, encryption, keys, escrow,...   \n",
       "3  [ites, hello, cheek, hi, yep, huh, ken, ignore...   \n",
       "4  [drive, scsi, drives, ide, disk, controller, h...   \n",
       "\n",
       "                                 Representative_Docs  \n",
       "0  [(This is a continuation of an earlier post)\\n...  \n",
       "1  [\\nNo.  Patrick Roy is the reason the game was...  \n",
       "2  [\\nI am not an expert in the cryptography scie...  \n",
       "3                               [Hi,, Hello,, ites:]  \n",
       "4  [\\n[ First of all, please edit your postings. ...  "
      ]
     },
     "execution_count": 16,
     "metadata": {},
     "output_type": "execute_result"
    }
   ],
   "source": [
    "base_topic_model.get_topic_info().head()"
   ]
  },
  {
   "cell_type": "code",
   "execution_count": 12,
   "id": "fcedb2ae-48d2-4282-ac44-892ecbe9433b",
   "metadata": {},
   "outputs": [],
   "source": [
    "## Save Model"
   ]
  },
  {
   "cell_type": "code",
   "execution_count": 17,
   "id": "ba660f04-2014-4ebb-99aa-5b1378458f8a",
   "metadata": {},
   "outputs": [],
   "source": [
    "# Method 1 - safetensors\n",
    "embedding_model = \"sentence-transformers/all-MiniLM-L6-v2\"\n",
    "base_topic_model.save(\"models\", serialization=\"safetensors\", save_ctfidf=True, save_embedding_model=embedding_model)\n"
   ]
  },
  {
   "cell_type": "code",
   "execution_count": 5,
   "id": "ba19fc0d-0609-4113-8247-ee066b6cc452",
   "metadata": {},
   "outputs": [],
   "source": [
    "# Load model\n",
    "base_saved = BERTopic.load(\"models/base_topic_model\")"
   ]
  },
  {
   "cell_type": "code",
   "execution_count": 6,
   "id": "511d9e3c-8df9-411c-8e7c-38d28f9098cc",
   "metadata": {
    "tags": []
   },
   "outputs": [
    {
     "data": {
      "text/html": [
       "<div>\n",
       "<style scoped>\n",
       "    .dataframe tbody tr th:only-of-type {\n",
       "        vertical-align: middle;\n",
       "    }\n",
       "\n",
       "    .dataframe tbody tr th {\n",
       "        vertical-align: top;\n",
       "    }\n",
       "\n",
       "    .dataframe thead th {\n",
       "        text-align: right;\n",
       "    }\n",
       "</style>\n",
       "<table border=\"1\" class=\"dataframe\">\n",
       "  <thead>\n",
       "    <tr style=\"text-align: right;\">\n",
       "      <th></th>\n",
       "      <th>Topic</th>\n",
       "      <th>Count</th>\n",
       "      <th>Name</th>\n",
       "      <th>Representation</th>\n",
       "      <th>Representative_Docs</th>\n",
       "    </tr>\n",
       "  </thead>\n",
       "  <tbody>\n",
       "    <tr>\n",
       "      <th>0</th>\n",
       "      <td>-1</td>\n",
       "      <td>6505</td>\n",
       "      <td>-1_to_the_and_of</td>\n",
       "      <td>[to, the, and, of, is, in, for, you, it, that]</td>\n",
       "      <td>NaN</td>\n",
       "    </tr>\n",
       "    <tr>\n",
       "      <th>1</th>\n",
       "      <td>0</td>\n",
       "      <td>1828</td>\n",
       "      <td>0_game_team_games_he</td>\n",
       "      <td>[game, team, games, he, players, season, hocke...</td>\n",
       "      <td>NaN</td>\n",
       "    </tr>\n",
       "    <tr>\n",
       "      <th>2</th>\n",
       "      <td>1</td>\n",
       "      <td>575</td>\n",
       "      <td>1_key_clipper_chip_encryption</td>\n",
       "      <td>[key, clipper, chip, encryption, keys, escrow,...</td>\n",
       "      <td>NaN</td>\n",
       "    </tr>\n",
       "    <tr>\n",
       "      <th>3</th>\n",
       "      <td>2</td>\n",
       "      <td>527</td>\n",
       "      <td>2_ites_cheek_yep_huh</td>\n",
       "      <td>[ites, cheek, yep, huh, ken, forget, why, lets...</td>\n",
       "      <td>NaN</td>\n",
       "    </tr>\n",
       "    <tr>\n",
       "      <th>4</th>\n",
       "      <td>3</td>\n",
       "      <td>467</td>\n",
       "      <td>3_israel_israeli_jews_arab</td>\n",
       "      <td>[israel, israeli, jews, arab, jewish, arabs, p...</td>\n",
       "      <td>NaN</td>\n",
       "    </tr>\n",
       "  </tbody>\n",
       "</table>\n",
       "</div>"
      ],
      "text/plain": [
       "   Topic  Count                           Name  \\\n",
       "0     -1   6505               -1_to_the_and_of   \n",
       "1      0   1828           0_game_team_games_he   \n",
       "2      1    575  1_key_clipper_chip_encryption   \n",
       "3      2    527           2_ites_cheek_yep_huh   \n",
       "4      3    467     3_israel_israeli_jews_arab   \n",
       "\n",
       "                                      Representation  Representative_Docs  \n",
       "0     [to, the, and, of, is, in, for, you, it, that]                  NaN  \n",
       "1  [game, team, games, he, players, season, hocke...                  NaN  \n",
       "2  [key, clipper, chip, encryption, keys, escrow,...                  NaN  \n",
       "3  [ites, cheek, yep, huh, ken, forget, why, lets...                  NaN  \n",
       "4  [israel, israeli, jews, arab, jewish, arabs, p...                  NaN  "
      ]
     },
     "execution_count": 6,
     "metadata": {},
     "output_type": "execute_result"
    }
   ],
   "source": [
    "base_saved.get_topic_info().head()"
   ]
  },
  {
   "cell_type": "code",
   "execution_count": null,
   "id": "017b722e-99d3-4189-ac0f-7180f44b0a07",
   "metadata": {},
   "outputs": [],
   "source": []
  },
  {
   "cell_type": "code",
   "execution_count": null,
   "id": "e3bdc3c8-9c86-48f0-b3fc-072511e58107",
   "metadata": {},
   "outputs": [],
   "source": []
  },
  {
   "cell_type": "code",
   "execution_count": null,
   "id": "461225be-4e63-446a-9186-70e93702abc3",
   "metadata": {},
   "outputs": [],
   "source": []
  },
  {
   "cell_type": "markdown",
   "id": "31297eca-758b-4c98-829c-4890beb402d6",
   "metadata": {},
   "source": [
    "### Modifying for consistency\n",
    "Running the model again with the exact same default inputs we see an issue: the results are not guaranteed to be consistent.  The basis for this is the UMAP model "
   ]
  },
  {
   "cell_type": "code",
   "execution_count": null,
   "id": "61258f15-21a5-4b6d-a5ac-9371ec83fc48",
   "metadata": {
    "tags": []
   },
   "outputs": [],
   "source": [
    "base_topic_model_2 = BERTopic()\n",
    "base_topics2, base_probs2 = base_topic_model_2.fit_transform(docs)"
   ]
  },
  {
   "cell_type": "code",
   "execution_count": null,
   "id": "cf70f085-d2c8-43d9-98ad-95126505bed4",
   "metadata": {},
   "outputs": [],
   "source": [
    "base_topic_model_2.get_topic_info().head()"
   ]
  },
  {
   "cell_type": "code",
   "execution_count": 114,
   "id": "455cdd24-2990-4751-8b76-3ab2f4309ee2",
   "metadata": {
    "tags": []
   },
   "outputs": [
    {
     "data": {
      "text/html": [
       "<div>\n",
       "<style scoped>\n",
       "    .dataframe tbody tr th:only-of-type {\n",
       "        vertical-align: middle;\n",
       "    }\n",
       "\n",
       "    .dataframe tbody tr th {\n",
       "        vertical-align: top;\n",
       "    }\n",
       "\n",
       "    .dataframe thead th {\n",
       "        text-align: right;\n",
       "    }\n",
       "</style>\n",
       "<table border=\"1\" class=\"dataframe\">\n",
       "  <thead>\n",
       "    <tr style=\"text-align: right;\">\n",
       "      <th></th>\n",
       "      <th>Topic</th>\n",
       "      <th>Count</th>\n",
       "      <th>Name</th>\n",
       "      <th>Representation</th>\n",
       "      <th>Representative_Docs</th>\n",
       "    </tr>\n",
       "  </thead>\n",
       "  <tbody>\n",
       "    <tr>\n",
       "      <th>0</th>\n",
       "      <td>-1</td>\n",
       "      <td>6636</td>\n",
       "      <td>-1_to_the_and_of</td>\n",
       "      <td>[to, the, and, of, is, you, for, it, in, that]</td>\n",
       "      <td>[\\nI'd like to field this one, if I may.  Alth...</td>\n",
       "    </tr>\n",
       "    <tr>\n",
       "      <th>1</th>\n",
       "      <td>0</td>\n",
       "      <td>1825</td>\n",
       "      <td>0_game_team_games_he</td>\n",
       "      <td>[game, team, games, he, players, season, hocke...</td>\n",
       "      <td>[Scoring stats for the Swedish NHL players, Ap...</td>\n",
       "    </tr>\n",
       "    <tr>\n",
       "      <th>2</th>\n",
       "      <td>1</td>\n",
       "      <td>615</td>\n",
       "      <td>1_key_clipper_chip_encryption</td>\n",
       "      <td>[key, clipper, chip, encryption, keys, escrow,...</td>\n",
       "      <td>[April 16, 1993\\n\\nINITIAL EFF ANALYSIS OF CLI...</td>\n",
       "    </tr>\n",
       "    <tr>\n",
       "      <th>3</th>\n",
       "      <td>2</td>\n",
       "      <td>531</td>\n",
       "      <td>2_idjits_ites_hello_cheek</td>\n",
       "      <td>[idjits, ites, hello, cheek, dancing, hi, yep,...</td>\n",
       "      <td>[Hello,, Hello,, \\nDancing With Idjits.\\n\\n\\n]</td>\n",
       "    </tr>\n",
       "    <tr>\n",
       "      <th>4</th>\n",
       "      <td>3</td>\n",
       "      <td>487</td>\n",
       "      <td>3_israel_israeli_jews_arab</td>\n",
       "      <td>[israel, israeli, jews, arab, jewish, arabs, p...</td>\n",
       "      <td>[From: Center for Policy Research &lt;cpr&gt;\\nSubje...</td>\n",
       "    </tr>\n",
       "  </tbody>\n",
       "</table>\n",
       "</div>"
      ],
      "text/plain": [
       "   Topic  Count                           Name  \\\n",
       "0     -1   6636               -1_to_the_and_of   \n",
       "1      0   1825           0_game_team_games_he   \n",
       "2      1    615  1_key_clipper_chip_encryption   \n",
       "3      2    531      2_idjits_ites_hello_cheek   \n",
       "4      3    487     3_israel_israeli_jews_arab   \n",
       "\n",
       "                                      Representation  \\\n",
       "0     [to, the, and, of, is, you, for, it, in, that]   \n",
       "1  [game, team, games, he, players, season, hocke...   \n",
       "2  [key, clipper, chip, encryption, keys, escrow,...   \n",
       "3  [idjits, ites, hello, cheek, dancing, hi, yep,...   \n",
       "4  [israel, israeli, jews, arab, jewish, arabs, p...   \n",
       "\n",
       "                                 Representative_Docs  \n",
       "0  [\\nI'd like to field this one, if I may.  Alth...  \n",
       "1  [Scoring stats for the Swedish NHL players, Ap...  \n",
       "2  [April 16, 1993\\n\\nINITIAL EFF ANALYSIS OF CLI...  \n",
       "3     [Hello,, Hello,, \\nDancing With Idjits.\\n\\n\\n]  \n",
       "4  [From: Center for Policy Research <cpr>\\nSubje...  "
      ]
     },
     "execution_count": 114,
     "metadata": {},
     "output_type": "execute_result"
    }
   ],
   "source": [
    "base_topic_model.get_topic_info().head()"
   ]
  },
  {
   "cell_type": "code",
   "execution_count": null,
   "id": "69633cbb-8ce7-4663-8a4a-d649a3739589",
   "metadata": {},
   "outputs": [],
   "source": []
  },
  {
   "cell_type": "code",
   "execution_count": null,
   "id": "7fc6e616-e3ec-4462-8863-728c6c9fa86c",
   "metadata": {},
   "outputs": [],
   "source": []
  },
  {
   "cell_type": "code",
   "execution_count": null,
   "id": "bcb2aff7-16ed-4147-bd1c-2f3498e02faa",
   "metadata": {},
   "outputs": [],
   "source": []
  },
  {
   "cell_type": "code",
   "execution_count": null,
   "id": "84219758-064a-4ec3-973e-d0e9964ad5c1",
   "metadata": {},
   "outputs": [],
   "source": []
  },
  {
   "cell_type": "code",
   "execution_count": 88,
   "id": "d4eda5cb-1d2d-44cf-b40f-6b590cd3b50d",
   "metadata": {
    "tags": []
   },
   "outputs": [],
   "source": [
    "embedding_dd = widgets.Dropdown(options=embedding_options, description='Embedding Model:', layout=items_layout, style=items_style)\n",
    "dimensionality_dd = widgets.Dropdown(options=dimensionality_options, description='Dimenstionality Reduction:', layout=items_layout, style=items_style)\n",
    "cluster_dd = widgets.Dropdown(options=['all-MiniLM-L6-v2'], description='Clustering:', layout=items_layout, style=items_style)\n",
    "tokenizer_dd = widgets.Dropdown(options=['all-MiniLM-L6-v2'], description='Tokenizer:', layout=items_layout, style=items_style)\n",
    "topic_representation = widgets.Dropdown(options=['all-MiniLM-L6-v2'], description='Topic Representation:', layout=items_layout, style=items_style)"
   ]
  },
  {
   "cell_type": "code",
   "execution_count": 89,
   "id": "c27401bc-ab5e-44f4-a225-1cbe720fc3f4",
   "metadata": {
    "tags": []
   },
   "outputs": [],
   "source": [
    "items = [embedding_dd, dimensionality_dd, cluster_dd, tokenizer_dd, topic_representation]"
   ]
  },
  {
   "cell_type": "code",
   "execution_count": 90,
   "id": "e44121dd-0ba0-43c2-bde2-762c330ed94d",
   "metadata": {
    "tags": []
   },
   "outputs": [
    {
     "data": {
      "application/vnd.jupyter.widget-view+json": {
       "model_id": "d64d95fa154a4d5698ded5c7362f22d4",
       "version_major": 2,
       "version_minor": 0
      },
      "text/plain": [
       "Box(children=(Dropdown(description='Embedding Model:', layout=Layout(width='auto'), options=(('English: all-Mi…"
      ]
     },
     "execution_count": 90,
     "metadata": {},
     "output_type": "execute_result"
    }
   ],
   "source": [
    "\n",
    "\n",
    "Box(children=items, layout=box_layout)"
   ]
  },
  {
   "cell_type": "code",
   "execution_count": 85,
   "id": "1ad17ffa-3a51-481f-b28b-e19ee7892528",
   "metadata": {
    "tags": []
   },
   "outputs": [],
   "source": [
    "# Dimensionality\n",
    "dimensionality_options = [\n",
    "    \"UMAP\"\n",
    "]\n",
    "dimensionality_dd = widgets.Dropdown(options=dimensionality_options, description='Dimenstionality Reduction:', style={'description_width': 'initial'})"
   ]
  },
  {
   "cell_type": "code",
   "execution_count": 53,
   "id": "ce17dfc6-9ae0-4c64-a834-0ae31c41aeb6",
   "metadata": {
    "tags": []
   },
   "outputs": [
    {
     "data": {
      "application/vnd.jupyter.widget-view+json": {
       "model_id": "dd13e30306d046f9965be6a0c9d5273b",
       "version_major": 2,
       "version_minor": 0
      },
      "text/plain": [
       "Dropdown(description='Dimenstionality Reduction:', options=('UMAP',), style=DescriptionStyle(description_width…"
      ]
     },
     "execution_count": 53,
     "metadata": {},
     "output_type": "execute_result"
    }
   ],
   "source": [
    "dimensionality_dd"
   ]
  },
  {
   "cell_type": "markdown",
   "id": "f9692b71-3b38-4058-86e9-c1edd532c53d",
   "metadata": {},
   "source": []
  },
  {
   "cell_type": "markdown",
   "id": "406359e8-6489-48e8-b3f4-4d6145829ef1",
   "metadata": {},
   "source": []
  },
  {
   "cell_type": "code",
   "execution_count": null,
   "id": "3e4d3f86-340f-42b1-b882-37bbac7e8051",
   "metadata": {},
   "outputs": [],
   "source": []
  },
  {
   "cell_type": "code",
   "execution_count": null,
   "id": "a8f9b828-c18c-4103-af9c-6bc17f934a65",
   "metadata": {},
   "outputs": [],
   "source": []
  },
  {
   "cell_type": "code",
   "execution_count": null,
   "id": "8b30b67d-575e-4282-8ae8-123ee153dec4",
   "metadata": {},
   "outputs": [],
   "source": []
  },
  {
   "cell_type": "code",
   "execution_count": 10,
   "id": "db8b197c-2058-43e3-8e86-27c20883b9ca",
   "metadata": {
    "tags": []
   },
   "outputs": [],
   "source": [
    "class EmbeddingModel:\n",
    "    def __init__(self):\n",
    "        \n",
    "class Dimensionality:\n",
    "    def __init__(self):\n",
    "        \n",
    "class Clustering:\n",
    "    def __init__(self):      \n",
    "        \n",
    "class Tokenizer:\n",
    "    def __init__(self):     \n",
    "        \n",
    "class Weighting:\n",
    "    def __init__(self):            \n",
    "\n",
    "class BERTopicModel:\n",
    "    def __init__(self):\n",
    "        self.button = widgets.Button(\n",
    "            description='Build model algorithm',\n",
    "            disabled=False,\n",
    "            button_style='',\n",
    "            tooltip='Create',\n",
    "            icon='check'\n",
    "        )"
   ]
  },
  {
   "cell_type": "markdown",
   "id": "ceafd436-b6ee-4b94-9b69-33ae44b68005",
   "metadata": {
    "tags": []
   },
   "source": [
    "### BERTopic libraries"
   ]
  },
  {
   "cell_type": "code",
   "execution_count": 6,
   "id": "27f0ca7d-f82a-42f8-bd3f-6e573e68d81d",
   "metadata": {
    "tags": []
   },
   "outputs": [],
   "source": [
    "from bertopic import BERTopic"
   ]
  },
  {
   "cell_type": "code",
   "execution_count": 11,
   "id": "4f3ed58d-2e4b-4594-b567-ff3b684057d3",
   "metadata": {
    "tags": []
   },
   "outputs": [
    {
     "data": {
      "text/plain": [
       "(Dropdown(options=(), value=None),)"
      ]
     },
     "execution_count": 11,
     "metadata": {},
     "output_type": "execute_result"
    }
   ],
   "source": [
    "BERTopicModel().embedding"
   ]
  },
  {
   "cell_type": "code",
   "execution_count": null,
   "id": "53e26379-6e6b-4600-9ff1-9e0a11b722b3",
   "metadata": {},
   "outputs": [],
   "source": []
  },
  {
   "cell_type": "code",
   "execution_count": 2,
   "id": "b612fbee-3d49-4999-8762-b36bc8cbfa2d",
   "metadata": {
    "tags": []
   },
   "outputs": [],
   "source": [
    "# Bertopic Model Parameter widgets\n",
    "sex_widget = widgets.Dropdown(options=['MALE', 'FEMALE'], description='Sex:')"
   ]
  },
  {
   "cell_type": "code",
   "execution_count": 3,
   "id": "50993bf6-e3b8-4867-b4fe-8e79c427a7fc",
   "metadata": {
    "tags": []
   },
   "outputs": [
    {
     "data": {
      "application/vnd.jupyter.widget-view+json": {
       "model_id": "d6edfaa521914bafac3192606afa62ca",
       "version_major": 2,
       "version_minor": 0
      },
      "text/plain": [
       "Dropdown(description='Sex:', options=('MALE', 'FEMALE'), value='MALE')"
      ]
     },
     "execution_count": 3,
     "metadata": {},
     "output_type": "execute_result"
    }
   ],
   "source": [
    "sex_widget"
   ]
  },
  {
   "cell_type": "code",
   "execution_count": null,
   "id": "9e897092-9a3e-458d-983a-6bbf4d294e54",
   "metadata": {},
   "outputs": [],
   "source": []
  }
 ],
 "metadata": {
  "kernelspec": {
   "display_name": "BERT",
   "language": "python",
   "name": "bert"
  },
  "language_info": {
   "codemirror_mode": {
    "name": "ipython",
    "version": 3
   },
   "file_extension": ".py",
   "mimetype": "text/x-python",
   "name": "python",
   "nbconvert_exporter": "python",
   "pygments_lexer": "ipython3",
   "version": "3.10.13"
  }
 },
 "nbformat": 4,
 "nbformat_minor": 5
}
