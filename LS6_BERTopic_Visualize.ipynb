{
 "cells": [
  {
   "cell_type": "code",
   "execution_count": 1,
   "id": "c92cc9a7-97d2-41aa-b891-85ac94c74f56",
   "metadata": {
    "tags": []
   },
   "outputs": [],
   "source": [
    "import os\n",
    "import logging\n",
    "import sys\n",
    "\n",
    "from IPython.display import Markdown, display\n",
    "\n",
    "# Provides UI/UX widgets within Notebook\n",
    "import ipywidgets as widgets\n",
    "from ipywidgets import Layout, Button, Box"
   ]
  },
  {
   "cell_type": "markdown",
   "id": "ad777e1c-9721-42e7-a851-a49543b105d8",
   "metadata": {},
   "source": [
    "For time savings, pre loaded the sklearn 20newsgroups dataset and ran the default setup of BERTopic (see other cookbook.)\n",
    "\n",
    "We will load this model and look at the results, visualize the results, and explore options for modifying the topic representations.\n",
    "\n",
    "### Load pre-run model"
   ]
  },
  {
   "cell_type": "code",
   "execution_count": 1,
   "id": "fa2c5d26-13cc-485a-911d-c2cae64ea958",
   "metadata": {
    "tags": []
   },
   "outputs": [],
   "source": [
    "from bertopic import BERTopic\n",
    "\n",
    "model_location = \"20newsgroups/base_topic_model\"\n",
    "\n",
    "base_topic_model = BERTopic.load(model_location)"
   ]
  },
  {
   "cell_type": "markdown",
   "id": "e3bb88fd-2a7c-4dff-b7df-4af3ad89a463",
   "metadata": {},
   "source": [
    "### See topics"
   ]
  },
  {
   "cell_type": "code",
   "execution_count": 2,
   "id": "d0109c12-fdf3-4f58-a674-fa95b4ee8090",
   "metadata": {
    "tags": []
   },
   "outputs": [
    {
     "data": {
      "text/html": [
       "<div>\n",
       "<style scoped>\n",
       "    .dataframe tbody tr th:only-of-type {\n",
       "        vertical-align: middle;\n",
       "    }\n",
       "\n",
       "    .dataframe tbody tr th {\n",
       "        vertical-align: top;\n",
       "    }\n",
       "\n",
       "    .dataframe thead th {\n",
       "        text-align: right;\n",
       "    }\n",
       "</style>\n",
       "<table border=\"1\" class=\"dataframe\">\n",
       "  <thead>\n",
       "    <tr style=\"text-align: right;\">\n",
       "      <th></th>\n",
       "      <th>Topic</th>\n",
       "      <th>Count</th>\n",
       "      <th>Name</th>\n",
       "      <th>Representation</th>\n",
       "      <th>Representative_Docs</th>\n",
       "    </tr>\n",
       "  </thead>\n",
       "  <tbody>\n",
       "    <tr>\n",
       "      <th>0</th>\n",
       "      <td>-1</td>\n",
       "      <td>6505</td>\n",
       "      <td>-1_to_the_and_of</td>\n",
       "      <td>[to, the, and, of, is, in, for, you, it, that]</td>\n",
       "      <td>NaN</td>\n",
       "    </tr>\n",
       "    <tr>\n",
       "      <th>1</th>\n",
       "      <td>0</td>\n",
       "      <td>1828</td>\n",
       "      <td>0_game_team_games_he</td>\n",
       "      <td>[game, team, games, he, players, season, hocke...</td>\n",
       "      <td>NaN</td>\n",
       "    </tr>\n",
       "    <tr>\n",
       "      <th>2</th>\n",
       "      <td>1</td>\n",
       "      <td>575</td>\n",
       "      <td>1_key_clipper_chip_encryption</td>\n",
       "      <td>[key, clipper, chip, encryption, keys, escrow,...</td>\n",
       "      <td>NaN</td>\n",
       "    </tr>\n",
       "    <tr>\n",
       "      <th>3</th>\n",
       "      <td>2</td>\n",
       "      <td>527</td>\n",
       "      <td>2_ites_cheek_yep_huh</td>\n",
       "      <td>[ites, cheek, yep, huh, ken, forget, why, lets...</td>\n",
       "      <td>NaN</td>\n",
       "    </tr>\n",
       "    <tr>\n",
       "      <th>4</th>\n",
       "      <td>3</td>\n",
       "      <td>467</td>\n",
       "      <td>3_israel_israeli_jews_arab</td>\n",
       "      <td>[israel, israeli, jews, arab, jewish, arabs, p...</td>\n",
       "      <td>NaN</td>\n",
       "    </tr>\n",
       "    <tr>\n",
       "      <th>...</th>\n",
       "      <td>...</td>\n",
       "      <td>...</td>\n",
       "      <td>...</td>\n",
       "      <td>...</td>\n",
       "      <td>...</td>\n",
       "    </tr>\n",
       "    <tr>\n",
       "      <th>202</th>\n",
       "      <td>201</td>\n",
       "      <td>10</td>\n",
       "      <td>201_answer_enterprises_colonies_taxpayers</td>\n",
       "      <td>[answer, enterprises, colonies, taxpayers, pro...</td>\n",
       "      <td>NaN</td>\n",
       "    </tr>\n",
       "    <tr>\n",
       "      <th>203</th>\n",
       "      <td>202</td>\n",
       "      <td>10</td>\n",
       "      <td>202_istanbul_ve_ankara_osmanli</td>\n",
       "      <td>[istanbul, ve, ankara, osmanli, ermeni, armeni...</td>\n",
       "      <td>NaN</td>\n",
       "    </tr>\n",
       "    <tr>\n",
       "      <th>204</th>\n",
       "      <td>203</td>\n",
       "      <td>10</td>\n",
       "      <td>203_memory_shared_server_pixmaps</td>\n",
       "      <td>[memory, shared, server, pixmaps, xputimage, m...</td>\n",
       "      <td>NaN</td>\n",
       "    </tr>\n",
       "    <tr>\n",
       "      <th>205</th>\n",
       "      <td>204</td>\n",
       "      <td>10</td>\n",
       "      <td>204_quack_lyme_ld_patients</td>\n",
       "      <td>[quack, lyme, ld, patients, diseases, gordon, ...</td>\n",
       "      <td>NaN</td>\n",
       "    </tr>\n",
       "    <tr>\n",
       "      <th>206</th>\n",
       "      <td>205</td>\n",
       "      <td>10</td>\n",
       "      <td>205_list_bmw_boxer_message</td>\n",
       "      <td>[list, bmw, boxer, message, mta, subscribe, sp...</td>\n",
       "      <td>NaN</td>\n",
       "    </tr>\n",
       "  </tbody>\n",
       "</table>\n",
       "<p>207 rows × 5 columns</p>\n",
       "</div>"
      ],
      "text/plain": [
       "     Topic  Count                                       Name  \\\n",
       "0       -1   6505                           -1_to_the_and_of   \n",
       "1        0   1828                       0_game_team_games_he   \n",
       "2        1    575              1_key_clipper_chip_encryption   \n",
       "3        2    527                       2_ites_cheek_yep_huh   \n",
       "4        3    467                 3_israel_israeli_jews_arab   \n",
       "..     ...    ...                                        ...   \n",
       "202    201     10  201_answer_enterprises_colonies_taxpayers   \n",
       "203    202     10             202_istanbul_ve_ankara_osmanli   \n",
       "204    203     10           203_memory_shared_server_pixmaps   \n",
       "205    204     10                 204_quack_lyme_ld_patients   \n",
       "206    205     10                 205_list_bmw_boxer_message   \n",
       "\n",
       "                                        Representation  Representative_Docs  \n",
       "0       [to, the, and, of, is, in, for, you, it, that]                  NaN  \n",
       "1    [game, team, games, he, players, season, hocke...                  NaN  \n",
       "2    [key, clipper, chip, encryption, keys, escrow,...                  NaN  \n",
       "3    [ites, cheek, yep, huh, ken, forget, why, lets...                  NaN  \n",
       "4    [israel, israeli, jews, arab, jewish, arabs, p...                  NaN  \n",
       "..                                                 ...                  ...  \n",
       "202  [answer, enterprises, colonies, taxpayers, pro...                  NaN  \n",
       "203  [istanbul, ve, ankara, osmanli, ermeni, armeni...                  NaN  \n",
       "204  [memory, shared, server, pixmaps, xputimage, m...                  NaN  \n",
       "205  [quack, lyme, ld, patients, diseases, gordon, ...                  NaN  \n",
       "206  [list, bmw, boxer, message, mta, subscribe, sp...                  NaN  \n",
       "\n",
       "[207 rows x 5 columns]"
      ]
     },
     "execution_count": 2,
     "metadata": {},
     "output_type": "execute_result"
    }
   ],
   "source": [
    "base_topic_model.get_topic_info()"
   ]
  },
  {
   "cell_type": "code",
   "execution_count": null,
   "id": "010d3e9f-62ee-43f3-8f25-e88a3400bb37",
   "metadata": {},
   "outputs": [],
   "source": []
  }
 ],
 "metadata": {
  "kernelspec": {
   "display_name": "BERT",
   "language": "python",
   "name": "bert"
  },
  "language_info": {
   "codemirror_mode": {
    "name": "ipython",
    "version": 3
   },
   "file_extension": ".py",
   "mimetype": "text/x-python",
   "name": "python",
   "nbconvert_exporter": "python",
   "pygments_lexer": "ipython3",
   "version": "3.10.13"
  }
 },
 "nbformat": 4,
 "nbformat_minor": 5
}
