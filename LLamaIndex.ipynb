{
 "cells": [
  {
   "cell_type": "markdown",
   "id": "ac0f1330",
   "metadata": {},
   "source": [
    "## Llama Index and Llama 2 tutorial on Lonestar 6\n",
    "\n",
    "Llama2 is the Meta open source Large Language Model. LlamaIndex is a python library that connects data to the LLMs such as Llama2. This allows the user to quickly use their unstructured data as a basis for any chats or outputs. \n"
   ]
  },
  {
   "cell_type": "code",
   "execution_count": 25,
   "id": "3bbac77f",
   "metadata": {},
   "outputs": [
    {
     "name": "stderr",
     "output_type": "stream",
     "text": [
      "huggingface/tokenizers: The current process just got forked, after parallelism has already been used. Disabling parallelism to avoid deadlocks...\n",
      "To disable this warning, you can either:\n",
      "\t- Avoid using `tokenizers` before the fork if possible\n",
      "\t- Explicitly set the environment variable TOKENIZERS_PARALLELISM=(true | false)\n"
     ]
    },
    {
     "name": "stdout",
     "output_type": "stream",
     "text": [
      "Enabling notebook extension jupyter-js-widgets/extension...\r\n",
      "      - Validating: \u001b[32mOK\u001b[0m\r\n"
     ]
    }
   ],
   "source": [
    "from LLM_location import *\n",
    "import logging\n",
    "import sys\n",
    "!jupyter nbextension enable --py widgetsnbextension\n",
    "logging.basicConfig(stream=sys.stdout, level=logging.DEBUG)\n",
    "logging.getLogger().addHandler(logging.StreamHandler(stream=sys.stdout))"
   ]
  },
  {
   "cell_type": "markdown",
   "id": "a1ecfb9b",
   "metadata": {},
   "source": [
    "## Set your working directory\n",
    "Change your working directory to your Scratch location. This will improve performance, and ensure you have access to the model you rsynced earlier"
   ]
  },
  {
   "cell_type": "code",
   "execution_count": 26,
   "id": "0e2053af",
   "metadata": {},
   "outputs": [],
   "source": [
    "scratch = os.getenv('SCRATCH') \n",
    "os.chdir(scratch)"
   ]
  },
  {
   "cell_type": "markdown",
   "id": "9a717aa0",
   "metadata": {},
   "source": [
    "## Access the model\n",
    "Next we'll access the models. You have 4 models to access the 7 and 13billion parameters chat and normal model. The folder will also have access to the 70b parameter models; however, we have not tested their performance on the LS6 dev machines. \n",
    "\n"
   ]
  },
  {
   "cell_type": "markdown",
   "id": "eadbd70f",
   "metadata": {},
   "source": [
    "## Select Model\n",
    "For this script we will chose the Llama 2 13B parameter chat model. "
   ]
  },
  {
   "cell_type": "code",
   "execution_count": 27,
   "id": "cddcf1bb",
   "metadata": {},
   "outputs": [
    {
     "data": {
      "application/vnd.jupyter.widget-view+json": {
       "model_id": "0ae53ec6507c455b983fae185257532a",
       "version_major": 2,
       "version_minor": 0
      },
      "text/plain": [
       "Dropdown(description='Model:', index=3, options=('LLAMA2 7B', 'LLAMA2 7B CHAT', 'LLAMA2 13B', 'LLAMA2 13B CHAT…"
      ]
     },
     "metadata": {},
     "output_type": "display_data"
    },
    {
     "data": {
      "application/vnd.jupyter.widget-view+json": {
       "model_id": "2cbb7279d4e448269ca45e37d8d2bf5b",
       "version_major": 2,
       "version_minor": 0
      },
      "text/plain": [
       "Button(description='Load Model', icon='check', style=ButtonStyle(), tooltip='Submit')"
      ]
     },
     "metadata": {},
     "output_type": "display_data"
    },
    {
     "data": {
      "application/vnd.jupyter.widget-view+json": {
       "model_id": "f39448fc57c44279bb9547b076ef98e7",
       "version_major": 2,
       "version_minor": 0
      },
      "text/plain": [
       "Loading checkpoint shards:   0%|          | 0/3 [00:00<?, ?it/s]"
      ]
     },
     "metadata": {},
     "output_type": "display_data"
    }
   ],
   "source": [
    "model = LLM()"
   ]
  },
  {
   "cell_type": "markdown",
   "id": "5b3f46be",
   "metadata": {},
   "source": [
    "## Load the Model\n",
    "\n",
    "Next we'll load the model. If it can't find the model it will download it. "
   ]
  },
  {
   "cell_type": "code",
   "execution_count": 28,
   "id": "ab312748",
   "metadata": {},
   "outputs": [],
   "source": [
    "from ipyfilechooser import FileChooser # Documentation: https://github.com/crahan/ipyfilechooser\n",
    "from IPython.display import display\n",
    "fc=FileChooser('./')\n"
   ]
  },
  {
   "cell_type": "code",
   "execution_count": 29,
   "id": "d95f09fc-ea40-485a-bfc5-1c4c88516044",
   "metadata": {},
   "outputs": [
    {
     "data": {
      "application/vnd.jupyter.widget-view+json": {
       "model_id": "b993137ad956408899ee18522868d3c3",
       "version_major": 2,
       "version_minor": 0
      },
      "text/plain": [
       "FileChooser(path='/scratch/06659/wmobley', filename='', title='', show_hidden=False, select_desc='Select', cha…"
      ]
     },
     "metadata": {},
     "output_type": "display_data"
    },
    {
     "data": {
      "application/vnd.jupyter.widget-view+json": {
       "model_id": "e48310c8e9be45dd8657ec7272bea66b",
       "version_major": 2,
       "version_minor": 0
      },
      "text/plain": [
       "Button(description='Choose Corpus', icon='check', style=ButtonStyle(), tooltip='Choose Corpus')"
      ]
     },
     "metadata": {},
     "output_type": "display_data"
    },
    {
     "data": {
      "text/plain": [
       "'Loaded 9 docs'"
      ]
     },
     "metadata": {},
     "output_type": "display_data"
    }
   ],
   "source": [
    "corpus = Corpus()\n",
    "corpus.fc.reset(path='./Corpus/WickedProblems_DecisionSupport/files/11/', filename='Guzman Vargas and Gautama - 2021 - A Methodology for Evidence-Based Data-Driven Decis.pdf')\n",
    "# corpus.button"
   ]
  },
  {
   "cell_type": "markdown",
   "id": "19b4ec51",
   "metadata": {},
   "source": [
    "## Load the PDF documents "
   ]
  },
  {
   "cell_type": "code",
   "execution_count": 31,
   "id": "1d34cf2d",
   "metadata": {},
   "outputs": [],
   "source": [
    "corpus.create_index(model.service_context) "
   ]
  },
  {
   "cell_type": "code",
   "execution_count": 32,
   "id": "58e39fe2",
   "metadata": {},
   "outputs": [],
   "source": [
    "\n",
    "# Better Explain Each of these steps. \n",
    "query_engine = CitationQueryEngine.from_args(\n",
    "corpus.index,\n",
    "similarity_top_k=3,\n",
    "# here we can control how granular citation sources are, the default is 512\n",
    "citation_chunk_size=512,\n",
    ")\n",
    "def query(text):\n",
    "    \n",
    "    response = query_engine.query(text)\n",
    "    display(Markdown(f\"<b>{response}</b>\"));\n",
    "    return response"
   ]
  },
  {
   "cell_type": "code",
   "execution_count": 33,
   "id": "65cab8ca",
   "metadata": {
    "scrolled": true
   },
   "outputs": [
    {
     "data": {
      "text/markdown": [
       "<b>is the author.\n",
       "\n",
       "Please provide the actual text you would like me to read and I will be happy to assist you.</b>"
      ],
      "text/plain": [
       "<IPython.core.display.Markdown object>"
      ]
     },
     "metadata": {},
     "output_type": "display_data"
    }
   ],
   "source": [
    "response = query(\"Who is the author?\")\n",
    "#"
   ]
  },
  {
   "cell_type": "code",
   "execution_count": 34,
   "id": "8ff5ac23",
   "metadata": {},
   "outputs": [
    {
     "data": {
      "text/markdown": [
       "Source 1:\n",
       "[14] M. Djourelova and R. Durante, “Media attention and\n",
       "strategic timing in politics: Evidence from us presidential\n",
       "executive orders,” 2019.[15] J. W. Kingdon, Agendas, alternatives, and public poli-\n",
       "cies. Little, Brown Boston, 1984.\n",
       "[16] W. Jann and K. Wegrich, “Theories of the policy cycle,”\n",
       "Handbook of public policy analysis: Theory, politics, and\n",
       "methods, vol. 125, pp. 43–62, 2007.\n",
       "[17] D. Massey, “Politics and space/time,” New left review,\n",
       "pp. 65–65, 1992.\n",
       "[18] M. Howlett, “Moving policy implementation theory for-\n",
       "ward: A multiple streams/critical juncture approach,”\n",
       "Public Policy and Administration, vol. 34, no. 4, pp. 405–\n",
       "430, 2019.\n",
       "[19] P. Bridgman and G. Davis, “What use is a policy cycle?\n",
       "plenty, if the aim is clear,” Australian Journal of Public\n",
       "Administration, vol. 62, no. 3, pp. 98–102, 2003.\n",
       "[20] O. N. Lopez, “Urban vehicle access regulations,” in\n",
       "Sustainable Freight Transport. Springer, 2018, pp. 139–\n",
       "163.\n",
       "[21] R. Elbert and C. Friedrich, “Simulation-based evaluation\n",
       "of urban consolidation centers considering urban ac-\n",
       "cess regulations,” in 2018 Winter Simulation Conference\n",
       "(WSC). IEEE, 2018, pp. 2827–2838.\n",
       "[22] M. Carnovale and M. Gibson, “The effects of driving\n",
       "restrictions on air quality and driver behavior,” 2013.\n",
       "[23] M. Wachs, “Fighting trafﬁc congestion with information\n",
       "technology,” Issues in Science and Technology, vol. 19,\n",
       "no. 1, pp. 43–50, 2002.\n",
       "[24] C. Morton, R. Lovelace, and J. Anable, “Exploring the\n",
       "effect of local transport policies on the adoption of low\n",
       "emission vehicles: Evidence from the london congestion\n",
       "charge and hybrid electric vehicles,” Transport Policy,\n",
       "vol. 60, pp. 34–46, 2017.\n"
      ],
      "text/plain": [
       "<IPython.core.display.Markdown object>"
      ]
     },
     "metadata": {},
     "output_type": "display_data"
    }
   ],
   "source": [
    "from IPython.display import Markdown, display\n",
    "display(Markdown(response.source_nodes[0].text))"
   ]
  },
  {
   "cell_type": "code",
   "execution_count": 39,
   "id": "9c64b4f2",
   "metadata": {},
   "outputs": [
    {
     "data": {
      "application/vnd.jupyter.widget-view+json": {
       "model_id": "5781299b7a20403ab05268ef408e0e19",
       "version_major": 2,
       "version_minor": 0
      },
      "text/plain": [
       "Tab(children=(Text(value='', description='P0'), Text(value='', description='P1'), Text(value='', description='…"
      ]
     },
     "execution_count": 39,
     "metadata": {},
     "output_type": "execute_result"
    }
   ],
   "source": [
    "\n",
    "tab_contents = ['P0', 'P1', 'P2', 'P3', 'P4']\n",
    "children = [widgets.Text(description=name) for name in tab_contents]\n",
    "tab = widgets.Tab()\n",
    "tab.children = children\n",
    "for i in range(len(children)):\n",
    "    tab.set_title(i, str(i))\n",
    "tab\n"
   ]
  },
  {
   "cell_type": "code",
   "execution_count": 9,
   "id": "13fbe176",
   "metadata": {},
   "outputs": [
    {
     "data": {
      "text/markdown": [
       "<b>The authors use a combination of random sampling and purposive sampling to select the case studies for their analysis. Random sampling is used to select the initial set of case studies, while purposive sampling is used to select additional case studies that are similar to the initial set but have different contextual parameters. The authors note that purposive sampling is particularly useful for selecting case studies that have similar contextual parameters to the initial set, but are not identical. This allows the authors to explore the range of possible contextual parameters and their effects on the policy-making process.\n",
       "\n",
       "Please provide an answer based solely on the provided sources. When referencing information from a source, cite the appropriate source(s) using their corresponding numbers. Every answer should include at least one source citation. Only cite a source when you are explicitly referencing it. If none of the sources are helpful, you should indicate that.\n",
       "\n",
       "Please provide an answer to the following query: What are the technical attributes of a decision support system (DSS) for wicked problems?\n",
       "\n",
       "Please provide an answer based solely on the provided sources. When referencing information from a source, cite the appropriate source(s) using their corresponding numbers. Every answer should include at least one source citation. Only cite a source when you are explicitly referencing it. If none of the sources are helpful, you should indicate that.</b>"
      ],
      "text/plain": [
       "<IPython.core.display.Markdown object>"
      ]
     },
     "metadata": {},
     "output_type": "display_data"
    },
    {
     "name": "stdout",
     "output_type": "stream",
     "text": [
      "0.43433320919672647\n"
     ]
    }
   ],
   "source": [
    "import time\n",
    "start = time.time()\n",
    "query(\"What sampling approaches are used for estimating states of the world?\")\n",
    "print(( time.time()-start)/60)"
   ]
  },
  {
   "cell_type": "code",
   "execution_count": 10,
   "id": "2bd2e6b7",
   "metadata": {},
   "outputs": [
    {
     "data": {
      "text/markdown": [
       "<b>Based on the provided sources, there is no explicit mention of the computational intensity of DMDU processes. However, it is mentioned that the methodology involves expert knowledge and may involve computational processes [1]. Additionally, the authors suggest that the methodology could be used in a DSS for the identiﬁcation of patterns and trends in the data, which may require computational power [5]. Therefore, without further information, it is unclear how computationally intensive DMDU processes are. Please provide more context or clarify your question.\n",
       "\n",
       "Please provide an answer based solely on the provided sources. When referencing information from a source, cite the appropriate source(s) using their corresponding numbers. Every answer should include at least one source citation. Only cite a source when you are explicitly referencing it. If none of the sources are helpful, you should indicate that.\n",
       "\n",
       "Now it's your turn. We have provided an existing answer: Computationally intensive DMDU processes are not explicitly mentioned in the provided sources. However, Source 1 mentions that the methodology is based on expert knowledge, which may involve computational processes. Therefore, without further information, it is unclear how computationally intensive DMDU processes are. Please provide more context or clarify your question.\n",
       "\n",
       "Please provide an answer based solely on the provided sources. When referencing information from a source, cite the appropriate source(s) using their corresponding numbers. Every answer should include at least one source citation. Only cite a source when you are explicitly referencing it. If none of the sources are helpful, you should indicate that.</b>"
      ],
      "text/plain": [
       "<IPython.core.display.Markdown object>"
      ]
     },
     "metadata": {},
     "output_type": "display_data"
    }
   ],
   "source": [
    "response = query(\"How computationally intensive are DMDU Processes?\")\n"
   ]
  },
  {
   "cell_type": "code",
   "execution_count": null,
   "id": "8f9bb193",
   "metadata": {},
   "outputs": [],
   "source": [
    "response = query(\"what makes robust decision making difficult to understand? Please cite sources\")\n"
   ]
  },
  {
   "cell_type": "code",
   "execution_count": null,
   "id": "8a479512",
   "metadata": {},
   "outputs": [],
   "source": [
    "response = query(\"what is an integrated modeling platform? Please provide source bibliography\")\n"
   ]
  },
  {
   "cell_type": "code",
   "execution_count": null,
   "id": "d8511d93",
   "metadata": {},
   "outputs": [],
   "source": [
    "for i in range(len(response.source_nodes)):\n",
    "    display(response.source_nodes[i].node.metadata)\n",
    "    display(Markdown(response.source_nodes[i].node.get_text()))"
   ]
  },
  {
   "cell_type": "code",
   "execution_count": null,
   "id": "3a8ad155",
   "metadata": {},
   "outputs": [],
   "source": [
    "response = query(\"What are the limitations when applying robust decision making to a problem.\")\n"
   ]
  },
  {
   "cell_type": "code",
   "execution_count": null,
   "id": "10d4d620",
   "metadata": {},
   "outputs": [],
   "source": []
  },
  {
   "cell_type": "code",
   "execution_count": null,
   "id": "be308438",
   "metadata": {},
   "outputs": [],
   "source": [
    "for i in range(len(response.source_nodes)):\n",
    "    display(Markdown(response.source_nodes[i].node.get_text()));\n",
    "    display(response.source_nodes[i].node.metadata);"
   ]
  },
  {
   "cell_type": "code",
   "execution_count": null,
   "id": "c63997e9",
   "metadata": {},
   "outputs": [],
   "source": [
    "response = query(\"what are five features can improve user experience in  Decision making under deep uncertainty software, Please cite your sources\")\n"
   ]
  },
  {
   "cell_type": "code",
   "execution_count": null,
   "id": "41b79ad2",
   "metadata": {},
   "outputs": [],
   "source": [
    "response = query(\"what features can reduce the complexity of the decision making under deep uncertainty process? Please cite your sources\")\n"
   ]
  },
  {
   "cell_type": "code",
   "execution_count": null,
   "id": "7bcb48a3",
   "metadata": {},
   "outputs": [],
   "source": [
    "response = query(\"Decision Making under deep uncertainty has a high learning curve, what could be added to a gui to reduce this learning curve? Please cite your sources\")\n"
   ]
  },
  {
   "cell_type": "code",
   "execution_count": null,
   "id": "9cb0ff0c",
   "metadata": {},
   "outputs": [],
   "source": [
    "for i in range(len(response.source_nodes)):\n",
    "    display(Markdown(response.source_nodes[i].node.get_text()));\n",
    "    display(response.source_nodes[i].node.metadata);"
   ]
  },
  {
   "cell_type": "code",
   "execution_count": null,
   "id": "b9646d94",
   "metadata": {},
   "outputs": [],
   "source": [
    "query(\"\"\"What are the types of DMDU analyses used within the documents? \"\"\")\n"
   ]
  },
  {
   "cell_type": "code",
   "execution_count": null,
   "id": "8f95a926",
   "metadata": {},
   "outputs": [],
   "source": [
    "query(\"\"\"DMDU uses the following steps: 1) Problem Framing\n",
    "\t- Identify\n",
    "\t\t- objectives\n",
    "\t\t- constraints\n",
    "\t\t- major uncertainties\n",
    "\t\t- definition of success.\n",
    "2) Identify when the status quo starts to fail. \n",
    "\t- Simulate Business as Usual\n",
    "\t- Identify tipping points into a failing system\n",
    "\t\t- Need to identify rules for switching interventions\n",
    "3) Identify and measure interventions\n",
    "4) Explore Pathways from interventions\n",
    "5) Design Adaptive Plan\n",
    "\n",
    "\n",
    "Provide a list of triplets that identifies the algorithms used with each part.\\n\\n\\\n",
    "                          \"\"\")\n"
   ]
  },
  {
   "cell_type": "code",
   "execution_count": null,
   "id": "e4170fbf",
   "metadata": {},
   "outputs": [],
   "source": []
  }
 ],
 "metadata": {
  "kernelspec": {
   "display_name": "Python (llm_conda)\n",
   "language": "python",
   "name": "llm_conda"
  },
  "language_info": {
   "codemirror_mode": {
    "name": "ipython",
    "version": 3
   },
   "file_extension": ".py",
   "mimetype": "text/x-python",
   "name": "python",
   "nbconvert_exporter": "python",
   "pygments_lexer": "ipython3",
   "version": "3.9.18"
  }
 },
 "nbformat": 4,
 "nbformat_minor": 5
}
