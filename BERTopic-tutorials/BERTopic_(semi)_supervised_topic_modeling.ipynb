{
 "cells": [
  {
   "cell_type": "markdown",
   "metadata": {
    "id": "AXHLDxJdRzBi"
   },
   "source": [
    "# **Tutorial** - (semi)-supervised topic modeling\n",
    "(last updated 11-09-2022)\n",
    "\n",
    "In this tutorial, we will be looking at a new feature of BERTopic, namely (semi)-supervised topic modeling! This allows us to steer the dimensionality reduction of the embeddings into a space that closely follows any labels you might already have.\n",
    "\n",
    "## Semi-supervised modeling\n",
    "(semi)-supervised topic modeling is a class of methods that allows the user to perform topic modeling with previously defined labels. This might help nudge the model towards specific topics or classes for which you have labels.\n",
    "\n",
    "<br>\n",
    "\n",
    "<img src=\"https://raw.githubusercontent.com/MaartenGr/BERTopic/master/images/logo.png\" width=\"40%\">"
   ]
  },
  {
   "cell_type": "markdown",
   "metadata": {},
   "source": [
    "## Working at TACC\n",
    "### Removed Steps for working at TACC\n",
    "* Enabling the GPU\n",
    "* Installig BERTopic\n",
    "* Restarting the Notebook\n",
    "\n",
    "### Loading packages for use at TACC"
   ]
  },
  {
   "cell_type": "code",
   "execution_count": 1,
   "metadata": {},
   "outputs": [],
   "source": [
    "import os\n",
    "import logging\n",
    "import sys\n",
    "\n",
    "os.environ[\"TOKENIZERS_PARALLELISM\"] = \"false\"\n",
    "\n",
    "import plotly.io as pio\n",
    "pio.renderers.default='iframe'"
   ]
  },
  {
   "cell_type": "markdown",
   "metadata": {
    "id": "Y3VGFZ1USMTu"
   },
   "source": [
    "# **Data**\n",
    "For this example, we use the popular 20 Newsgroups dataset which contains roughly 18000 newsgroups posts that each is assigned to one of 20 topics:"
   ]
  },
  {
   "cell_type": "code",
   "execution_count": 2,
   "metadata": {
    "id": "cadvhCBTc6Zz"
   },
   "outputs": [],
   "source": [
    "import pandas as pd\n",
    "from bertopic import BERTopic\n",
    "from sklearn.datasets import fetch_20newsgroups\n",
    "\n",
    "data = fetch_20newsgroups(subset='all',  remove=('headers', 'footers', 'quotes'))\n",
    "docs = data[\"data\"]\n",
    "targets = data[\"target\"]\n",
    "target_names = data[\"target_names\"]\n",
    "classes = [data[\"target_names\"][i] for i in data[\"target\"]]"
   ]
  },
  {
   "cell_type": "markdown",
   "metadata": {
    "id": "T1AUCzeyhl7N"
   },
   "source": [
    "Each document can be put into one of the following categories:"
   ]
  },
  {
   "cell_type": "code",
   "execution_count": 3,
   "metadata": {
    "colab": {
     "base_uri": "https://localhost:8080/"
    },
    "id": "LcopPxhZdeOQ",
    "outputId": "b558df7d-f3a8-4fcd-b2af-cc186a08baf8"
   },
   "outputs": [
    {
     "data": {
      "text/plain": [
       "['alt.atheism',\n",
       " 'comp.graphics',\n",
       " 'comp.os.ms-windows.misc',\n",
       " 'comp.sys.ibm.pc.hardware',\n",
       " 'comp.sys.mac.hardware',\n",
       " 'comp.windows.x',\n",
       " 'misc.forsale',\n",
       " 'rec.autos',\n",
       " 'rec.motorcycles',\n",
       " 'rec.sport.baseball',\n",
       " 'rec.sport.hockey',\n",
       " 'sci.crypt',\n",
       " 'sci.electronics',\n",
       " 'sci.med',\n",
       " 'sci.space',\n",
       " 'soc.religion.christian',\n",
       " 'talk.politics.guns',\n",
       " 'talk.politics.mideast',\n",
       " 'talk.politics.misc',\n",
       " 'talk.religion.misc']"
      ]
     },
     "execution_count": 3,
     "metadata": {},
     "output_type": "execute_result"
    }
   ],
   "source": [
    "target_names"
   ]
  },
  {
   "cell_type": "markdown",
   "metadata": {
    "id": "SBcNmZJzSTY8"
   },
   "source": [
    "# **(semi)-Supervised modeling**\n"
   ]
  },
  {
   "cell_type": "markdown",
   "metadata": {
    "id": "SivR3PQ4gq5b"
   },
   "source": [
    "## Basic Model\n",
    "Before we start with semi-supervised modeling, let us first take a look at the output of the basic model."
   ]
  },
  {
   "cell_type": "code",
   "execution_count": 4,
   "metadata": {
    "colab": {
     "base_uri": "https://localhost:8080/",
     "height": 119,
     "referenced_widgets": [
      "cceb1d9854d64376940c42c10b817d17",
      "fff0c80ebbbf455c9e6fd055f830258b",
      "305c43af75f5456cb698cc901732d65e",
      "c4986325f6cb4d7bae36bd8f49847842",
      "d0620101a684490892159f5dee0c10bf",
      "cf376dda5e8b4046837d7dc7f05f20d9",
      "51734b4e1fe64ad7b24d754af2c51a50",
      "5750b64cc00b4b97ba7e9cc1784dfe23"
     ]
    },
    "id": "ObH_2X8LcyNP",
    "outputId": "b706cbae-9e08-4ffd-df12-0e35948b6087"
   },
   "outputs": [
    {
     "name": "stderr",
     "output_type": "stream",
     "text": [
      "2024-03-04 11:38:33,912 - BERTopic - Embedding - Transforming documents to embeddings.\n"
     ]
    },
    {
     "data": {
      "application/vnd.jupyter.widget-view+json": {
       "model_id": "716a64b808ab41888c6d7aba492ab484",
       "version_major": 2,
       "version_minor": 0
      },
      "text/plain": [
       "Batches:   0%|          | 0/589 [00:00<?, ?it/s]"
      ]
     },
     "metadata": {},
     "output_type": "display_data"
    },
    {
     "name": "stderr",
     "output_type": "stream",
     "text": [
      "2024-03-04 11:39:09,614 - BERTopic - Embedding - Completed ✓\n",
      "2024-03-04 11:39:09,615 - BERTopic - Dimensionality - Fitting the dimensionality reduction algorithm\n",
      "2024-03-04 11:39:36,948 - BERTopic - Dimensionality - Completed ✓\n",
      "2024-03-04 11:39:36,954 - BERTopic - Cluster - Start clustering the reduced embeddings\n",
      "2024-03-04 11:39:39,834 - BERTopic - Cluster - Completed ✓\n",
      "2024-03-04 11:39:39,896 - BERTopic - Representation - Extracting topics from clusters using representation models.\n",
      "2024-03-04 11:39:42,986 - BERTopic - Representation - Completed ✓\n"
     ]
    }
   ],
   "source": [
    "topic_model = BERTopic(verbose=True)\n",
    "topics, _ = topic_model.fit_transform(docs)"
   ]
  },
  {
   "cell_type": "code",
   "execution_count": 5,
   "metadata": {
    "colab": {
     "base_uri": "https://localhost:8080/",
     "height": 363
    },
    "id": "ZsfxzEEHmsdm",
    "outputId": "512ea37a-089f-438a-a80a-9524cbb8b5e8"
   },
   "outputs": [
    {
     "data": {
      "text/html": [
       "<div>\n",
       "<style scoped>\n",
       "    .dataframe tbody tr th:only-of-type {\n",
       "        vertical-align: middle;\n",
       "    }\n",
       "\n",
       "    .dataframe tbody tr th {\n",
       "        vertical-align: top;\n",
       "    }\n",
       "\n",
       "    .dataframe thead th {\n",
       "        text-align: right;\n",
       "    }\n",
       "</style>\n",
       "<table border=\"1\" class=\"dataframe\">\n",
       "  <thead>\n",
       "    <tr style=\"text-align: right;\">\n",
       "      <th></th>\n",
       "      <th>Topic</th>\n",
       "      <th>Count</th>\n",
       "      <th>Name</th>\n",
       "      <th>Representation</th>\n",
       "      <th>Representative_Docs</th>\n",
       "    </tr>\n",
       "  </thead>\n",
       "  <tbody>\n",
       "    <tr>\n",
       "      <th>0</th>\n",
       "      <td>-1</td>\n",
       "      <td>6218</td>\n",
       "      <td>-1_to_the_of_and</td>\n",
       "      <td>[to, the, of, and, is, you, in, that, it, for]</td>\n",
       "      <td>[----- Begin Included Message -----\\n\\nThe fol...</td>\n",
       "    </tr>\n",
       "    <tr>\n",
       "      <th>1</th>\n",
       "      <td>0</td>\n",
       "      <td>1835</td>\n",
       "      <td>0_game_team_games_he</td>\n",
       "      <td>[game, team, games, he, players, season, hocke...</td>\n",
       "      <td>[#21\\tPETER AHOLA\\t\\tSeason: 2nd\\nAcquired:\\t'...</td>\n",
       "    </tr>\n",
       "    <tr>\n",
       "      <th>2</th>\n",
       "      <td>1</td>\n",
       "      <td>566</td>\n",
       "      <td>1_key_clipper_chip_encryption</td>\n",
       "      <td>[key, clipper, chip, encryption, keys, escrow,...</td>\n",
       "      <td>[The following document summarizes the Clipper...</td>\n",
       "    </tr>\n",
       "    <tr>\n",
       "      <th>3</th>\n",
       "      <td>2</td>\n",
       "      <td>526</td>\n",
       "      <td>2_ites_cheek_yep_huh</td>\n",
       "      <td>[ites, cheek, yep, huh, ken, auto, why, each, ...</td>\n",
       "      <td>[\\nHuh?, \\nYep.\\n, ites:]</td>\n",
       "    </tr>\n",
       "    <tr>\n",
       "      <th>4</th>\n",
       "      <td>3</td>\n",
       "      <td>472</td>\n",
       "      <td>3_israel_israeli_jews_arab</td>\n",
       "      <td>[israel, israeli, jews, arab, jewish, arabs, p...</td>\n",
       "      <td>[From: Center for Policy Research &lt;cpr&gt;\\nSubje...</td>\n",
       "    </tr>\n",
       "    <tr>\n",
       "      <th>5</th>\n",
       "      <td>4</td>\n",
       "      <td>456</td>\n",
       "      <td>4_card_monitor_video_drivers</td>\n",
       "      <td>[card, monitor, video, drivers, vga, screen, m...</td>\n",
       "      <td>[Has anyone connected a high-res, fixed freque...</td>\n",
       "    </tr>\n",
       "    <tr>\n",
       "      <th>6</th>\n",
       "      <td>5</td>\n",
       "      <td>427</td>\n",
       "      <td>5_drive_scsi_drives_ide</td>\n",
       "      <td>[drive, scsi, drives, ide, disk, controller, h...</td>\n",
       "      <td>[Wow, you guys are really going wild on this I...</td>\n",
       "    </tr>\n",
       "    <tr>\n",
       "      <th>7</th>\n",
       "      <td>6</td>\n",
       "      <td>388</td>\n",
       "      <td>6_car_cars_engine_ford</td>\n",
       "      <td>[car, cars, engine, ford, toyota, mustang, mil...</td>\n",
       "      <td>[\\nWhile I don't read normally read this group...</td>\n",
       "    </tr>\n",
       "    <tr>\n",
       "      <th>8</th>\n",
       "      <td>7</td>\n",
       "      <td>363</td>\n",
       "      <td>7_jpeg_image_gif_images</td>\n",
       "      <td>[jpeg, image, gif, images, format, file, files...</td>\n",
       "      <td>[I am happy to announce the first public relea...</td>\n",
       "    </tr>\n",
       "    <tr>\n",
       "      <th>9</th>\n",
       "      <td>8</td>\n",
       "      <td>249</td>\n",
       "      <td>8_koresh_fbi_fire_gas</td>\n",
       "      <td>[koresh, fbi, fire, gas, compound, children, t...</td>\n",
       "      <td>[Ever since the siege at Waco started the FBI ...</td>\n",
       "    </tr>\n",
       "  </tbody>\n",
       "</table>\n",
       "</div>"
      ],
      "text/plain": [
       "   Topic  Count                           Name  \\\n",
       "0     -1   6218               -1_to_the_of_and   \n",
       "1      0   1835           0_game_team_games_he   \n",
       "2      1    566  1_key_clipper_chip_encryption   \n",
       "3      2    526           2_ites_cheek_yep_huh   \n",
       "4      3    472     3_israel_israeli_jews_arab   \n",
       "5      4    456   4_card_monitor_video_drivers   \n",
       "6      5    427        5_drive_scsi_drives_ide   \n",
       "7      6    388         6_car_cars_engine_ford   \n",
       "8      7    363        7_jpeg_image_gif_images   \n",
       "9      8    249          8_koresh_fbi_fire_gas   \n",
       "\n",
       "                                      Representation  \\\n",
       "0     [to, the, of, and, is, you, in, that, it, for]   \n",
       "1  [game, team, games, he, players, season, hocke...   \n",
       "2  [key, clipper, chip, encryption, keys, escrow,...   \n",
       "3  [ites, cheek, yep, huh, ken, auto, why, each, ...   \n",
       "4  [israel, israeli, jews, arab, jewish, arabs, p...   \n",
       "5  [card, monitor, video, drivers, vga, screen, m...   \n",
       "6  [drive, scsi, drives, ide, disk, controller, h...   \n",
       "7  [car, cars, engine, ford, toyota, mustang, mil...   \n",
       "8  [jpeg, image, gif, images, format, file, files...   \n",
       "9  [koresh, fbi, fire, gas, compound, children, t...   \n",
       "\n",
       "                                 Representative_Docs  \n",
       "0  [----- Begin Included Message -----\\n\\nThe fol...  \n",
       "1  [#21\\tPETER AHOLA\\t\\tSeason: 2nd\\nAcquired:\\t'...  \n",
       "2  [The following document summarizes the Clipper...  \n",
       "3                          [\\nHuh?, \\nYep.\\n, ites:]  \n",
       "4  [From: Center for Policy Research <cpr>\\nSubje...  \n",
       "5  [Has anyone connected a high-res, fixed freque...  \n",
       "6  [Wow, you guys are really going wild on this I...  \n",
       "7  [\\nWhile I don't read normally read this group...  \n",
       "8  [I am happy to announce the first public relea...  \n",
       "9  [Ever since the siege at Waco started the FBI ...  "
      ]
     },
     "execution_count": 5,
     "metadata": {},
     "output_type": "execute_result"
    }
   ],
   "source": [
    "topic_model.get_topic_info().head(10)"
   ]
  },
  {
   "cell_type": "markdown",
   "metadata": {
    "id": "NJkDk7bQh4H1"
   },
   "source": [
    "The topics that were created mostly make sense. There are some clearly defined topics such as \"nasa, orbit, spacecraft, moon\" but also some topics that seem mostly derived from other topics. We can visualize this by extracting the topic representations per class and see if our unsupervised model closely resembles this.\n",
    "\n",
    "**NOTE**: You can **hover** over the bars to see the representation per class!!"
   ]
  },
  {
   "cell_type": "code",
   "execution_count": 6,
   "metadata": {
    "colab": {
     "base_uri": "https://localhost:8080/",
     "height": 934
    },
    "id": "E3Oe3yFOmxqp",
    "outputId": "e9a04e5f-a049-4d48-8879-bea756e021a6"
   },
   "outputs": [
    {
     "name": "stderr",
     "output_type": "stream",
     "text": [
      "20it [00:03,  5.58it/s]\n"
     ]
    },
    {
     "data": {
      "text/html": [
       "<iframe\n",
       "    scrolling=\"no\"\n",
       "    width=\"1270px\"\n",
       "    height=\"920\"\n",
       "    src=\"iframe_figures/figure_6.html\"\n",
       "    frameborder=\"0\"\n",
       "    allowfullscreen\n",
       "></iframe>\n"
      ]
     },
     "metadata": {},
     "output_type": "display_data"
    }
   ],
   "source": [
    "topics_per_class = topic_model.topics_per_class(docs, classes=classes)\n",
    "fig_unsupervised = topic_model.visualize_topics_per_class(topics_per_class, top_n_topics=10)\n",
    "fig_unsupervised"
   ]
  },
  {
   "cell_type": "markdown",
   "metadata": {
    "id": "uV2wrpuWn4-K"
   },
   "source": [
    "The results do seem promising. Topics like \"nasa, space, etc\" seem to be clearly related to sci.space, but some topics were created that span many categories. For example, we expect the topic \"bike, bikes, etc\"  to only appear in rec.motorcycles.  "
   ]
  },
  {
   "cell_type": "markdown",
   "metadata": {
    "id": "5eTm6Di6dAq8"
   },
   "source": [
    "## Semi-supervised\n",
    "In the example above you might notice that some topics were somewhat smushed together. What we would like to see is a clear separation between those topics. Fortunately, we have to labels and can use them to improve the model.\n",
    "\n",
    "Since we are not interested in any other topics, this method is called semi-supervised topic modeling. In practice, this means that we have the labels of some documents but not all.\n",
    "\n",
    "For this example let's say we only have the labels of all computer-related categories:"
   ]
  },
  {
   "cell_type": "code",
   "execution_count": 7,
   "metadata": {
    "id": "Qx8e2s0jfPbM"
   },
   "outputs": [],
   "source": [
    " labels_to_add = ['comp.graphics', 'comp.os.ms-windows.misc',\n",
    "                  'comp.sys.ibm.pc.hardware', 'comp.sys.mac.hardware',\n",
    "                  'comp.windows.x',]\n",
    " indices = [target_names.index(label) for label in labels_to_add]\n",
    " new_labels = [label if label in indices else -1 for label in targets]"
   ]
  },
  {
   "cell_type": "markdown",
   "metadata": {
    "id": "gnizBY2JinQZ"
   },
   "source": [
    "When generating our new labels it is important to mark unknown classes as **-1**. Next, we use those newly constructed labels to again run BERTopic:"
   ]
  },
  {
   "cell_type": "code",
   "execution_count": 8,
   "metadata": {
    "colab": {
     "base_uri": "https://localhost:8080/",
     "height": 119,
     "referenced_widgets": [
      "9f4d1f9f616c441aa617accbcf259ecc",
      "abf35b94dbca4524a6dd3d312be8e187",
      "072b53592ce549008d4d6f4f9ca5416e",
      "4eb36960c3fa46e4b0f57253bf96f828",
      "bc52ea83368c4228bfcb8e28d9ad128c",
      "0c02a7194ffe402b97b4a1c0f2a5ed75",
      "0cd33ac02b014c79859e8cfc01d4f164",
      "6ef376f3104842779a505b8fc050a3cc"
     ]
    },
    "id": "2FNFTvhadAE5",
    "outputId": "2c93c5d4-c053-411e-8248-2cbba26de3b0"
   },
   "outputs": [
    {
     "name": "stderr",
     "output_type": "stream",
     "text": [
      "2024-03-04 11:42:02,261 - BERTopic - Embedding - Transforming documents to embeddings.\n"
     ]
    },
    {
     "data": {
      "application/vnd.jupyter.widget-view+json": {
       "model_id": "594054fa742149baa1f060aee19f6d5e",
       "version_major": 2,
       "version_minor": 0
      },
      "text/plain": [
       "Batches:   0%|          | 0/589 [00:00<?, ?it/s]"
      ]
     },
     "metadata": {},
     "output_type": "display_data"
    },
    {
     "name": "stderr",
     "output_type": "stream",
     "text": [
      "2024-03-04 11:42:23,599 - BERTopic - Embedding - Completed ✓\n",
      "2024-03-04 11:42:23,600 - BERTopic - Dimensionality - Fitting the dimensionality reduction algorithm\n",
      "2024-03-04 11:42:36,139 - BERTopic - Dimensionality - Completed ✓\n",
      "2024-03-04 11:42:36,142 - BERTopic - Cluster - Start clustering the reduced embeddings\n",
      "2024-03-04 11:42:36,613 - BERTopic - Cluster - Completed ✓\n",
      "2024-03-04 11:42:36,618 - BERTopic - Representation - Extracting topics from clusters using representation models.\n",
      "2024-03-04 11:42:39,594 - BERTopic - Representation - Completed ✓\n"
     ]
    }
   ],
   "source": [
    "topic_model = BERTopic(verbose=True)\n",
    "topics, _ = topic_model.fit_transform(docs, y=new_labels)"
   ]
  },
  {
   "cell_type": "code",
   "execution_count": 9,
   "metadata": {
    "colab": {
     "base_uri": "https://localhost:8080/",
     "height": 363
    },
    "id": "VxdyTMiQc-j4",
    "outputId": "6f314d7f-f51d-4d9b-fd4c-9c6665c26c5c"
   },
   "outputs": [
    {
     "data": {
      "text/html": [
       "<div>\n",
       "<style scoped>\n",
       "    .dataframe tbody tr th:only-of-type {\n",
       "        vertical-align: middle;\n",
       "    }\n",
       "\n",
       "    .dataframe tbody tr th {\n",
       "        vertical-align: top;\n",
       "    }\n",
       "\n",
       "    .dataframe thead th {\n",
       "        text-align: right;\n",
       "    }\n",
       "</style>\n",
       "<table border=\"1\" class=\"dataframe\">\n",
       "  <thead>\n",
       "    <tr style=\"text-align: right;\">\n",
       "      <th></th>\n",
       "      <th>Topic</th>\n",
       "      <th>Count</th>\n",
       "      <th>Name</th>\n",
       "      <th>Representation</th>\n",
       "      <th>Representative_Docs</th>\n",
       "    </tr>\n",
       "  </thead>\n",
       "  <tbody>\n",
       "    <tr>\n",
       "      <th>0</th>\n",
       "      <td>-1</td>\n",
       "      <td>5829</td>\n",
       "      <td>-1_to_the_of_and</td>\n",
       "      <td>[to, the, of, and, is, it, in, you, that, for]</td>\n",
       "      <td>[\\nSince this is alt.atheism, I hope you don't...</td>\n",
       "    </tr>\n",
       "    <tr>\n",
       "      <th>1</th>\n",
       "      <td>0</td>\n",
       "      <td>1821</td>\n",
       "      <td>0_game_team_games_he</td>\n",
       "      <td>[game, team, games, he, players, season, hocke...</td>\n",
       "      <td>[The problem with your nihilistic approach, Ro...</td>\n",
       "    </tr>\n",
       "    <tr>\n",
       "      <th>2</th>\n",
       "      <td>1</td>\n",
       "      <td>876</td>\n",
       "      <td>1_window_server_motif_widget</td>\n",
       "      <td>[window, server, motif, widget, xterm, openwin...</td>\n",
       "      <td>[I am working on an X-Window based application...</td>\n",
       "    </tr>\n",
       "    <tr>\n",
       "      <th>3</th>\n",
       "      <td>2</td>\n",
       "      <td>843</td>\n",
       "      <td>2_image_jpeg_images_gif</td>\n",
       "      <td>[image, jpeg, images, gif, format, graphics, f...</td>\n",
       "      <td>[I have posted DISP140.ZIP to alt.binaries.pic...</td>\n",
       "    </tr>\n",
       "    <tr>\n",
       "      <th>4</th>\n",
       "      <td>3</td>\n",
       "      <td>555</td>\n",
       "      <td>3_key_clipper_chip_encryption</td>\n",
       "      <td>[key, clipper, chip, encryption, keys, escrow,...</td>\n",
       "      <td>[-----BEGIN PGP SIGNED MESSAGE-----\\n\\nPlease ...</td>\n",
       "    </tr>\n",
       "    <tr>\n",
       "      <th>5</th>\n",
       "      <td>4</td>\n",
       "      <td>532</td>\n",
       "      <td>4_ites_cheek_yep_huh</td>\n",
       "      <td>[ites, cheek, yep, huh, ken, ignore, forget, a...</td>\n",
       "      <td>[\\nYep.\\n, \\n \\n                              ...</td>\n",
       "    </tr>\n",
       "    <tr>\n",
       "      <th>6</th>\n",
       "      <td>5</td>\n",
       "      <td>459</td>\n",
       "      <td>5_israel_israeli_jews_arab</td>\n",
       "      <td>[israel, israeli, jews, arab, jewish, arabs, p...</td>\n",
       "      <td>[From: Center for Policy Research &lt;cpr&gt;\\nSubje...</td>\n",
       "    </tr>\n",
       "    <tr>\n",
       "      <th>7</th>\n",
       "      <td>6</td>\n",
       "      <td>398</td>\n",
       "      <td>6_gun_guns_firearms_amendment</td>\n",
       "      <td>[gun, guns, firearms, amendment, militia, crim...</td>\n",
       "      <td>[\\nRead it again yourself, then re-apply the a...</td>\n",
       "    </tr>\n",
       "    <tr>\n",
       "      <th>8</th>\n",
       "      <td>7</td>\n",
       "      <td>301</td>\n",
       "      <td>7_bike_ride_riding_my</td>\n",
       "      <td>[bike, ride, riding, my, lane, you, road, car,...</td>\n",
       "      <td>[Sixteen days I had put off test driving the H...</td>\n",
       "    </tr>\n",
       "    <tr>\n",
       "      <th>9</th>\n",
       "      <td>8</td>\n",
       "      <td>251</td>\n",
       "      <td>8_you_your_post_jim</td>\n",
       "      <td>[you, your, post, jim, context, that, ted, to,...</td>\n",
       "      <td>[\\n[ stuff deleted ]\\n   |&gt; Are you calling na...</td>\n",
       "    </tr>\n",
       "  </tbody>\n",
       "</table>\n",
       "</div>"
      ],
      "text/plain": [
       "   Topic  Count                           Name  \\\n",
       "0     -1   5829               -1_to_the_of_and   \n",
       "1      0   1821           0_game_team_games_he   \n",
       "2      1    876   1_window_server_motif_widget   \n",
       "3      2    843        2_image_jpeg_images_gif   \n",
       "4      3    555  3_key_clipper_chip_encryption   \n",
       "5      4    532           4_ites_cheek_yep_huh   \n",
       "6      5    459     5_israel_israeli_jews_arab   \n",
       "7      6    398  6_gun_guns_firearms_amendment   \n",
       "8      7    301          7_bike_ride_riding_my   \n",
       "9      8    251            8_you_your_post_jim   \n",
       "\n",
       "                                      Representation  \\\n",
       "0     [to, the, of, and, is, it, in, you, that, for]   \n",
       "1  [game, team, games, he, players, season, hocke...   \n",
       "2  [window, server, motif, widget, xterm, openwin...   \n",
       "3  [image, jpeg, images, gif, format, graphics, f...   \n",
       "4  [key, clipper, chip, encryption, keys, escrow,...   \n",
       "5  [ites, cheek, yep, huh, ken, ignore, forget, a...   \n",
       "6  [israel, israeli, jews, arab, jewish, arabs, p...   \n",
       "7  [gun, guns, firearms, amendment, militia, crim...   \n",
       "8  [bike, ride, riding, my, lane, you, road, car,...   \n",
       "9  [you, your, post, jim, context, that, ted, to,...   \n",
       "\n",
       "                                 Representative_Docs  \n",
       "0  [\\nSince this is alt.atheism, I hope you don't...  \n",
       "1  [The problem with your nihilistic approach, Ro...  \n",
       "2  [I am working on an X-Window based application...  \n",
       "3  [I have posted DISP140.ZIP to alt.binaries.pic...  \n",
       "4  [-----BEGIN PGP SIGNED MESSAGE-----\\n\\nPlease ...  \n",
       "5  [\\nYep.\\n, \\n \\n                              ...  \n",
       "6  [From: Center for Policy Research <cpr>\\nSubje...  \n",
       "7  [\\nRead it again yourself, then re-apply the a...  \n",
       "8  [Sixteen days I had put off test driving the H...  \n",
       "9  [\\n[ stuff deleted ]\\n   |> Are you calling na...  "
      ]
     },
     "execution_count": 9,
     "metadata": {},
     "output_type": "execute_result"
    }
   ],
   "source": [
    "topic_model.get_topic_info().head(10)"
   ]
  },
  {
   "cell_type": "markdown",
   "metadata": {
    "id": "q43S0mpbnyPX"
   },
   "source": [
    "Finally, we can again extract the topics per class to see if our semi-supervised approach had some effect:"
   ]
  },
  {
   "cell_type": "code",
   "execution_count": 10,
   "metadata": {
    "colab": {
     "base_uri": "https://localhost:8080/",
     "height": 917
    },
    "id": "JWuZTVAQmC80",
    "outputId": "d9262f38-d598-4810-dc5a-2a5f3d607038"
   },
   "outputs": [
    {
     "name": "stderr",
     "output_type": "stream",
     "text": [
      "20it [00:03,  5.56it/s]\n"
     ]
    },
    {
     "data": {
      "text/html": [
       "<iframe\n",
       "    scrolling=\"no\"\n",
       "    width=\"920px\"\n",
       "    height=\"920\"\n",
       "    src=\"iframe_figures/figure_10.html\"\n",
       "    frameborder=\"0\"\n",
       "    allowfullscreen\n",
       "></iframe>\n"
      ]
     },
     "metadata": {},
     "output_type": "display_data"
    }
   ],
   "source": [
    "topics_per_class = topic_model.topics_per_class(docs, classes=classes)\n",
    "fig_semi_supervised = topic_model.visualize_topics_per_class(topics_per_class, top_n_topics=10, width=900)\n",
    "fig_semi_supervised"
   ]
  },
  {
   "cell_type": "markdown",
   "metadata": {
    "id": "8Cyz71GmolRU"
   },
   "source": [
    "We can clearly see that many more topics about computers were created and that the seperation between those topics are solid. This indicates that even if you do not have all the labels, you can definitely improve the model!\n",
    "\n",
    "However, there are still some clusters that could be improved with the labels that we have."
   ]
  },
  {
   "cell_type": "markdown",
   "metadata": {
    "id": "SIvqVHkgdCO3"
   },
   "source": [
    "## Supervised"
   ]
  },
  {
   "cell_type": "markdown",
   "metadata": {
    "id": "Ovx5U4IeqmRz"
   },
   "source": [
    "Finally, we are going to be using all labels. These labels help BERTopic understand where most clusters can be found. However, this does not mean that it will only find the 20 clusters that we have defined. If there are sub-clusters to be found, then there is a good chance BERTopic will find them!"
   ]
  },
  {
   "cell_type": "code",
   "execution_count": 11,
   "metadata": {
    "colab": {
     "base_uri": "https://localhost:8080/",
     "height": 101,
     "referenced_widgets": [
      "4f9b8665c61649e2aa14c8e979a57a39",
      "ca959ca910ce4932a889fe6391ff9889",
      "13123446f2094219a7072426df978db3",
      "77fd388533eb4290b904c5ef3ae1303c",
      "5143207e999f4e49857b9128408d9548",
      "bbf5c25b33cc487fa0f8717623a0f831",
      "285118713d794b7ab5038d17bc3f0858",
      "4e047bfe50f94f48b7f61504d405aed1",
      "07cd2274e5d142c68ba7ff98c1689abd",
      "56ce6ce734da454889c8f5d1047792cc",
      "dd755318eb334ccbb532f537122b7e7c"
     ]
    },
    "id": "s3_NfOtsc-mc",
    "outputId": "ddb19626-2f26-423b-91b8-99f24085c603"
   },
   "outputs": [
    {
     "name": "stderr",
     "output_type": "stream",
     "text": [
      "2024-03-04 11:42:44,648 - BERTopic - Embedding - Transforming documents to embeddings.\n"
     ]
    },
    {
     "data": {
      "application/vnd.jupyter.widget-view+json": {
       "model_id": "399b0ef958c5476383321545e204e7e1",
       "version_major": 2,
       "version_minor": 0
      },
      "text/plain": [
       "Batches:   0%|          | 0/589 [00:00<?, ?it/s]"
      ]
     },
     "metadata": {},
     "output_type": "display_data"
    },
    {
     "name": "stderr",
     "output_type": "stream",
     "text": [
      "2024-03-04 11:43:06,081 - BERTopic - Embedding - Completed ✓\n",
      "2024-03-04 11:43:06,082 - BERTopic - Dimensionality - Fitting the dimensionality reduction algorithm\n",
      "2024-03-04 11:43:16,326 - BERTopic - Dimensionality - Completed ✓\n",
      "2024-03-04 11:43:16,327 - BERTopic - Cluster - Start clustering the reduced embeddings\n",
      "2024-03-04 11:43:16,751 - BERTopic - Cluster - Completed ✓\n",
      "2024-03-04 11:43:16,755 - BERTopic - Representation - Extracting topics from clusters using representation models.\n",
      "2024-03-04 11:43:19,742 - BERTopic - Representation - Completed ✓\n"
     ]
    }
   ],
   "source": [
    "topic_model = BERTopic(verbose=True)\n",
    "topics, _ = topic_model.fit_transform(docs, y=targets)"
   ]
  },
  {
   "cell_type": "code",
   "execution_count": 12,
   "metadata": {
    "colab": {
     "base_uri": "https://localhost:8080/",
     "height": 363
    },
    "id": "J05ypKzhc-qG",
    "outputId": "aa264a84-1dc8-4c4e-91ce-12e01f911d2f"
   },
   "outputs": [
    {
     "data": {
      "text/html": [
       "<div>\n",
       "<style scoped>\n",
       "    .dataframe tbody tr th:only-of-type {\n",
       "        vertical-align: middle;\n",
       "    }\n",
       "\n",
       "    .dataframe tbody tr th {\n",
       "        vertical-align: top;\n",
       "    }\n",
       "\n",
       "    .dataframe thead th {\n",
       "        text-align: right;\n",
       "    }\n",
       "</style>\n",
       "<table border=\"1\" class=\"dataframe\">\n",
       "  <thead>\n",
       "    <tr style=\"text-align: right;\">\n",
       "      <th></th>\n",
       "      <th>Topic</th>\n",
       "      <th>Count</th>\n",
       "      <th>Name</th>\n",
       "      <th>Representation</th>\n",
       "      <th>Representative_Docs</th>\n",
       "    </tr>\n",
       "  </thead>\n",
       "  <tbody>\n",
       "    <tr>\n",
       "      <th>0</th>\n",
       "      <td>-1</td>\n",
       "      <td>3971</td>\n",
       "      <td>-1_the_to_of_and</td>\n",
       "      <td>[the, to, of, and, that, in, you, is, it, for]</td>\n",
       "      <td>[I posted this several days ago for Dave Butle...</td>\n",
       "    </tr>\n",
       "    <tr>\n",
       "      <th>1</th>\n",
       "      <td>0</td>\n",
       "      <td>952</td>\n",
       "      <td>0_space_launch_nasa_orbit</td>\n",
       "      <td>[space, launch, nasa, orbit, shuttle, spacecra...</td>\n",
       "      <td>[Archive-name: space/references\\nLast-modified...</td>\n",
       "    </tr>\n",
       "    <tr>\n",
       "      <th>2</th>\n",
       "      <td>1</td>\n",
       "      <td>909</td>\n",
       "      <td>1_he_game_year_baseball</td>\n",
       "      <td>[he, game, year, baseball, team, games, player...</td>\n",
       "      <td>[\\nNot particularly *in* the World Series. Dur...</td>\n",
       "    </tr>\n",
       "    <tr>\n",
       "      <th>3</th>\n",
       "      <td>2</td>\n",
       "      <td>903</td>\n",
       "      <td>2_window_server_file_widget</td>\n",
       "      <td>[window, server, file, widget, motif, entry, p...</td>\n",
       "      <td>[Enclosed are the rules, guidelines and relate...</td>\n",
       "    </tr>\n",
       "    <tr>\n",
       "      <th>4</th>\n",
       "      <td>3</td>\n",
       "      <td>895</td>\n",
       "      <td>3_key_encryption_clipper_chip</td>\n",
       "      <td>[key, encryption, clipper, chip, keys, privacy...</td>\n",
       "      <td>[-----BEGIN PGP SIGNED MESSAGE-----\\n\\nPlease ...</td>\n",
       "    </tr>\n",
       "    <tr>\n",
       "      <th>5</th>\n",
       "      <td>4</td>\n",
       "      <td>893</td>\n",
       "      <td>4_car_cars_engine_ford</td>\n",
       "      <td>[car, cars, engine, ford, it, my, oil, the, de...</td>\n",
       "      <td>[\\nI have had my Probe looked at twice by my l...</td>\n",
       "    </tr>\n",
       "    <tr>\n",
       "      <th>6</th>\n",
       "      <td>5</td>\n",
       "      <td>883</td>\n",
       "      <td>5_windows_db_dos_file</td>\n",
       "      <td>[windows, db, dos, file, files, 31, driver, mo...</td>\n",
       "      <td>[\\n:   I have normal procomm plus for dos, but...</td>\n",
       "    </tr>\n",
       "    <tr>\n",
       "      <th>7</th>\n",
       "      <td>6</td>\n",
       "      <td>860</td>\n",
       "      <td>6_gun_guns_firearms_fbi</td>\n",
       "      <td>[gun, guns, firearms, fbi, they, weapons, the,...</td>\n",
       "      <td>[NOTE - local tx groups trimmed out of Newsgro...</td>\n",
       "    </tr>\n",
       "    <tr>\n",
       "      <th>8</th>\n",
       "      <td>7</td>\n",
       "      <td>848</td>\n",
       "      <td>7_image_jpeg_images_graphics</td>\n",
       "      <td>[image, jpeg, images, graphics, format, gif, f...</td>\n",
       "      <td>[Archive-name: jpeg-faq\\nLast-modified: 18 Apr...</td>\n",
       "    </tr>\n",
       "    <tr>\n",
       "      <th>9</th>\n",
       "      <td>8</td>\n",
       "      <td>527</td>\n",
       "      <td>8_whatta_ites_cheek_ass</td>\n",
       "      <td>[whatta, ites, cheek, ass, ken, ignore, forget...</td>\n",
       "      <td>[Lets not forget , \\n \\n                      ...</td>\n",
       "    </tr>\n",
       "  </tbody>\n",
       "</table>\n",
       "</div>"
      ],
      "text/plain": [
       "   Topic  Count                           Name  \\\n",
       "0     -1   3971               -1_the_to_of_and   \n",
       "1      0    952      0_space_launch_nasa_orbit   \n",
       "2      1    909        1_he_game_year_baseball   \n",
       "3      2    903    2_window_server_file_widget   \n",
       "4      3    895  3_key_encryption_clipper_chip   \n",
       "5      4    893         4_car_cars_engine_ford   \n",
       "6      5    883          5_windows_db_dos_file   \n",
       "7      6    860        6_gun_guns_firearms_fbi   \n",
       "8      7    848   7_image_jpeg_images_graphics   \n",
       "9      8    527        8_whatta_ites_cheek_ass   \n",
       "\n",
       "                                      Representation  \\\n",
       "0     [the, to, of, and, that, in, you, is, it, for]   \n",
       "1  [space, launch, nasa, orbit, shuttle, spacecra...   \n",
       "2  [he, game, year, baseball, team, games, player...   \n",
       "3  [window, server, file, widget, motif, entry, p...   \n",
       "4  [key, encryption, clipper, chip, keys, privacy...   \n",
       "5  [car, cars, engine, ford, it, my, oil, the, de...   \n",
       "6  [windows, db, dos, file, files, 31, driver, mo...   \n",
       "7  [gun, guns, firearms, fbi, they, weapons, the,...   \n",
       "8  [image, jpeg, images, graphics, format, gif, f...   \n",
       "9  [whatta, ites, cheek, ass, ken, ignore, forget...   \n",
       "\n",
       "                                 Representative_Docs  \n",
       "0  [I posted this several days ago for Dave Butle...  \n",
       "1  [Archive-name: space/references\\nLast-modified...  \n",
       "2  [\\nNot particularly *in* the World Series. Dur...  \n",
       "3  [Enclosed are the rules, guidelines and relate...  \n",
       "4  [-----BEGIN PGP SIGNED MESSAGE-----\\n\\nPlease ...  \n",
       "5  [\\nI have had my Probe looked at twice by my l...  \n",
       "6  [\\n:   I have normal procomm plus for dos, but...  \n",
       "7  [NOTE - local tx groups trimmed out of Newsgro...  \n",
       "8  [Archive-name: jpeg-faq\\nLast-modified: 18 Apr...  \n",
       "9  [Lets not forget , \\n \\n                      ...  "
      ]
     },
     "execution_count": 12,
     "metadata": {},
     "output_type": "execute_result"
    }
   ],
   "source": [
    "topic_model.get_topic_info().head(10)"
   ]
  },
  {
   "cell_type": "markdown",
   "metadata": {
    "id": "dVUNZ8x6rkvI"
   },
   "source": [
    "Not only do we see a nice seperation of the topics, there are significantly less outliers which shows that BERTopic has improved in connecting the documents to topics.\n",
    "\n",
    "Let's see the results by again visualizing the topic representation per class:"
   ]
  },
  {
   "cell_type": "code",
   "execution_count": 13,
   "metadata": {
    "colab": {
     "base_uri": "https://localhost:8080/",
     "height": 917
    },
    "id": "jsqfvmXPjLiq",
    "outputId": "2f4ac844-65b5-4103-8013-dca33574233f"
   },
   "outputs": [
    {
     "name": "stderr",
     "output_type": "stream",
     "text": [
      "20it [00:03,  5.80it/s]\n"
     ]
    },
    {
     "data": {
      "text/html": [
       "<iframe\n",
       "    scrolling=\"no\"\n",
       "    width=\"920px\"\n",
       "    height=\"920\"\n",
       "    src=\"iframe_figures/figure_13.html\"\n",
       "    frameborder=\"0\"\n",
       "    allowfullscreen\n",
       "></iframe>\n"
      ]
     },
     "metadata": {},
     "output_type": "display_data"
    }
   ],
   "source": [
    "topics_per_class = topic_model.topics_per_class(docs, classes=classes)\n",
    "fig_supervised = topic_model.visualize_topics_per_class(topics_per_class, top_n_topics=10, width=900)\n",
    "fig_supervised"
   ]
  },
  {
   "cell_type": "markdown",
   "metadata": {
    "id": "htMnQdgUo9YH"
   },
   "source": [
    "Now that we have used all labels, BERTopic seems to closely match our pre-defined labels. Moreover, it still allows to discover topics that were not previously defined. Thus, you can use this method to find unknown topics in pre-defined topics!"
   ]
  }
 ],
 "metadata": {
  "accelerator": "GPU",
  "colab": {
   "provenance": [],
   "toc_visible": true
  },
  "gpuClass": "standard",
  "kernelspec": {
   "display_name": "Python (llm)",
   "language": "python",
   "name": "llm"
  },
  "language_info": {
   "codemirror_mode": {
    "name": "ipython",
    "version": 3
   },
   "file_extension": ".py",
   "mimetype": "text/x-python",
   "name": "python",
   "nbconvert_exporter": "python",
   "pygments_lexer": "ipython3",
   "version": "3.12.2"
  },
  "widgets": {
   "application/vnd.jupyter.widget-state+json": {
    "072b53592ce549008d4d6f4f9ca5416e": {
     "model_module": "@jupyter-widgets/controls",
     "model_module_version": "1.5.0",
     "model_name": "FloatProgressModel",
     "state": {
      "_dom_classes": [],
      "_model_module": "@jupyter-widgets/controls",
      "_model_module_version": "1.5.0",
      "_model_name": "FloatProgressModel",
      "_view_count": null,
      "_view_module": "@jupyter-widgets/controls",
      "_view_module_version": "1.5.0",
      "_view_name": "ProgressView",
      "bar_style": "success",
      "description": "Batches: 100%",
      "description_tooltip": null,
      "layout": "IPY_MODEL_0c02a7194ffe402b97b4a1c0f2a5ed75",
      "max": 589,
      "min": 0,
      "orientation": "horizontal",
      "style": "IPY_MODEL_bc52ea83368c4228bfcb8e28d9ad128c",
      "value": 589
     }
    },
    "07cd2274e5d142c68ba7ff98c1689abd": {
     "model_module": "@jupyter-widgets/controls",
     "model_module_version": "1.5.0",
     "model_name": "ProgressStyleModel",
     "state": {
      "_model_module": "@jupyter-widgets/controls",
      "_model_module_version": "1.5.0",
      "_model_name": "ProgressStyleModel",
      "_view_count": null,
      "_view_module": "@jupyter-widgets/base",
      "_view_module_version": "1.2.0",
      "_view_name": "StyleView",
      "bar_color": null,
      "description_width": ""
     }
    },
    "0c02a7194ffe402b97b4a1c0f2a5ed75": {
     "model_module": "@jupyter-widgets/base",
     "model_module_version": "1.2.0",
     "model_name": "LayoutModel",
     "state": {
      "_model_module": "@jupyter-widgets/base",
      "_model_module_version": "1.2.0",
      "_model_name": "LayoutModel",
      "_view_count": null,
      "_view_module": "@jupyter-widgets/base",
      "_view_module_version": "1.2.0",
      "_view_name": "LayoutView",
      "align_content": null,
      "align_items": null,
      "align_self": null,
      "border": null,
      "bottom": null,
      "display": null,
      "flex": null,
      "flex_flow": null,
      "grid_area": null,
      "grid_auto_columns": null,
      "grid_auto_flow": null,
      "grid_auto_rows": null,
      "grid_column": null,
      "grid_gap": null,
      "grid_row": null,
      "grid_template_areas": null,
      "grid_template_columns": null,
      "grid_template_rows": null,
      "height": null,
      "justify_content": null,
      "justify_items": null,
      "left": null,
      "margin": null,
      "max_height": null,
      "max_width": null,
      "min_height": null,
      "min_width": null,
      "object_fit": null,
      "object_position": null,
      "order": null,
      "overflow": null,
      "overflow_x": null,
      "overflow_y": null,
      "padding": null,
      "right": null,
      "top": null,
      "visibility": null,
      "width": null
     }
    },
    "0cd33ac02b014c79859e8cfc01d4f164": {
     "model_module": "@jupyter-widgets/controls",
     "model_module_version": "1.5.0",
     "model_name": "DescriptionStyleModel",
     "state": {
      "_model_module": "@jupyter-widgets/controls",
      "_model_module_version": "1.5.0",
      "_model_name": "DescriptionStyleModel",
      "_view_count": null,
      "_view_module": "@jupyter-widgets/base",
      "_view_module_version": "1.2.0",
      "_view_name": "StyleView",
      "description_width": ""
     }
    },
    "13123446f2094219a7072426df978db3": {
     "model_module": "@jupyter-widgets/controls",
     "model_module_version": "1.5.0",
     "model_name": "FloatProgressModel",
     "state": {
      "_dom_classes": [],
      "_model_module": "@jupyter-widgets/controls",
      "_model_module_version": "1.5.0",
      "_model_name": "FloatProgressModel",
      "_view_count": null,
      "_view_module": "@jupyter-widgets/controls",
      "_view_module_version": "1.5.0",
      "_view_name": "ProgressView",
      "bar_style": "success",
      "description": "",
      "description_tooltip": null,
      "layout": "IPY_MODEL_4e047bfe50f94f48b7f61504d405aed1",
      "max": 589,
      "min": 0,
      "orientation": "horizontal",
      "style": "IPY_MODEL_07cd2274e5d142c68ba7ff98c1689abd",
      "value": 589
     }
    },
    "285118713d794b7ab5038d17bc3f0858": {
     "model_module": "@jupyter-widgets/controls",
     "model_module_version": "1.5.0",
     "model_name": "DescriptionStyleModel",
     "state": {
      "_model_module": "@jupyter-widgets/controls",
      "_model_module_version": "1.5.0",
      "_model_name": "DescriptionStyleModel",
      "_view_count": null,
      "_view_module": "@jupyter-widgets/base",
      "_view_module_version": "1.2.0",
      "_view_name": "StyleView",
      "description_width": ""
     }
    },
    "305c43af75f5456cb698cc901732d65e": {
     "model_module": "@jupyter-widgets/controls",
     "model_module_version": "1.5.0",
     "model_name": "FloatProgressModel",
     "state": {
      "_dom_classes": [],
      "_model_module": "@jupyter-widgets/controls",
      "_model_module_version": "1.5.0",
      "_model_name": "FloatProgressModel",
      "_view_count": null,
      "_view_module": "@jupyter-widgets/controls",
      "_view_module_version": "1.5.0",
      "_view_name": "ProgressView",
      "bar_style": "success",
      "description": "Batches: 100%",
      "description_tooltip": null,
      "layout": "IPY_MODEL_cf376dda5e8b4046837d7dc7f05f20d9",
      "max": 589,
      "min": 0,
      "orientation": "horizontal",
      "style": "IPY_MODEL_d0620101a684490892159f5dee0c10bf",
      "value": 589
     }
    },
    "4e047bfe50f94f48b7f61504d405aed1": {
     "model_module": "@jupyter-widgets/base",
     "model_module_version": "1.2.0",
     "model_name": "LayoutModel",
     "state": {
      "_model_module": "@jupyter-widgets/base",
      "_model_module_version": "1.2.0",
      "_model_name": "LayoutModel",
      "_view_count": null,
      "_view_module": "@jupyter-widgets/base",
      "_view_module_version": "1.2.0",
      "_view_name": "LayoutView",
      "align_content": null,
      "align_items": null,
      "align_self": null,
      "border": null,
      "bottom": null,
      "display": null,
      "flex": null,
      "flex_flow": null,
      "grid_area": null,
      "grid_auto_columns": null,
      "grid_auto_flow": null,
      "grid_auto_rows": null,
      "grid_column": null,
      "grid_gap": null,
      "grid_row": null,
      "grid_template_areas": null,
      "grid_template_columns": null,
      "grid_template_rows": null,
      "height": null,
      "justify_content": null,
      "justify_items": null,
      "left": null,
      "margin": null,
      "max_height": null,
      "max_width": null,
      "min_height": null,
      "min_width": null,
      "object_fit": null,
      "object_position": null,
      "order": null,
      "overflow": null,
      "overflow_x": null,
      "overflow_y": null,
      "padding": null,
      "right": null,
      "top": null,
      "visibility": null,
      "width": null
     }
    },
    "4eb36960c3fa46e4b0f57253bf96f828": {
     "model_module": "@jupyter-widgets/controls",
     "model_module_version": "1.5.0",
     "model_name": "HTMLModel",
     "state": {
      "_dom_classes": [],
      "_model_module": "@jupyter-widgets/controls",
      "_model_module_version": "1.5.0",
      "_model_name": "HTMLModel",
      "_view_count": null,
      "_view_module": "@jupyter-widgets/controls",
      "_view_module_version": "1.5.0",
      "_view_name": "HTMLView",
      "description": "",
      "description_tooltip": null,
      "layout": "IPY_MODEL_6ef376f3104842779a505b8fc050a3cc",
      "placeholder": "​",
      "style": "IPY_MODEL_0cd33ac02b014c79859e8cfc01d4f164",
      "value": " 589/589 [05:12&lt;00:00,  1.88it/s]"
     }
    },
    "4f9b8665c61649e2aa14c8e979a57a39": {
     "model_module": "@jupyter-widgets/controls",
     "model_module_version": "1.5.0",
     "model_name": "HBoxModel",
     "state": {
      "_dom_classes": [],
      "_model_module": "@jupyter-widgets/controls",
      "_model_module_version": "1.5.0",
      "_model_name": "HBoxModel",
      "_view_count": null,
      "_view_module": "@jupyter-widgets/controls",
      "_view_module_version": "1.5.0",
      "_view_name": "HBoxView",
      "box_style": "",
      "children": [
       "IPY_MODEL_ca959ca910ce4932a889fe6391ff9889",
       "IPY_MODEL_13123446f2094219a7072426df978db3",
       "IPY_MODEL_77fd388533eb4290b904c5ef3ae1303c"
      ],
      "layout": "IPY_MODEL_5143207e999f4e49857b9128408d9548"
     }
    },
    "5143207e999f4e49857b9128408d9548": {
     "model_module": "@jupyter-widgets/base",
     "model_module_version": "1.2.0",
     "model_name": "LayoutModel",
     "state": {
      "_model_module": "@jupyter-widgets/base",
      "_model_module_version": "1.2.0",
      "_model_name": "LayoutModel",
      "_view_count": null,
      "_view_module": "@jupyter-widgets/base",
      "_view_module_version": "1.2.0",
      "_view_name": "LayoutView",
      "align_content": null,
      "align_items": null,
      "align_self": null,
      "border": null,
      "bottom": null,
      "display": null,
      "flex": null,
      "flex_flow": null,
      "grid_area": null,
      "grid_auto_columns": null,
      "grid_auto_flow": null,
      "grid_auto_rows": null,
      "grid_column": null,
      "grid_gap": null,
      "grid_row": null,
      "grid_template_areas": null,
      "grid_template_columns": null,
      "grid_template_rows": null,
      "height": null,
      "justify_content": null,
      "justify_items": null,
      "left": null,
      "margin": null,
      "max_height": null,
      "max_width": null,
      "min_height": null,
      "min_width": null,
      "object_fit": null,
      "object_position": null,
      "order": null,
      "overflow": null,
      "overflow_x": null,
      "overflow_y": null,
      "padding": null,
      "right": null,
      "top": null,
      "visibility": null,
      "width": null
     }
    },
    "51734b4e1fe64ad7b24d754af2c51a50": {
     "model_module": "@jupyter-widgets/controls",
     "model_module_version": "1.5.0",
     "model_name": "DescriptionStyleModel",
     "state": {
      "_model_module": "@jupyter-widgets/controls",
      "_model_module_version": "1.5.0",
      "_model_name": "DescriptionStyleModel",
      "_view_count": null,
      "_view_module": "@jupyter-widgets/base",
      "_view_module_version": "1.2.0",
      "_view_name": "StyleView",
      "description_width": ""
     }
    },
    "56ce6ce734da454889c8f5d1047792cc": {
     "model_module": "@jupyter-widgets/base",
     "model_module_version": "1.2.0",
     "model_name": "LayoutModel",
     "state": {
      "_model_module": "@jupyter-widgets/base",
      "_model_module_version": "1.2.0",
      "_model_name": "LayoutModel",
      "_view_count": null,
      "_view_module": "@jupyter-widgets/base",
      "_view_module_version": "1.2.0",
      "_view_name": "LayoutView",
      "align_content": null,
      "align_items": null,
      "align_self": null,
      "border": null,
      "bottom": null,
      "display": null,
      "flex": null,
      "flex_flow": null,
      "grid_area": null,
      "grid_auto_columns": null,
      "grid_auto_flow": null,
      "grid_auto_rows": null,
      "grid_column": null,
      "grid_gap": null,
      "grid_row": null,
      "grid_template_areas": null,
      "grid_template_columns": null,
      "grid_template_rows": null,
      "height": null,
      "justify_content": null,
      "justify_items": null,
      "left": null,
      "margin": null,
      "max_height": null,
      "max_width": null,
      "min_height": null,
      "min_width": null,
      "object_fit": null,
      "object_position": null,
      "order": null,
      "overflow": null,
      "overflow_x": null,
      "overflow_y": null,
      "padding": null,
      "right": null,
      "top": null,
      "visibility": null,
      "width": null
     }
    },
    "5750b64cc00b4b97ba7e9cc1784dfe23": {
     "model_module": "@jupyter-widgets/base",
     "model_module_version": "1.2.0",
     "model_name": "LayoutModel",
     "state": {
      "_model_module": "@jupyter-widgets/base",
      "_model_module_version": "1.2.0",
      "_model_name": "LayoutModel",
      "_view_count": null,
      "_view_module": "@jupyter-widgets/base",
      "_view_module_version": "1.2.0",
      "_view_name": "LayoutView",
      "align_content": null,
      "align_items": null,
      "align_self": null,
      "border": null,
      "bottom": null,
      "display": null,
      "flex": null,
      "flex_flow": null,
      "grid_area": null,
      "grid_auto_columns": null,
      "grid_auto_flow": null,
      "grid_auto_rows": null,
      "grid_column": null,
      "grid_gap": null,
      "grid_row": null,
      "grid_template_areas": null,
      "grid_template_columns": null,
      "grid_template_rows": null,
      "height": null,
      "justify_content": null,
      "justify_items": null,
      "left": null,
      "margin": null,
      "max_height": null,
      "max_width": null,
      "min_height": null,
      "min_width": null,
      "object_fit": null,
      "object_position": null,
      "order": null,
      "overflow": null,
      "overflow_x": null,
      "overflow_y": null,
      "padding": null,
      "right": null,
      "top": null,
      "visibility": null,
      "width": null
     }
    },
    "6ef376f3104842779a505b8fc050a3cc": {
     "model_module": "@jupyter-widgets/base",
     "model_module_version": "1.2.0",
     "model_name": "LayoutModel",
     "state": {
      "_model_module": "@jupyter-widgets/base",
      "_model_module_version": "1.2.0",
      "_model_name": "LayoutModel",
      "_view_count": null,
      "_view_module": "@jupyter-widgets/base",
      "_view_module_version": "1.2.0",
      "_view_name": "LayoutView",
      "align_content": null,
      "align_items": null,
      "align_self": null,
      "border": null,
      "bottom": null,
      "display": null,
      "flex": null,
      "flex_flow": null,
      "grid_area": null,
      "grid_auto_columns": null,
      "grid_auto_flow": null,
      "grid_auto_rows": null,
      "grid_column": null,
      "grid_gap": null,
      "grid_row": null,
      "grid_template_areas": null,
      "grid_template_columns": null,
      "grid_template_rows": null,
      "height": null,
      "justify_content": null,
      "justify_items": null,
      "left": null,
      "margin": null,
      "max_height": null,
      "max_width": null,
      "min_height": null,
      "min_width": null,
      "object_fit": null,
      "object_position": null,
      "order": null,
      "overflow": null,
      "overflow_x": null,
      "overflow_y": null,
      "padding": null,
      "right": null,
      "top": null,
      "visibility": null,
      "width": null
     }
    },
    "77fd388533eb4290b904c5ef3ae1303c": {
     "model_module": "@jupyter-widgets/controls",
     "model_module_version": "1.5.0",
     "model_name": "HTMLModel",
     "state": {
      "_dom_classes": [],
      "_model_module": "@jupyter-widgets/controls",
      "_model_module_version": "1.5.0",
      "_model_name": "HTMLModel",
      "_view_count": null,
      "_view_module": "@jupyter-widgets/controls",
      "_view_module_version": "1.5.0",
      "_view_name": "HTMLView",
      "description": "",
      "description_tooltip": null,
      "layout": "IPY_MODEL_56ce6ce734da454889c8f5d1047792cc",
      "placeholder": "​",
      "style": "IPY_MODEL_dd755318eb334ccbb532f537122b7e7c",
      "value": " 589/589 [00:44&lt;00:00, 93.14it/s]"
     }
    },
    "9f4d1f9f616c441aa617accbcf259ecc": {
     "model_module": "@jupyter-widgets/controls",
     "model_module_version": "1.5.0",
     "model_name": "HBoxModel",
     "state": {
      "_dom_classes": [],
      "_model_module": "@jupyter-widgets/controls",
      "_model_module_version": "1.5.0",
      "_model_name": "HBoxModel",
      "_view_count": null,
      "_view_module": "@jupyter-widgets/controls",
      "_view_module_version": "1.5.0",
      "_view_name": "HBoxView",
      "box_style": "",
      "children": [
       "IPY_MODEL_072b53592ce549008d4d6f4f9ca5416e",
       "IPY_MODEL_4eb36960c3fa46e4b0f57253bf96f828"
      ],
      "layout": "IPY_MODEL_abf35b94dbca4524a6dd3d312be8e187"
     }
    },
    "abf35b94dbca4524a6dd3d312be8e187": {
     "model_module": "@jupyter-widgets/base",
     "model_module_version": "1.2.0",
     "model_name": "LayoutModel",
     "state": {
      "_model_module": "@jupyter-widgets/base",
      "_model_module_version": "1.2.0",
      "_model_name": "LayoutModel",
      "_view_count": null,
      "_view_module": "@jupyter-widgets/base",
      "_view_module_version": "1.2.0",
      "_view_name": "LayoutView",
      "align_content": null,
      "align_items": null,
      "align_self": null,
      "border": null,
      "bottom": null,
      "display": null,
      "flex": null,
      "flex_flow": null,
      "grid_area": null,
      "grid_auto_columns": null,
      "grid_auto_flow": null,
      "grid_auto_rows": null,
      "grid_column": null,
      "grid_gap": null,
      "grid_row": null,
      "grid_template_areas": null,
      "grid_template_columns": null,
      "grid_template_rows": null,
      "height": null,
      "justify_content": null,
      "justify_items": null,
      "left": null,
      "margin": null,
      "max_height": null,
      "max_width": null,
      "min_height": null,
      "min_width": null,
      "object_fit": null,
      "object_position": null,
      "order": null,
      "overflow": null,
      "overflow_x": null,
      "overflow_y": null,
      "padding": null,
      "right": null,
      "top": null,
      "visibility": null,
      "width": null
     }
    },
    "bbf5c25b33cc487fa0f8717623a0f831": {
     "model_module": "@jupyter-widgets/base",
     "model_module_version": "1.2.0",
     "model_name": "LayoutModel",
     "state": {
      "_model_module": "@jupyter-widgets/base",
      "_model_module_version": "1.2.0",
      "_model_name": "LayoutModel",
      "_view_count": null,
      "_view_module": "@jupyter-widgets/base",
      "_view_module_version": "1.2.0",
      "_view_name": "LayoutView",
      "align_content": null,
      "align_items": null,
      "align_self": null,
      "border": null,
      "bottom": null,
      "display": null,
      "flex": null,
      "flex_flow": null,
      "grid_area": null,
      "grid_auto_columns": null,
      "grid_auto_flow": null,
      "grid_auto_rows": null,
      "grid_column": null,
      "grid_gap": null,
      "grid_row": null,
      "grid_template_areas": null,
      "grid_template_columns": null,
      "grid_template_rows": null,
      "height": null,
      "justify_content": null,
      "justify_items": null,
      "left": null,
      "margin": null,
      "max_height": null,
      "max_width": null,
      "min_height": null,
      "min_width": null,
      "object_fit": null,
      "object_position": null,
      "order": null,
      "overflow": null,
      "overflow_x": null,
      "overflow_y": null,
      "padding": null,
      "right": null,
      "top": null,
      "visibility": null,
      "width": null
     }
    },
    "bc52ea83368c4228bfcb8e28d9ad128c": {
     "model_module": "@jupyter-widgets/controls",
     "model_module_version": "1.5.0",
     "model_name": "ProgressStyleModel",
     "state": {
      "_model_module": "@jupyter-widgets/controls",
      "_model_module_version": "1.5.0",
      "_model_name": "ProgressStyleModel",
      "_view_count": null,
      "_view_module": "@jupyter-widgets/base",
      "_view_module_version": "1.2.0",
      "_view_name": "StyleView",
      "bar_color": null,
      "description_width": "initial"
     }
    },
    "c4986325f6cb4d7bae36bd8f49847842": {
     "model_module": "@jupyter-widgets/controls",
     "model_module_version": "1.5.0",
     "model_name": "HTMLModel",
     "state": {
      "_dom_classes": [],
      "_model_module": "@jupyter-widgets/controls",
      "_model_module_version": "1.5.0",
      "_model_name": "HTMLModel",
      "_view_count": null,
      "_view_module": "@jupyter-widgets/controls",
      "_view_module_version": "1.5.0",
      "_view_name": "HTMLView",
      "description": "",
      "description_tooltip": null,
      "layout": "IPY_MODEL_5750b64cc00b4b97ba7e9cc1784dfe23",
      "placeholder": "​",
      "style": "IPY_MODEL_51734b4e1fe64ad7b24d754af2c51a50",
      "value": " 589/589 [01:15&lt;00:00,  7.79it/s]"
     }
    },
    "ca959ca910ce4932a889fe6391ff9889": {
     "model_module": "@jupyter-widgets/controls",
     "model_module_version": "1.5.0",
     "model_name": "HTMLModel",
     "state": {
      "_dom_classes": [],
      "_model_module": "@jupyter-widgets/controls",
      "_model_module_version": "1.5.0",
      "_model_name": "HTMLModel",
      "_view_count": null,
      "_view_module": "@jupyter-widgets/controls",
      "_view_module_version": "1.5.0",
      "_view_name": "HTMLView",
      "description": "",
      "description_tooltip": null,
      "layout": "IPY_MODEL_bbf5c25b33cc487fa0f8717623a0f831",
      "placeholder": "​",
      "style": "IPY_MODEL_285118713d794b7ab5038d17bc3f0858",
      "value": "Batches: 100%"
     }
    },
    "cceb1d9854d64376940c42c10b817d17": {
     "model_module": "@jupyter-widgets/controls",
     "model_module_version": "1.5.0",
     "model_name": "HBoxModel",
     "state": {
      "_dom_classes": [],
      "_model_module": "@jupyter-widgets/controls",
      "_model_module_version": "1.5.0",
      "_model_name": "HBoxModel",
      "_view_count": null,
      "_view_module": "@jupyter-widgets/controls",
      "_view_module_version": "1.5.0",
      "_view_name": "HBoxView",
      "box_style": "",
      "children": [
       "IPY_MODEL_305c43af75f5456cb698cc901732d65e",
       "IPY_MODEL_c4986325f6cb4d7bae36bd8f49847842"
      ],
      "layout": "IPY_MODEL_fff0c80ebbbf455c9e6fd055f830258b"
     }
    },
    "cf376dda5e8b4046837d7dc7f05f20d9": {
     "model_module": "@jupyter-widgets/base",
     "model_module_version": "1.2.0",
     "model_name": "LayoutModel",
     "state": {
      "_model_module": "@jupyter-widgets/base",
      "_model_module_version": "1.2.0",
      "_model_name": "LayoutModel",
      "_view_count": null,
      "_view_module": "@jupyter-widgets/base",
      "_view_module_version": "1.2.0",
      "_view_name": "LayoutView",
      "align_content": null,
      "align_items": null,
      "align_self": null,
      "border": null,
      "bottom": null,
      "display": null,
      "flex": null,
      "flex_flow": null,
      "grid_area": null,
      "grid_auto_columns": null,
      "grid_auto_flow": null,
      "grid_auto_rows": null,
      "grid_column": null,
      "grid_gap": null,
      "grid_row": null,
      "grid_template_areas": null,
      "grid_template_columns": null,
      "grid_template_rows": null,
      "height": null,
      "justify_content": null,
      "justify_items": null,
      "left": null,
      "margin": null,
      "max_height": null,
      "max_width": null,
      "min_height": null,
      "min_width": null,
      "object_fit": null,
      "object_position": null,
      "order": null,
      "overflow": null,
      "overflow_x": null,
      "overflow_y": null,
      "padding": null,
      "right": null,
      "top": null,
      "visibility": null,
      "width": null
     }
    },
    "d0620101a684490892159f5dee0c10bf": {
     "model_module": "@jupyter-widgets/controls",
     "model_module_version": "1.5.0",
     "model_name": "ProgressStyleModel",
     "state": {
      "_model_module": "@jupyter-widgets/controls",
      "_model_module_version": "1.5.0",
      "_model_name": "ProgressStyleModel",
      "_view_count": null,
      "_view_module": "@jupyter-widgets/base",
      "_view_module_version": "1.2.0",
      "_view_name": "StyleView",
      "bar_color": null,
      "description_width": "initial"
     }
    },
    "dd755318eb334ccbb532f537122b7e7c": {
     "model_module": "@jupyter-widgets/controls",
     "model_module_version": "1.5.0",
     "model_name": "DescriptionStyleModel",
     "state": {
      "_model_module": "@jupyter-widgets/controls",
      "_model_module_version": "1.5.0",
      "_model_name": "DescriptionStyleModel",
      "_view_count": null,
      "_view_module": "@jupyter-widgets/base",
      "_view_module_version": "1.2.0",
      "_view_name": "StyleView",
      "description_width": ""
     }
    },
    "fff0c80ebbbf455c9e6fd055f830258b": {
     "model_module": "@jupyter-widgets/base",
     "model_module_version": "1.2.0",
     "model_name": "LayoutModel",
     "state": {
      "_model_module": "@jupyter-widgets/base",
      "_model_module_version": "1.2.0",
      "_model_name": "LayoutModel",
      "_view_count": null,
      "_view_module": "@jupyter-widgets/base",
      "_view_module_version": "1.2.0",
      "_view_name": "LayoutView",
      "align_content": null,
      "align_items": null,
      "align_self": null,
      "border": null,
      "bottom": null,
      "display": null,
      "flex": null,
      "flex_flow": null,
      "grid_area": null,
      "grid_auto_columns": null,
      "grid_auto_flow": null,
      "grid_auto_rows": null,
      "grid_column": null,
      "grid_gap": null,
      "grid_row": null,
      "grid_template_areas": null,
      "grid_template_columns": null,
      "grid_template_rows": null,
      "height": null,
      "justify_content": null,
      "justify_items": null,
      "left": null,
      "margin": null,
      "max_height": null,
      "max_width": null,
      "min_height": null,
      "min_width": null,
      "object_fit": null,
      "object_position": null,
      "order": null,
      "overflow": null,
      "overflow_x": null,
      "overflow_y": null,
      "padding": null,
      "right": null,
      "top": null,
      "visibility": null,
      "width": null
     }
    }
   }
  }
 },
 "nbformat": 4,
 "nbformat_minor": 4
}
