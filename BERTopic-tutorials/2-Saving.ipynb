{
 "cells": [
  {
   "cell_type": "code",
   "execution_count": 1,
   "id": "b808f384-d376-46c8-a4fb-ba7ff6dc272f",
   "metadata": {},
   "outputs": [],
   "source": [
    "import os\n",
    "import numpy as np\n",
    "import json"
   ]
  },
  {
   "cell_type": "code",
   "execution_count": null,
   "id": "66c4d7de-f898-4164-8a27-84d82587e954",
   "metadata": {},
   "outputs": [],
   "source": [
    "document_storage = 'documents'"
   ]
  },
  {
   "cell_type": "code",
   "execution_count": 4,
   "id": "cf0e1c26-8695-4200-8d42-cd8974bacaaf",
   "metadata": {},
   "outputs": [],
   "source": [
    "props = np.load('documents/newsgroups.npy')"
   ]
  },
  {
   "cell_type": "code",
   "execution_count": 5,
   "id": "6a428438-865d-4126-9883-bb35799050fa",
   "metadata": {},
   "outputs": [],
   "source": [
    "with open('documents/newsgroups.json') as f:\n",
    "    docs = json.load(f) "
   ]
  },
  {
   "cell_type": "code",
   "execution_count": null,
   "id": "989db2b8-6d59-4147-9ed9-37295a95636a",
   "metadata": {},
   "outputs": [],
   "source": []
  },
  {
   "cell_type": "markdown",
   "id": "aeddd68c-da2c-4055-b75d-cb22f1acee2d",
   "metadata": {},
   "source": [
    "### 3.  Saving Model outputs\n",
    "Before we move on to fine-tuning the topic representations, we will first store the results of our model fitting for future use. BERTopic provides 3 methods for this serialization process: safetensors, pytorch and pickle (documentation of this is available [in the documentation.](https://maartengr.github.io/BERTopic/getting_started/serialization/serialization.html).  \n",
    "\n",
    "For our demonstration we will use the .safetensors method."
   ]
  },
  {
   "cell_type": "markdown",
   "id": "72d6ebe3-26c9-4cbf-be3c-c7badcf81bca",
   "metadata": {},
   "source": [
    "**Step 1: Explicitily state the embedding model used to generate the model.  For the default this is the sentence transformers 'all-MiniLM-L6-v2'.**"
   ]
  },
  {
   "cell_type": "code",
   "execution_count": 10,
   "id": "907856b3-a1f5-4a5e-bda4-16dd6df30627",
   "metadata": {},
   "outputs": [],
   "source": [
    "embedding_model = \"sentence-transformers/all-MiniLM-L6-v2\""
   ]
  },
  {
   "cell_type": "markdown",
   "id": "4b214698-4e69-4f94-b556-c82f71fc288a",
   "metadata": {},
   "source": [
    "**Step 2: Define the path to where you want to save the models.  In this case we will use the cookbook_models folder provided** "
   ]
  },
  {
   "cell_type": "code",
   "execution_count": 11,
   "id": "d3197bd8-eb23-498f-8efa-2d0d913ef089",
   "metadata": {},
   "outputs": [],
   "source": [
    "model_storage_folder = 'cookbook_models'\n",
    "model_name = 'newsgroups_default_model'\n",
    "model_storage_path = os.path.join(model_storage_folder, model_name)"
   ]
  },
  {
   "cell_type": "markdown",
   "id": "18118b16-aa1e-45f8-b362-b06bfaa1f77f",
   "metadata": {},
   "source": [
    "**Step 3: Save the model**"
   ]
  },
  {
   "cell_type": "code",
   "execution_count": 12,
   "id": "6269f5b0-e4f7-479a-b225-370faf27c744",
   "metadata": {},
   "outputs": [],
   "source": [
    "newsgroups_default_model.save(model_storage_path, serialization=\"safetensors\", save_ctfidf=True, save_embedding_model=embedding_model)"
   ]
  },
  {
   "cell_type": "markdown",
   "id": "b22c44df-89d5-48de-8737-0abaebc52b88",
   "metadata": {},
   "source": [
    "**Load and check model**\n",
    "If you navigate in the folder directory at left you can see your saved files, and you can now load the model from these files directly.  We will run the code to do that below and look at what we produce.  "
   ]
  },
  {
   "cell_type": "code",
   "execution_count": 13,
   "id": "a5c9c860-21ae-4719-8e2e-5860002b2907",
   "metadata": {},
   "outputs": [],
   "source": [
    "# Load model\n",
    "newsgroups_default_model_saved = BERTopic.load(model_storage_path)"
   ]
  },
  {
   "cell_type": "code",
   "execution_count": 14,
   "id": "37d7e6db-3e85-42fa-9cb5-bb5a81fa5c26",
   "metadata": {},
   "outputs": [
    {
     "data": {
      "text/html": [
       "<div>\n",
       "<style scoped>\n",
       "    .dataframe tbody tr th:only-of-type {\n",
       "        vertical-align: middle;\n",
       "    }\n",
       "\n",
       "    .dataframe tbody tr th {\n",
       "        vertical-align: top;\n",
       "    }\n",
       "\n",
       "    .dataframe thead th {\n",
       "        text-align: right;\n",
       "    }\n",
       "</style>\n",
       "<table border=\"1\" class=\"dataframe\">\n",
       "  <thead>\n",
       "    <tr style=\"text-align: right;\">\n",
       "      <th></th>\n",
       "      <th>Topic</th>\n",
       "      <th>Count</th>\n",
       "      <th>Name</th>\n",
       "      <th>Representation</th>\n",
       "      <th>Representative_Docs</th>\n",
       "    </tr>\n",
       "  </thead>\n",
       "  <tbody>\n",
       "    <tr>\n",
       "      <th>0</th>\n",
       "      <td>-1</td>\n",
       "      <td>6422</td>\n",
       "      <td>-1_to_the_is_you</td>\n",
       "      <td>[to, the, is, you, of, and, it, in, for, that]</td>\n",
       "      <td>NaN</td>\n",
       "    </tr>\n",
       "    <tr>\n",
       "      <th>1</th>\n",
       "      <td>0</td>\n",
       "      <td>1836</td>\n",
       "      <td>0_game_team_games_he</td>\n",
       "      <td>[game, team, games, he, players, season, hocke...</td>\n",
       "      <td>NaN</td>\n",
       "    </tr>\n",
       "    <tr>\n",
       "      <th>2</th>\n",
       "      <td>1</td>\n",
       "      <td>560</td>\n",
       "      <td>1_key_clipper_chip_encryption</td>\n",
       "      <td>[key, clipper, chip, encryption, keys, escrow,...</td>\n",
       "      <td>NaN</td>\n",
       "    </tr>\n",
       "    <tr>\n",
       "      <th>3</th>\n",
       "      <td>2</td>\n",
       "      <td>524</td>\n",
       "      <td>2_ites_cheek_yep_huh</td>\n",
       "      <td>[ites, cheek, yep, huh, ken, why, each, of, , ]</td>\n",
       "      <td>NaN</td>\n",
       "    </tr>\n",
       "    <tr>\n",
       "      <th>4</th>\n",
       "      <td>3</td>\n",
       "      <td>471</td>\n",
       "      <td>3_fbi_batf_fire_koresh</td>\n",
       "      <td>[fbi, batf, fire, koresh, compound, they, gas,...</td>\n",
       "      <td>NaN</td>\n",
       "    </tr>\n",
       "  </tbody>\n",
       "</table>\n",
       "</div>"
      ],
      "text/plain": [
       "   Topic  Count                           Name  \\\n",
       "0     -1   6422               -1_to_the_is_you   \n",
       "1      0   1836           0_game_team_games_he   \n",
       "2      1    560  1_key_clipper_chip_encryption   \n",
       "3      2    524           2_ites_cheek_yep_huh   \n",
       "4      3    471         3_fbi_batf_fire_koresh   \n",
       "\n",
       "                                      Representation  Representative_Docs  \n",
       "0     [to, the, is, you, of, and, it, in, for, that]                  NaN  \n",
       "1  [game, team, games, he, players, season, hocke...                  NaN  \n",
       "2  [key, clipper, chip, encryption, keys, escrow,...                  NaN  \n",
       "3    [ites, cheek, yep, huh, ken, why, each, of, , ]                  NaN  \n",
       "4  [fbi, batf, fire, koresh, compound, they, gas,...                  NaN  "
      ]
     },
     "execution_count": 14,
     "metadata": {},
     "output_type": "execute_result"
    }
   ],
   "source": [
    "# Look at topics\n",
    "newsgroups_default_model_saved.get_topic_info().head()"
   ]
  },
  {
   "cell_type": "markdown",
   "id": "dbf62bd6-4fbf-49c1-b4c2-c037099b8619",
   "metadata": {},
   "source": [
    "**Step 4: Save topic info with representative documents**\n",
    "Looking at the data we see that the Representative_Docs were **NOT** saved in the default.  This is intentional on BERTopics side for data privacy reasons.  However those representative documents are necessary inputs if you want to use Large Language Models (LLM)s to generate sentence representations of your topics.  For this purpose we will save the topic_info dataframe explicitly."
   ]
  },
  {
   "cell_type": "code",
   "execution_count": 17,
   "id": "8554d270-a70c-4b6d-96fc-066e230c269a",
   "metadata": {},
   "outputs": [],
   "source": [
    "# Set topics info as dataframe\n",
    "topics_info_dataframe = newsgroups_default_model.get_topic_info()\n",
    "\n",
    "# Set path to stored filein the same directory as the model. We are using csv for ease in demo, but other file options are available\n",
    "topic_info_path = os.path.join(model_storage_path, 'topic_info.csv')\n",
    "\n",
    "# Store Topics Information as a csv file \n",
    "topics_info_dataframe.to_csv(topic_info_path)"
   ]
  },
  {
   "cell_type": "markdown",
   "id": "b777baea-3e48-44c2-8980-f62119a8455d",
   "metadata": {},
   "source": [
    "### 4.  Loading Saved Model outputs\n",
    "\n",
    "We have already loaded the saved model in step 3 above when we checked it.  We will now load the topic info from the csv and merge this back into the loaded model."
   ]
  },
  {
   "cell_type": "code",
   "execution_count": 21,
   "id": "f5b8b1d2-79e7-41bb-8d7d-0060718b229d",
   "metadata": {},
   "outputs": [],
   "source": [
    "newsgroups_default_model_saved_topics_info = pd.read_csv(topic_info_path)"
   ]
  },
  {
   "cell_type": "code",
   "execution_count": 22,
   "id": "ca6ceeae-c82d-4bf1-87af-dc1e39488595",
   "metadata": {},
   "outputs": [
    {
     "data": {
      "text/html": [
       "<div>\n",
       "<style scoped>\n",
       "    .dataframe tbody tr th:only-of-type {\n",
       "        vertical-align: middle;\n",
       "    }\n",
       "\n",
       "    .dataframe tbody tr th {\n",
       "        vertical-align: top;\n",
       "    }\n",
       "\n",
       "    .dataframe thead th {\n",
       "        text-align: right;\n",
       "    }\n",
       "</style>\n",
       "<table border=\"1\" class=\"dataframe\">\n",
       "  <thead>\n",
       "    <tr style=\"text-align: right;\">\n",
       "      <th></th>\n",
       "      <th>Unnamed: 0</th>\n",
       "      <th>Topic</th>\n",
       "      <th>Count</th>\n",
       "      <th>Name</th>\n",
       "      <th>Representation</th>\n",
       "      <th>Representative_Docs</th>\n",
       "    </tr>\n",
       "  </thead>\n",
       "  <tbody>\n",
       "    <tr>\n",
       "      <th>0</th>\n",
       "      <td>0</td>\n",
       "      <td>-1</td>\n",
       "      <td>6422</td>\n",
       "      <td>-1_to_the_is_you</td>\n",
       "      <td>['to', 'the', 'is', 'you', 'of', 'and', 'it', ...</td>\n",
       "      <td>['Why should anyone (check: let\\'s restrict th...</td>\n",
       "    </tr>\n",
       "    <tr>\n",
       "      <th>1</th>\n",
       "      <td>1</td>\n",
       "      <td>0</td>\n",
       "      <td>1836</td>\n",
       "      <td>0_game_team_games_he</td>\n",
       "      <td>['game', 'team', 'games', 'he', 'players', 'se...</td>\n",
       "      <td>[\"\\nWales Conference, Adams Division, Semifina...</td>\n",
       "    </tr>\n",
       "    <tr>\n",
       "      <th>2</th>\n",
       "      <td>2</td>\n",
       "      <td>1</td>\n",
       "      <td>560</td>\n",
       "      <td>1_key_clipper_chip_encryption</td>\n",
       "      <td>['key', 'clipper', 'chip', 'encryption', 'keys...</td>\n",
       "      <td>['The following document summarizes the Clippe...</td>\n",
       "    </tr>\n",
       "    <tr>\n",
       "      <th>3</th>\n",
       "      <td>3</td>\n",
       "      <td>2</td>\n",
       "      <td>524</td>\n",
       "      <td>2_ites_cheek_yep_huh</td>\n",
       "      <td>['ites', 'cheek', 'yep', 'huh', 'ken', 'why', ...</td>\n",
       "      <td>['\\nHuh?', '\\nYep.\\n', '\\n \\n                 ...</td>\n",
       "    </tr>\n",
       "    <tr>\n",
       "      <th>4</th>\n",
       "      <td>4</td>\n",
       "      <td>3</td>\n",
       "      <td>471</td>\n",
       "      <td>3_fbi_batf_fire_koresh</td>\n",
       "      <td>['fbi', 'batf', 'fire', 'koresh', 'compound', ...</td>\n",
       "      <td>['Folks,\\n\\nIt\\'s time to start building some ...</td>\n",
       "    </tr>\n",
       "  </tbody>\n",
       "</table>\n",
       "</div>"
      ],
      "text/plain": [
       "   Unnamed: 0  Topic  Count                           Name  \\\n",
       "0           0     -1   6422               -1_to_the_is_you   \n",
       "1           1      0   1836           0_game_team_games_he   \n",
       "2           2      1    560  1_key_clipper_chip_encryption   \n",
       "3           3      2    524           2_ites_cheek_yep_huh   \n",
       "4           4      3    471         3_fbi_batf_fire_koresh   \n",
       "\n",
       "                                      Representation  \\\n",
       "0  ['to', 'the', 'is', 'you', 'of', 'and', 'it', ...   \n",
       "1  ['game', 'team', 'games', 'he', 'players', 'se...   \n",
       "2  ['key', 'clipper', 'chip', 'encryption', 'keys...   \n",
       "3  ['ites', 'cheek', 'yep', 'huh', 'ken', 'why', ...   \n",
       "4  ['fbi', 'batf', 'fire', 'koresh', 'compound', ...   \n",
       "\n",
       "                                 Representative_Docs  \n",
       "0  ['Why should anyone (check: let\\'s restrict th...  \n",
       "1  [\"\\nWales Conference, Adams Division, Semifina...  \n",
       "2  ['The following document summarizes the Clippe...  \n",
       "3  ['\\nHuh?', '\\nYep.\\n', '\\n \\n                 ...  \n",
       "4  ['Folks,\\n\\nIt\\'s time to start building some ...  "
      ]
     },
     "execution_count": 22,
     "metadata": {},
     "output_type": "execute_result"
    }
   ],
   "source": [
    "newsgroups_default_model_saved_topics_info.head()"
   ]
  },
  {
   "cell_type": "code",
   "execution_count": 35,
   "id": "fedfaa53-5e5f-4f63-9745-7e8089d28cc7",
   "metadata": {},
   "outputs": [
    {
     "data": {
      "text/html": [
       "<div>\n",
       "<style scoped>\n",
       "    .dataframe tbody tr th:only-of-type {\n",
       "        vertical-align: middle;\n",
       "    }\n",
       "\n",
       "    .dataframe tbody tr th {\n",
       "        vertical-align: top;\n",
       "    }\n",
       "\n",
       "    .dataframe thead th {\n",
       "        text-align: right;\n",
       "    }\n",
       "</style>\n",
       "<table border=\"1\" class=\"dataframe\">\n",
       "  <thead>\n",
       "    <tr style=\"text-align: right;\">\n",
       "      <th></th>\n",
       "      <th>Topic</th>\n",
       "      <th>Count</th>\n",
       "      <th>Name</th>\n",
       "      <th>Representation</th>\n",
       "      <th>Representative_Docs</th>\n",
       "    </tr>\n",
       "  </thead>\n",
       "  <tbody>\n",
       "    <tr>\n",
       "      <th>0</th>\n",
       "      <td>-1</td>\n",
       "      <td>6422</td>\n",
       "      <td>-1_to_the_is_you</td>\n",
       "      <td>[to, the, is, you, of, and, it, in, for, that]</td>\n",
       "      <td>NaN</td>\n",
       "    </tr>\n",
       "    <tr>\n",
       "      <th>1</th>\n",
       "      <td>0</td>\n",
       "      <td>1836</td>\n",
       "      <td>0_game_team_games_he</td>\n",
       "      <td>[game, team, games, he, players, season, hocke...</td>\n",
       "      <td>NaN</td>\n",
       "    </tr>\n",
       "    <tr>\n",
       "      <th>2</th>\n",
       "      <td>1</td>\n",
       "      <td>560</td>\n",
       "      <td>1_key_clipper_chip_encryption</td>\n",
       "      <td>[key, clipper, chip, encryption, keys, escrow,...</td>\n",
       "      <td>NaN</td>\n",
       "    </tr>\n",
       "    <tr>\n",
       "      <th>3</th>\n",
       "      <td>2</td>\n",
       "      <td>524</td>\n",
       "      <td>2_ites_cheek_yep_huh</td>\n",
       "      <td>[ites, cheek, yep, huh, ken, why, each, of, , ]</td>\n",
       "      <td>NaN</td>\n",
       "    </tr>\n",
       "    <tr>\n",
       "      <th>4</th>\n",
       "      <td>3</td>\n",
       "      <td>471</td>\n",
       "      <td>3_fbi_batf_fire_koresh</td>\n",
       "      <td>[fbi, batf, fire, koresh, compound, they, gas,...</td>\n",
       "      <td>NaN</td>\n",
       "    </tr>\n",
       "    <tr>\n",
       "      <th>...</th>\n",
       "      <td>...</td>\n",
       "      <td>...</td>\n",
       "      <td>...</td>\n",
       "      <td>...</td>\n",
       "      <td>...</td>\n",
       "    </tr>\n",
       "    <tr>\n",
       "      <th>205</th>\n",
       "      <td>204</td>\n",
       "      <td>11</td>\n",
       "      <td>204_usenet_advertising_internet_commercial</td>\n",
       "      <td>[usenet, advertising, internet, commercial, co...</td>\n",
       "      <td>NaN</td>\n",
       "    </tr>\n",
       "    <tr>\n",
       "      <th>206</th>\n",
       "      <td>205</td>\n",
       "      <td>10</td>\n",
       "      <td>205_memory_shared_server_pixmaps</td>\n",
       "      <td>[memory, shared, server, pixmaps, xputimage, e...</td>\n",
       "      <td>NaN</td>\n",
       "    </tr>\n",
       "    <tr>\n",
       "      <th>207</th>\n",
       "      <td>206</td>\n",
       "      <td>10</td>\n",
       "      <td>206_ca_bbs_818_805</td>\n",
       "      <td>[ca, bbs, 818, 805, 408, il, valley, 310, chic...</td>\n",
       "      <td>NaN</td>\n",
       "    </tr>\n",
       "    <tr>\n",
       "      <th>208</th>\n",
       "      <td>207</td>\n",
       "      <td>10</td>\n",
       "      <td>207_freedom_speech_notre_dame</td>\n",
       "      <td>[freedom, speech, notre, dame, speeches, speac...</td>\n",
       "      <td>NaN</td>\n",
       "    </tr>\n",
       "    <tr>\n",
       "      <th>209</th>\n",
       "      <td>208</td>\n",
       "      <td>10</td>\n",
       "      <td>208_stuffit_system_files_disk</td>\n",
       "      <td>[stuffit, system, files, disk, macintosh, soft...</td>\n",
       "      <td>NaN</td>\n",
       "    </tr>\n",
       "  </tbody>\n",
       "</table>\n",
       "<p>210 rows × 5 columns</p>\n",
       "</div>"
      ],
      "text/plain": [
       "     Topic  Count                                        Name  \\\n",
       "0       -1   6422                            -1_to_the_is_you   \n",
       "1        0   1836                        0_game_team_games_he   \n",
       "2        1    560               1_key_clipper_chip_encryption   \n",
       "3        2    524                        2_ites_cheek_yep_huh   \n",
       "4        3    471                      3_fbi_batf_fire_koresh   \n",
       "..     ...    ...                                         ...   \n",
       "205    204     11  204_usenet_advertising_internet_commercial   \n",
       "206    205     10            205_memory_shared_server_pixmaps   \n",
       "207    206     10                          206_ca_bbs_818_805   \n",
       "208    207     10               207_freedom_speech_notre_dame   \n",
       "209    208     10               208_stuffit_system_files_disk   \n",
       "\n",
       "                                        Representation Representative_Docs  \n",
       "0       [to, the, is, you, of, and, it, in, for, that]                 NaN  \n",
       "1    [game, team, games, he, players, season, hocke...                 NaN  \n",
       "2    [key, clipper, chip, encryption, keys, escrow,...                 NaN  \n",
       "3      [ites, cheek, yep, huh, ken, why, each, of, , ]                 NaN  \n",
       "4    [fbi, batf, fire, koresh, compound, they, gas,...                 NaN  \n",
       "..                                                 ...                 ...  \n",
       "205  [usenet, advertising, internet, commercial, co...                 NaN  \n",
       "206  [memory, shared, server, pixmaps, xputimage, e...                 NaN  \n",
       "207  [ca, bbs, 818, 805, 408, il, valley, 310, chic...                 NaN  \n",
       "208  [freedom, speech, notre, dame, speeches, speac...                 NaN  \n",
       "209  [stuffit, system, files, disk, macintosh, soft...                 NaN  \n",
       "\n",
       "[210 rows x 5 columns]"
      ]
     },
     "execution_count": 35,
     "metadata": {},
     "output_type": "execute_result"
    }
   ],
   "source": [
    "newsgroups_default_model_saved.get_topic_info()"
   ]
  },
  {
   "cell_type": "code",
   "execution_count": 27,
   "id": "f1f8f848-4779-4ff3-8257-f15eebd0c76b",
   "metadata": {},
   "outputs": [],
   "source": [
    "rep_docs_path = os.path.join(model_storage_path, 'representative_docs.json')"
   ]
  },
  {
   "cell_type": "code",
   "execution_count": 29,
   "id": "ea307c43-cb16-406a-b6cb-5726565ce888",
   "metadata": {},
   "outputs": [],
   "source": [
    "import json\n",
    "with open(rep_docs_path, 'w', encoding='utf-8') as f:\n",
    "    json.dump(newsgroups_default_model.representative_docs_, f)"
   ]
  },
  {
   "cell_type": "code",
   "execution_count": 32,
   "id": "2a979c88-71d8-4f2d-85fd-e8a1216ced44",
   "metadata": {},
   "outputs": [],
   "source": [
    "\n",
    "with open(rep_docs_path, 'r', encoding='utf-8') as fr:\n",
    "    rep_docs = json.load(fr)"
   ]
  },
  {
   "cell_type": "code",
   "execution_count": 34,
   "id": "4099f1a4-7261-47eb-9a99-3680f8ae377a",
   "metadata": {},
   "outputs": [],
   "source": [
    "newsgroups_default_model_saved.representative_docs_ = rep_docs"
   ]
  },
  {
   "cell_type": "code",
   "execution_count": 38,
   "id": "ad389074-7e49-43c2-8614-597463938705",
   "metadata": {},
   "outputs": [
    {
     "name": "stdout",
     "output_type": "stream",
     "text": [
      "here\n"
     ]
    }
   ],
   "source": [
    "if newsgroups_default_model_saved.representative_docs_ is not None:\n",
    "    print('here')\n",
    "else:\n",
    "    print('nope')"
   ]
  },
  {
   "cell_type": "code",
   "execution_count": 39,
   "id": "d89e9df3-5aa3-41aa-a3d9-3f8a98644747",
   "metadata": {},
   "outputs": [
    {
     "data": {
      "text/html": [
       "<div>\n",
       "<style scoped>\n",
       "    .dataframe tbody tr th:only-of-type {\n",
       "        vertical-align: middle;\n",
       "    }\n",
       "\n",
       "    .dataframe tbody tr th {\n",
       "        vertical-align: top;\n",
       "    }\n",
       "\n",
       "    .dataframe thead th {\n",
       "        text-align: right;\n",
       "    }\n",
       "</style>\n",
       "<table border=\"1\" class=\"dataframe\">\n",
       "  <thead>\n",
       "    <tr style=\"text-align: right;\">\n",
       "      <th></th>\n",
       "      <th>Topic</th>\n",
       "      <th>Count</th>\n",
       "      <th>Name</th>\n",
       "      <th>Representation</th>\n",
       "      <th>Representative_Docs</th>\n",
       "    </tr>\n",
       "  </thead>\n",
       "  <tbody>\n",
       "    <tr>\n",
       "      <th>0</th>\n",
       "      <td>-1</td>\n",
       "      <td>6422</td>\n",
       "      <td>-1_to_the_is_you</td>\n",
       "      <td>[to, the, is, you, of, and, it, in, for, that]</td>\n",
       "      <td>NaN</td>\n",
       "    </tr>\n",
       "    <tr>\n",
       "      <th>1</th>\n",
       "      <td>0</td>\n",
       "      <td>1836</td>\n",
       "      <td>0_game_team_games_he</td>\n",
       "      <td>[game, team, games, he, players, season, hocke...</td>\n",
       "      <td>NaN</td>\n",
       "    </tr>\n",
       "    <tr>\n",
       "      <th>2</th>\n",
       "      <td>1</td>\n",
       "      <td>560</td>\n",
       "      <td>1_key_clipper_chip_encryption</td>\n",
       "      <td>[key, clipper, chip, encryption, keys, escrow,...</td>\n",
       "      <td>NaN</td>\n",
       "    </tr>\n",
       "    <tr>\n",
       "      <th>3</th>\n",
       "      <td>2</td>\n",
       "      <td>524</td>\n",
       "      <td>2_ites_cheek_yep_huh</td>\n",
       "      <td>[ites, cheek, yep, huh, ken, why, each, of, , ]</td>\n",
       "      <td>NaN</td>\n",
       "    </tr>\n",
       "    <tr>\n",
       "      <th>4</th>\n",
       "      <td>3</td>\n",
       "      <td>471</td>\n",
       "      <td>3_fbi_batf_fire_koresh</td>\n",
       "      <td>[fbi, batf, fire, koresh, compound, they, gas,...</td>\n",
       "      <td>NaN</td>\n",
       "    </tr>\n",
       "  </tbody>\n",
       "</table>\n",
       "</div>"
      ],
      "text/plain": [
       "   Topic  Count                           Name  \\\n",
       "0     -1   6422               -1_to_the_is_you   \n",
       "1      0   1836           0_game_team_games_he   \n",
       "2      1    560  1_key_clipper_chip_encryption   \n",
       "3      2    524           2_ites_cheek_yep_huh   \n",
       "4      3    471         3_fbi_batf_fire_koresh   \n",
       "\n",
       "                                      Representation Representative_Docs  \n",
       "0     [to, the, is, you, of, and, it, in, for, that]                 NaN  \n",
       "1  [game, team, games, he, players, season, hocke...                 NaN  \n",
       "2  [key, clipper, chip, encryption, keys, escrow,...                 NaN  \n",
       "3    [ites, cheek, yep, huh, ken, why, each, of, , ]                 NaN  \n",
       "4  [fbi, batf, fire, koresh, compound, they, gas,...                 NaN  "
      ]
     },
     "execution_count": 39,
     "metadata": {},
     "output_type": "execute_result"
    }
   ],
   "source": [
    "newsgroups_default_model_saved.get_topic_info().head()"
   ]
  },
  {
   "cell_type": "code",
   "execution_count": 46,
   "id": "e085bcd7-75e3-467a-aedb-955cea8a34ca",
   "metadata": {},
   "outputs": [],
   "source": [
    "rep_docs = newsgroups_default_model.representative_docs_"
   ]
  },
  {
   "cell_type": "code",
   "execution_count": 47,
   "id": "edb236ad-215c-404f-b893-e0df4bc5ae3e",
   "metadata": {},
   "outputs": [
    {
     "data": {
      "text/plain": [
       "True"
      ]
     },
     "execution_count": 47,
     "metadata": {},
     "output_type": "execute_result"
    }
   ],
   "source": [
    "rep_docs ==newsgroups_default_model.representative_docs_"
   ]
  },
  {
   "cell_type": "code",
   "execution_count": 48,
   "id": "327e758c-3614-4ea4-a022-c38553e45f40",
   "metadata": {},
   "outputs": [],
   "source": [
    "import json\n",
    "\n",
    "with open('saved_dict.json', 'w') as f:\n",
    "  json.dump(newsgroups_default_model.representative_docs_, f)\n",
    "\n",
    "with open('saved_dict.json') as f:\n",
    "  loaded_dict = json.load(f)\n"
   ]
  },
  {
   "cell_type": "code",
   "execution_count": null,
   "id": "32d7a3a4-c8e8-4318-8524-5a547c945d41",
   "metadata": {},
   "outputs": [],
   "source": []
  },
  {
   "cell_type": "code",
   "execution_count": 23,
   "id": "f8331923-98ae-4870-a4b4-164642adf1cb",
   "metadata": {},
   "outputs": [],
   "source": [
    "# Method 1 - safetensors\n",
    "embedding_model = \"sentence-transformers/all-MiniLM-L6-v2\"\n",
    "base_topic_model.save(\"models/base_topic_model\", serialization=\"safetensors\", save_ctfidf=True, save_embedding_model=embedding_model)\n"
   ]
  },
  {
   "cell_type": "code",
   "execution_count": 24,
   "id": "817de7b4-c700-4a57-8702-3b50ddd68fd4",
   "metadata": {},
   "outputs": [],
   "source": [
    "# Load model\n",
    "base_saved = BERTopic.load(\"models/base_topic_model\")"
   ]
  },
  {
   "cell_type": "code",
   "execution_count": 25,
   "id": "bf8cde6a-a12c-4d32-a0c3-c90cb549df1a",
   "metadata": {
    "tags": []
   },
   "outputs": [
    {
     "data": {
      "text/html": [
       "<div>\n",
       "<style scoped>\n",
       "    .dataframe tbody tr th:only-of-type {\n",
       "        vertical-align: middle;\n",
       "    }\n",
       "\n",
       "    .dataframe tbody tr th {\n",
       "        vertical-align: top;\n",
       "    }\n",
       "\n",
       "    .dataframe thead th {\n",
       "        text-align: right;\n",
       "    }\n",
       "</style>\n",
       "<table border=\"1\" class=\"dataframe\">\n",
       "  <thead>\n",
       "    <tr style=\"text-align: right;\">\n",
       "      <th></th>\n",
       "      <th>Topic</th>\n",
       "      <th>Count</th>\n",
       "      <th>Name</th>\n",
       "      <th>Representation</th>\n",
       "      <th>Representative_Docs</th>\n",
       "    </tr>\n",
       "  </thead>\n",
       "  <tbody>\n",
       "    <tr>\n",
       "      <th>0</th>\n",
       "      <td>-1</td>\n",
       "      <td>6916</td>\n",
       "      <td>-1_to_the_is_of</td>\n",
       "      <td>[to, the, is, of, and, you, for, in, it, that]</td>\n",
       "      <td>NaN</td>\n",
       "    </tr>\n",
       "    <tr>\n",
       "      <th>1</th>\n",
       "      <td>0</td>\n",
       "      <td>1827</td>\n",
       "      <td>0_game_team_games_he</td>\n",
       "      <td>[game, team, games, he, players, season, hocke...</td>\n",
       "      <td>NaN</td>\n",
       "    </tr>\n",
       "    <tr>\n",
       "      <th>2</th>\n",
       "      <td>1</td>\n",
       "      <td>569</td>\n",
       "      <td>1_key_clipper_chip_encryption</td>\n",
       "      <td>[key, clipper, chip, encryption, keys, escrow,...</td>\n",
       "      <td>NaN</td>\n",
       "    </tr>\n",
       "    <tr>\n",
       "      <th>3</th>\n",
       "      <td>2</td>\n",
       "      <td>526</td>\n",
       "      <td>2_ites_cheek_yep_huh</td>\n",
       "      <td>[ites, cheek, yep, huh, ken, ignore, forget, w...</td>\n",
       "      <td>NaN</td>\n",
       "    </tr>\n",
       "    <tr>\n",
       "      <th>4</th>\n",
       "      <td>3</td>\n",
       "      <td>483</td>\n",
       "      <td>3_israel_israeli_jews_arab</td>\n",
       "      <td>[israel, israeli, jews, arab, jewish, arabs, p...</td>\n",
       "      <td>NaN</td>\n",
       "    </tr>\n",
       "  </tbody>\n",
       "</table>\n",
       "</div>"
      ],
      "text/plain": [
       "   Topic  Count                           Name  \\\n",
       "0     -1   6916                -1_to_the_is_of   \n",
       "1      0   1827           0_game_team_games_he   \n",
       "2      1    569  1_key_clipper_chip_encryption   \n",
       "3      2    526           2_ites_cheek_yep_huh   \n",
       "4      3    483     3_israel_israeli_jews_arab   \n",
       "\n",
       "                                      Representation  Representative_Docs  \n",
       "0     [to, the, is, of, and, you, for, in, it, that]                  NaN  \n",
       "1  [game, team, games, he, players, season, hocke...                  NaN  \n",
       "2  [key, clipper, chip, encryption, keys, escrow,...                  NaN  \n",
       "3  [ites, cheek, yep, huh, ken, ignore, forget, w...                  NaN  \n",
       "4  [israel, israeli, jews, arab, jewish, arabs, p...                  NaN  "
      ]
     },
     "execution_count": 25,
     "metadata": {},
     "output_type": "execute_result"
    }
   ],
   "source": [
    "base_saved.get_topic_info().head()"
   ]
  },
  {
   "cell_type": "code",
   "execution_count": 16,
   "id": "6288d68b-b0c4-413a-891e-b22154188314",
   "metadata": {},
   "outputs": [],
   "source": [
    "# Method 2 - pytorch\n",
    "base_topic_model.save(\"models/base_topic_model_pytorch\", serialization=\"pytorch\", save_ctfidf=True, save_embedding_model=embedding_model)\n"
   ]
  },
  {
   "cell_type": "code",
   "execution_count": 18,
   "id": "17051692-9ef6-45ad-a73a-55f647d590d3",
   "metadata": {},
   "outputs": [],
   "source": [
    "# Load model\n",
    "base_saved_pytorch = BERTopic.load(\"models/base_topic_model_pytorch\")"
   ]
  },
  {
   "cell_type": "code",
   "execution_count": 21,
   "id": "3cb30d88-9f75-4cf7-bfb6-9d7e34511790",
   "metadata": {},
   "outputs": [
    {
     "data": {
      "text/html": [
       "<div>\n",
       "<style scoped>\n",
       "    .dataframe tbody tr th:only-of-type {\n",
       "        vertical-align: middle;\n",
       "    }\n",
       "\n",
       "    .dataframe tbody tr th {\n",
       "        vertical-align: top;\n",
       "    }\n",
       "\n",
       "    .dataframe thead th {\n",
       "        text-align: right;\n",
       "    }\n",
       "</style>\n",
       "<table border=\"1\" class=\"dataframe\">\n",
       "  <thead>\n",
       "    <tr style=\"text-align: right;\">\n",
       "      <th></th>\n",
       "      <th>Topic</th>\n",
       "      <th>Count</th>\n",
       "      <th>Name</th>\n",
       "      <th>Representation</th>\n",
       "      <th>Representative_Docs</th>\n",
       "    </tr>\n",
       "  </thead>\n",
       "  <tbody>\n",
       "    <tr>\n",
       "      <th>0</th>\n",
       "      <td>-1</td>\n",
       "      <td>6916</td>\n",
       "      <td>-1_to_the_is_of</td>\n",
       "      <td>[to, the, is, of, and, you, for, in, it, that]</td>\n",
       "      <td>NaN</td>\n",
       "    </tr>\n",
       "    <tr>\n",
       "      <th>1</th>\n",
       "      <td>0</td>\n",
       "      <td>1827</td>\n",
       "      <td>0_game_team_games_he</td>\n",
       "      <td>[game, team, games, he, players, season, hocke...</td>\n",
       "      <td>NaN</td>\n",
       "    </tr>\n",
       "    <tr>\n",
       "      <th>2</th>\n",
       "      <td>1</td>\n",
       "      <td>569</td>\n",
       "      <td>1_key_clipper_chip_encryption</td>\n",
       "      <td>[key, clipper, chip, encryption, keys, escrow,...</td>\n",
       "      <td>NaN</td>\n",
       "    </tr>\n",
       "    <tr>\n",
       "      <th>3</th>\n",
       "      <td>2</td>\n",
       "      <td>526</td>\n",
       "      <td>2_ites_cheek_yep_huh</td>\n",
       "      <td>[ites, cheek, yep, huh, ken, ignore, forget, w...</td>\n",
       "      <td>NaN</td>\n",
       "    </tr>\n",
       "    <tr>\n",
       "      <th>4</th>\n",
       "      <td>3</td>\n",
       "      <td>483</td>\n",
       "      <td>3_israel_israeli_jews_arab</td>\n",
       "      <td>[israel, israeli, jews, arab, jewish, arabs, p...</td>\n",
       "      <td>NaN</td>\n",
       "    </tr>\n",
       "  </tbody>\n",
       "</table>\n",
       "</div>"
      ],
      "text/plain": [
       "   Topic  Count                           Name  \\\n",
       "0     -1   6916                -1_to_the_is_of   \n",
       "1      0   1827           0_game_team_games_he   \n",
       "2      1    569  1_key_clipper_chip_encryption   \n",
       "3      2    526           2_ites_cheek_yep_huh   \n",
       "4      3    483     3_israel_israeli_jews_arab   \n",
       "\n",
       "                                      Representation  Representative_Docs  \n",
       "0     [to, the, is, of, and, you, for, in, it, that]                  NaN  \n",
       "1  [game, team, games, he, players, season, hocke...                  NaN  \n",
       "2  [key, clipper, chip, encryption, keys, escrow,...                  NaN  \n",
       "3  [ites, cheek, yep, huh, ken, ignore, forget, w...                  NaN  \n",
       "4  [israel, israeli, jews, arab, jewish, arabs, p...                  NaN  "
      ]
     },
     "execution_count": 21,
     "metadata": {},
     "output_type": "execute_result"
    }
   ],
   "source": [
    "base_saved_pytorch.get_topic_info().head()"
   ]
  }
 ],
 "metadata": {
  "kernelspec": {
   "display_name": "Python (llm)",
   "language": "python",
   "name": "llm"
  },
  "language_info": {
   "codemirror_mode": {
    "name": "ipython",
    "version": 3
   },
   "file_extension": ".py",
   "mimetype": "text/x-python",
   "name": "python",
   "nbconvert_exporter": "python",
   "pygments_lexer": "ipython3",
   "version": "3.12.1"
  }
 },
 "nbformat": 4,
 "nbformat_minor": 5
}
