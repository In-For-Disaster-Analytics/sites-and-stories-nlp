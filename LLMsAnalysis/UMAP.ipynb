{
 "cells": [
  {
   "cell_type": "code",
   "execution_count": 1,
   "id": "345f5203",
   "metadata": {},
   "outputs": [
    {
     "name": "stderr",
     "output_type": "stream",
     "text": [
      "/home1/06659/wmobley/.local/lib/python3.9/site-packages/ema_workbench/em_framework/evaluators.py:58: UserWarning: ipyparallel not installed - IpyparalleEvaluator not available\n",
      "  warnings.warn(\"ipyparallel not installed - IpyparalleEvaluator not available\")\n",
      "/home1/06659/wmobley/.local/lib/python3.9/site-packages/ema_workbench/analysis/prim.py:30: ImportWarning: altair based interactive inspection not available\n",
      "  warnings.warn((\"altair based interactive \" \"inspection not available\"), ImportWarning)\n"
     ]
    }
   ],
   "source": [
    "import numpy as np\n",
    "from sklearn.datasets import load_digits\n",
    "from sklearn.model_selection import train_test_split\n",
    "from sklearn.preprocessing import StandardScaler\n",
    "import matplotlib.pyplot as plt\n",
    "import seaborn as sns\n",
    "import pandas as pd\n",
    "import hdbscan\n",
    "import sklearn.cluster as cluster\n",
    "from ema_workbench.analysis import prim\n",
    "%matplotlib inline\n",
    "plt.style.use('fivethirtyeight')"
   ]
  },
  {
   "cell_type": "code",
   "execution_count": 2,
   "id": "cc5074c1",
   "metadata": {},
   "outputs": [],
   "source": [
    "sns.set(style='white', context='notebook', rc={'figure.figsize':(7,5)})\n"
   ]
  },
  {
   "cell_type": "code",
   "execution_count": 3,
   "id": "262fa339",
   "metadata": {},
   "outputs": [],
   "source": [
    "df = pd.read_csv(\"CodedOutputs/survey_coded.csv\")"
   ]
  },
  {
   "cell_type": "code",
   "execution_count": 4,
   "id": "91b9ab7e",
   "metadata": {},
   "outputs": [
    {
     "name": "stdout",
     "output_type": "stream",
     "text": [
      "58\n"
     ]
    }
   ],
   "source": [
    "print(len(df))"
   ]
  },
  {
   "cell_type": "code",
   "execution_count": 5,
   "id": "8677a7c4",
   "metadata": {},
   "outputs": [],
   "source": [
    "df = df.fillna(0)\n",
    "surveyData = df[df.columns[1:-1]].values"
   ]
  },
  {
   "cell_type": "code",
   "execution_count": 9,
   "id": "2c3fc88d",
   "metadata": {},
   "outputs": [],
   "source": [
    "df['Survey1']=[\"Combined\" in d for d in df['Unnamed: 0']]"
   ]
  },
  {
   "cell_type": "code",
   "execution_count": 18,
   "id": "edf0f955",
   "metadata": {},
   "outputs": [
    {
     "data": {
      "text/plain": [
       "58"
      ]
     },
     "execution_count": 18,
     "metadata": {},
     "output_type": "execute_result"
    }
   ],
   "source": [
    "len(df)"
   ]
  },
  {
   "cell_type": "code",
   "execution_count": 17,
   "id": "d5a38071",
   "metadata": {},
   "outputs": [
    {
     "data": {
      "text/plain": [
       "(58, 84)"
      ]
     },
     "execution_count": 17,
     "metadata": {},
     "output_type": "execute_result"
    }
   ],
   "source": [
    "surveyData[:,2:].shape"
   ]
  },
  {
   "cell_type": "code",
   "execution_count": 35,
   "id": "c7e1a84b",
   "metadata": {},
   "outputs": [],
   "source": [
    "import umap\n",
    "reducer  = umap.UMAP(\n",
    "    n_neighbors=2,\n",
    "    min_dist=0.0,\n",
    "    n_components=2,\n",
    "    random_state=42,\n",
    ")"
   ]
  },
  {
   "cell_type": "code",
   "execution_count": 36,
   "id": "f50aee6f",
   "metadata": {},
   "outputs": [
    {
     "name": "stderr",
     "output_type": "stream",
     "text": [
      "/work/06659/wmobley/ls6/miniconda3/envs/myenv/lib/python3.9/site-packages/umap/umap_.py:1943: UserWarning: n_jobs value -1 overridden to 1 by setting random_state. Use no seed for parallelism.\n",
      "  warn(f\"n_jobs value {self.n_jobs} overridden to 1 by setting random_state. Use no seed for parallelism.\")\n"
     ]
    },
    {
     "data": {
      "text/plain": [
       "(58, 2)"
      ]
     },
     "execution_count": 36,
     "metadata": {},
     "output_type": "execute_result"
    }
   ],
   "source": [
    "embedding = reducer.fit_transform(surveyData[:,2:])\n",
    "embedding.shape\n"
   ]
  },
  {
   "cell_type": "code",
   "execution_count": 37,
   "id": "8002f00f",
   "metadata": {},
   "outputs": [
    {
     "data": {
      "text/plain": [
       "array([[ 6.2820826, -4.3825073],\n",
       "       [-0.4715426, -5.97764  ],\n",
       "       [-5.552138 ,  1.2589858],\n",
       "       [-2.6541784,  1.0601623],\n",
       "       [ 6.2333274, -4.1855035],\n",
       "       [ 3.8586938, -2.893996 ],\n",
       "       [ 4.6062913, -5.758915 ],\n",
       "       [ 3.7681856, -2.8043234],\n",
       "       [ 3.8017378, -2.836975 ],\n",
       "       [ 4.679582 , -4.8299704],\n",
       "       [ 6.1570144, -4.7721596],\n",
       "       [ 6.507743 , -4.973327 ],\n",
       "       [ 6.2989492, -4.093441 ],\n",
       "       [ 6.53841  , -5.027848 ],\n",
       "       [-3.618918 ,  0.8634579],\n",
       "       [-7.2173038,  1.9387848],\n",
       "       [-0.4715595, -5.9776697]], dtype=float32)"
      ]
     },
     "execution_count": 37,
     "metadata": {},
     "output_type": "execute_result"
    }
   ],
   "source": [
    "embedding[:][df['Survey1']]"
   ]
  },
  {
   "cell_type": "code",
   "execution_count": 39,
   "id": "5313ab03",
   "metadata": {},
   "outputs": [
    {
     "name": "stderr",
     "output_type": "stream",
     "text": [
      "/home1/06659/wmobley/.local/lib/python3.9/site-packages/sklearn/cluster/_kmeans.py:1416: FutureWarning: The default value of `n_init` will change from 10 to 'auto' in 1.4. Set the value of `n_init` explicitly to suppress the warning\n",
      "  super()._check_params_vs_input(X, default_n_init=10)\n"
     ]
    },
    {
     "data": {
      "image/png": "[encoded data removed]",
      "text/plain": [
       "<Figure size 700x500 with 1 Axes>"
      ]
     },
     "metadata": {},
     "output_type": "display_data"
    }
   ],
   "source": [
    "import matplotlib as mpl\n",
    "\n",
    "kmeans_labels = cluster.KMeans(n_clusters=3).fit_predict(embedding)\n",
    "cmap = mpl.colors.ListedColormap([\"#1b9e77\", \"#d95f02\", \"#7570b3\",\"#e7298a\", \"#66a61e\",\"#e6ab02\"])\n",
    "scatter = plt.scatter(embedding[:, 0], embedding[:, 1], c=kmeans_labels, s=5, cmap=cmap);\n",
    "\n",
    "plt.legend(*scatter.legend_elements(num=2),\n",
    "                    loc=\"upper left\", title=\"Cluster\")\n",
    "plt.title('Survey Clusters Reduced using UMAP', fontsize=18);"
   ]
  },
  {
   "cell_type": "code",
   "execution_count": 32,
   "id": "fd33d2a4",
   "metadata": {},
   "outputs": [
    {
     "data": {
      "text/plain": [
       "['All',\n",
       " 'Audience',\n",
       " 'Stage in Water Process',\n",
       " 'Administrative process',\n",
       " 'Administrative Considerations',\n",
       " 'Compliance',\n",
       " 'Strategic Planning',\n",
       " 'Funding',\n",
       " 'Worker Safety',\n",
       " 'Health care',\n",
       " 'Water Quality ',\n",
       " 'Testing',\n",
       " 'Laboratory',\n",
       " 'Field',\n",
       " 'At-home',\n",
       " 'Source Water Testing',\n",
       " 'Biological',\n",
       " 'Chemical',\n",
       " 'Physical contaminents',\n",
       " 'Possible Contamination Sources',\n",
       " 'Effluent at End of Treatment Process',\n",
       " 'Biological.1',\n",
       " 'Chemical.1',\n",
       " 'Physical properties.1',\n",
       " 'Water received by the end-user',\n",
       " 'Biological.2',\n",
       " 'Chemical.2',\n",
       " 'Physical Properties.1',\n",
       " 'Treatment Process',\n",
       " 'Operating System',\n",
       " 'Equipment Installation',\n",
       " 'Equipment Operations',\n",
       " 'Equipment Maintenance',\n",
       " 'System Components',\n",
       " 'System Monitoring',\n",
       " 'Design Considerations',\n",
       " 'Threats and Security',\n",
       " 'Climate and Environment',\n",
       " 'Cybersecurity',\n",
       " 'System Breakdown',\n",
       " 'Hazardous Materials',\n",
       " 'Technical Considerations',\n",
       " 'Technical Background',\n",
       " 'Social Background',\n",
       " 'Social Considerations',\n",
       " 'Certification',\n",
       " 'Statistics on Certified People',\n",
       " 'Design of Certification Process',\n",
       " 'Content Covered',\n",
       " 'Application Process',\n",
       " 'Benefits of Certification',\n",
       " 'Accessibility of Material',\n",
       " 'Request hard copy',\n",
       " 'In-Person',\n",
       " 'Library',\n",
       " 'Online',\n",
       " 'Cost Considerations',\n",
       " 'Continuing Education Requirements or Renewal',\n",
       " 'Experience Requirements',\n",
       " 'Previous Education Considerations',\n",
       " 'Study Tactics',\n",
       " 'Consequences of Poor Management',\n",
       " 'Collaboration',\n",
       " 'Water Governance',\n",
       " 'Federal Policies and Regulations',\n",
       " 'State Policies and Regulations',\n",
       " 'Tribal Governance',\n",
       " 'Community Outreach',\n",
       " 'Water System Stakeholders',\n",
       " 'Environmental Attorneys Lawyers',\n",
       " 'End-Users.1',\n",
       " 'Developers',\n",
       " 'Relevance',\n",
       " 'Relevance To environment',\n",
       " 'To Operator',\n",
       " 'Positive implications',\n",
       " 'Negative implications',\n",
       " 'To End-User',\n",
       " 'To Endvirnment',\n",
       " 'COVID-19',\n",
       " 'local',\n",
       " 'federal',\n",
       " 'state',\n",
       " 'Unnamed: 84',\n",
       " 'Operators-in-training',\n",
       " 'Governmental or Tribal Officials',\n",
       " 'Survey1']"
      ]
     },
     "execution_count": 32,
     "metadata": {},
     "output_type": "execute_result"
    }
   ],
   "source": [
    "c = df.columns[1:-2].tolist()\n",
    "c.append('Survey1')\n",
    "c"
   ]
  },
  {
   "cell_type": "code",
   "execution_count": 46,
   "id": "7d78fe40",
   "metadata": {},
   "outputs": [
    {
     "data": {
      "image/png": "[encoded data removed]",
      "text/plain": [
       "<Figure size 700x500 with 2 Axes>"
      ]
     },
     "metadata": {},
     "output_type": "display_data"
    },
    {
     "name": "stdout",
     "output_type": "stream",
     "text": [
      "coverage    0.838710\n",
      "density     0.812500\n",
      "id          7.000000\n",
      "mass        0.551724\n",
      "mean        0.812500\n",
      "res_dim     7.000000\n",
      "Name: 7, dtype: float64\n",
      "\n",
      "                               box 7                        \n",
      "                                 min  max qp value  qp value\n",
      "Physical Properties.1            0.0  0.0      NaN  0.054378\n",
      "Health care                      0.0  0.0      NaN  0.308029\n",
      "Chemical.2                       0.0  0.0      NaN  0.467252\n",
      "Equipment Installation           0.0  0.0      NaN  0.606880\n",
      "Cybersecurity                    0.0  0.0      NaN  0.606880\n",
      "Statistics on Certified People   0.0  0.0      NaN  0.606880\n",
      "Negative implications            0.0  0.0      NaN  0.606880\n",
      "\n"
     ]
    },
    {
     "data": {
      "text/plain": [
       "[None]"
      ]
     },
     "execution_count": 46,
     "metadata": {},
     "output_type": "execute_result"
    }
   ],
   "source": [
    "y = kmeans_labels==0\n",
    "\n",
    "\n",
    "p = prim.Prim(df[df.columns[3:]], y, threshold=0.5)\n",
    "    \n",
    "box = p.find_box()\n",
    "box.show_tradeoff()\n",
    "\n",
    "plt.show()\n",
    "box.inspect(7)"
   ]
  },
  {
   "cell_type": "code",
   "execution_count": 44,
   "id": "9ae5b6fa",
   "metadata": {},
   "outputs": [
    {
     "data": {
      "image/png": "[encoded data removed]",
      "text/plain": [
       "<Figure size 700x500 with 2 Axes>"
      ]
     },
     "metadata": {},
     "output_type": "display_data"
    },
    {
     "name": "stdout",
     "output_type": "stream",
     "text": [
      "coverage    1.000000\n",
      "density     0.431034\n",
      "id          0.000000\n",
      "mass        1.000000\n",
      "mean        0.431034\n",
      "res_dim     0.000000\n",
      "Name: 0, dtype: float64\n",
      "\n",
      "Empty DataFrame\n",
      "Columns: [(box 0, min), (box 0, max), (box 0, qp value), (box 0, qp value)]\n",
      "Index: []\n",
      "\n"
     ]
    },
    {
     "data": {
      "text/plain": [
       "[None]"
      ]
     },
     "execution_count": 44,
     "metadata": {},
     "output_type": "execute_result"
    }
   ],
   "source": [
    "y = kmeans_labels==1\n",
    "\n",
    "\n",
    "p = prim.Prim(df[df.columns[3:]], y, threshold=0.5)\n",
    "    \n",
    "box = p.find_box()\n",
    "box.show_tradeoff()\n",
    "\n",
    "plt.show()\n",
    "box.inspect(0)"
   ]
  },
  {
   "cell_type": "code",
   "execution_count": 45,
   "id": "6f7c5050",
   "metadata": {},
   "outputs": [
    {
     "data": {
      "image/png": "[encoded data removed]",
      "text/plain": [
       "<Figure size 700x500 with 2 Axes>"
      ]
     },
     "metadata": {},
     "output_type": "display_data"
    },
    {
     "ename": "IndexError",
     "evalue": "single positional indexer is out-of-bounds",
     "output_type": "error",
     "traceback": [
      "\u001b[0;31m---------------------------------------------------------------------------\u001b[0m",
      "\u001b[0;31mIndexError\u001b[0m                                Traceback (most recent call last)",
      "Cell \u001b[0;32mIn[45], line 10\u001b[0m\n\u001b[1;32m      7\u001b[0m box\u001b[38;5;241m.\u001b[39mshow_tradeoff()\n\u001b[1;32m      9\u001b[0m plt\u001b[38;5;241m.\u001b[39mshow()\n\u001b[0;32m---> 10\u001b[0m \u001b[43mbox\u001b[49m\u001b[38;5;241;43m.\u001b[39;49m\u001b[43minspect\u001b[49m\u001b[43m(\u001b[49m\u001b[38;5;241;43m3\u001b[39;49m\u001b[43m)\u001b[49m\n",
      "File \u001b[0;32m~/.local/lib/python3.9/site-packages/ema_workbench/analysis/prim.py:420\u001b[0m, in \u001b[0;36mPrimBox.inspect\u001b[0;34m(self, i, style, **kwargs)\u001b[0m\n\u001b[1;32m    417\u001b[0m \u001b[38;5;28;01mif\u001b[39;00m \u001b[38;5;129;01mnot\u001b[39;00m \u001b[38;5;28mall\u001b[39m(\u001b[38;5;28misinstance\u001b[39m(x, \u001b[38;5;28mint\u001b[39m) \u001b[38;5;28;01mfor\u001b[39;00m x \u001b[38;5;129;01min\u001b[39;00m i):\n\u001b[1;32m    418\u001b[0m     \u001b[38;5;28;01mraise\u001b[39;00m \u001b[38;5;167;01mTypeError\u001b[39;00m(\u001b[38;5;124m\"\u001b[39m\u001b[38;5;124mi must be an integer or list of integers\u001b[39m\u001b[38;5;124m\"\u001b[39m)\n\u001b[0;32m--> 420\u001b[0m \u001b[38;5;28;01mreturn\u001b[39;00m [\u001b[38;5;28mself\u001b[39m\u001b[38;5;241m.\u001b[39m_inspect(entry, style\u001b[38;5;241m=\u001b[39mstyle, \u001b[38;5;241m*\u001b[39m\u001b[38;5;241m*\u001b[39mkwargs) \u001b[38;5;28;01mfor\u001b[39;00m entry \u001b[38;5;129;01min\u001b[39;00m i]\n",
      "File \u001b[0;32m~/.local/lib/python3.9/site-packages/ema_workbench/analysis/prim.py:420\u001b[0m, in \u001b[0;36m<listcomp>\u001b[0;34m(.0)\u001b[0m\n\u001b[1;32m    417\u001b[0m \u001b[38;5;28;01mif\u001b[39;00m \u001b[38;5;129;01mnot\u001b[39;00m \u001b[38;5;28mall\u001b[39m(\u001b[38;5;28misinstance\u001b[39m(x, \u001b[38;5;28mint\u001b[39m) \u001b[38;5;28;01mfor\u001b[39;00m x \u001b[38;5;129;01min\u001b[39;00m i):\n\u001b[1;32m    418\u001b[0m     \u001b[38;5;28;01mraise\u001b[39;00m \u001b[38;5;167;01mTypeError\u001b[39;00m(\u001b[38;5;124m\"\u001b[39m\u001b[38;5;124mi must be an integer or list of integers\u001b[39m\u001b[38;5;124m\"\u001b[39m)\n\u001b[0;32m--> 420\u001b[0m \u001b[38;5;28;01mreturn\u001b[39;00m [\u001b[38;5;28;43mself\u001b[39;49m\u001b[38;5;241;43m.\u001b[39;49m\u001b[43m_inspect\u001b[49m\u001b[43m(\u001b[49m\u001b[43mentry\u001b[49m\u001b[43m,\u001b[49m\u001b[43m \u001b[49m\u001b[43mstyle\u001b[49m\u001b[38;5;241;43m=\u001b[39;49m\u001b[43mstyle\u001b[49m\u001b[43m,\u001b[49m\u001b[43m \u001b[49m\u001b[38;5;241;43m*\u001b[39;49m\u001b[38;5;241;43m*\u001b[39;49m\u001b[43mkwargs\u001b[49m\u001b[43m)\u001b[49m \u001b[38;5;28;01mfor\u001b[39;00m entry \u001b[38;5;129;01min\u001b[39;00m i]\n",
      "File \u001b[0;32m~/.local/lib/python3.9/site-packages/ema_workbench/analysis/prim.py:436\u001b[0m, in \u001b[0;36mPrimBox._inspect\u001b[0;34m(self, i, style, **kwargs)\u001b[0m\n\u001b[1;32m    422\u001b[0m \u001b[38;5;28;01mdef\u001b[39;00m \u001b[38;5;21m_inspect\u001b[39m(\u001b[38;5;28mself\u001b[39m, i\u001b[38;5;241m=\u001b[39m\u001b[38;5;28;01mNone\u001b[39;00m, style\u001b[38;5;241m=\u001b[39m\u001b[38;5;124m\"\u001b[39m\u001b[38;5;124mtable\u001b[39m\u001b[38;5;124m\"\u001b[39m, \u001b[38;5;241m*\u001b[39m\u001b[38;5;241m*\u001b[39mkwargs):\n\u001b[1;32m    423\u001b[0m \u001b[38;5;250m    \u001b[39m\u001b[38;5;124;03m\"\"\"Helper method for inspecting one or more boxes on the\u001b[39;00m\n\u001b[1;32m    424\u001b[0m \u001b[38;5;124;03m    peeling trajectory\u001b[39;00m\n\u001b[1;32m    425\u001b[0m \n\u001b[0;32m   (...)\u001b[0m\n\u001b[1;32m    433\u001b[0m \n\u001b[1;32m    434\u001b[0m \u001b[38;5;124;03m    \"\"\"\u001b[39;00m\n\u001b[0;32m--> 436\u001b[0m     stats \u001b[38;5;241m=\u001b[39m \u001b[38;5;28;43mself\u001b[39;49m\u001b[38;5;241;43m.\u001b[39;49m\u001b[43mpeeling_trajectory\u001b[49m\u001b[38;5;241;43m.\u001b[39;49m\u001b[43miloc\u001b[49m\u001b[43m[\u001b[49m\u001b[43mi\u001b[49m\u001b[43m]\u001b[49m\u001b[38;5;241m.\u001b[39mto_dict()\n\u001b[1;32m    437\u001b[0m     stats[\u001b[38;5;124m\"\u001b[39m\u001b[38;5;124mrestricted_dim\u001b[39m\u001b[38;5;124m\"\u001b[39m] \u001b[38;5;241m=\u001b[39m stats[\u001b[38;5;124m\"\u001b[39m\u001b[38;5;124mres_dim\u001b[39m\u001b[38;5;124m\"\u001b[39m]\n\u001b[1;32m    439\u001b[0m     qp_values \u001b[38;5;241m=\u001b[39m \u001b[38;5;28mself\u001b[39m\u001b[38;5;241m.\u001b[39mqp[i]\n",
      "File \u001b[0;32m/work/06659/wmobley/ls6/miniconda3/envs/myenv/lib/python3.9/site-packages/pandas/core/indexing.py:1153\u001b[0m, in \u001b[0;36m_LocationIndexer.__getitem__\u001b[0;34m(self, key)\u001b[0m\n\u001b[1;32m   1150\u001b[0m axis \u001b[38;5;241m=\u001b[39m \u001b[38;5;28mself\u001b[39m\u001b[38;5;241m.\u001b[39maxis \u001b[38;5;129;01mor\u001b[39;00m \u001b[38;5;241m0\u001b[39m\n\u001b[1;32m   1152\u001b[0m maybe_callable \u001b[38;5;241m=\u001b[39m com\u001b[38;5;241m.\u001b[39mapply_if_callable(key, \u001b[38;5;28mself\u001b[39m\u001b[38;5;241m.\u001b[39mobj)\n\u001b[0;32m-> 1153\u001b[0m \u001b[38;5;28;01mreturn\u001b[39;00m \u001b[38;5;28;43mself\u001b[39;49m\u001b[38;5;241;43m.\u001b[39;49m\u001b[43m_getitem_axis\u001b[49m\u001b[43m(\u001b[49m\u001b[43mmaybe_callable\u001b[49m\u001b[43m,\u001b[49m\u001b[43m \u001b[49m\u001b[43maxis\u001b[49m\u001b[38;5;241;43m=\u001b[39;49m\u001b[43maxis\u001b[49m\u001b[43m)\u001b[49m\n",
      "File \u001b[0;32m/work/06659/wmobley/ls6/miniconda3/envs/myenv/lib/python3.9/site-packages/pandas/core/indexing.py:1714\u001b[0m, in \u001b[0;36m_iLocIndexer._getitem_axis\u001b[0;34m(self, key, axis)\u001b[0m\n\u001b[1;32m   1711\u001b[0m     \u001b[38;5;28;01mraise\u001b[39;00m \u001b[38;5;167;01mTypeError\u001b[39;00m(\u001b[38;5;124m\"\u001b[39m\u001b[38;5;124mCannot index by location index with a non-integer key\u001b[39m\u001b[38;5;124m\"\u001b[39m)\n\u001b[1;32m   1713\u001b[0m \u001b[38;5;66;03m# validate the location\u001b[39;00m\n\u001b[0;32m-> 1714\u001b[0m \u001b[38;5;28;43mself\u001b[39;49m\u001b[38;5;241;43m.\u001b[39;49m\u001b[43m_validate_integer\u001b[49m\u001b[43m(\u001b[49m\u001b[43mkey\u001b[49m\u001b[43m,\u001b[49m\u001b[43m \u001b[49m\u001b[43maxis\u001b[49m\u001b[43m)\u001b[49m\n\u001b[1;32m   1716\u001b[0m \u001b[38;5;28;01mreturn\u001b[39;00m \u001b[38;5;28mself\u001b[39m\u001b[38;5;241m.\u001b[39mobj\u001b[38;5;241m.\u001b[39m_ixs(key, axis\u001b[38;5;241m=\u001b[39maxis)\n",
      "File \u001b[0;32m/work/06659/wmobley/ls6/miniconda3/envs/myenv/lib/python3.9/site-packages/pandas/core/indexing.py:1647\u001b[0m, in \u001b[0;36m_iLocIndexer._validate_integer\u001b[0;34m(self, key, axis)\u001b[0m\n\u001b[1;32m   1645\u001b[0m len_axis \u001b[38;5;241m=\u001b[39m \u001b[38;5;28mlen\u001b[39m(\u001b[38;5;28mself\u001b[39m\u001b[38;5;241m.\u001b[39mobj\u001b[38;5;241m.\u001b[39m_get_axis(axis))\n\u001b[1;32m   1646\u001b[0m \u001b[38;5;28;01mif\u001b[39;00m key \u001b[38;5;241m>\u001b[39m\u001b[38;5;241m=\u001b[39m len_axis \u001b[38;5;129;01mor\u001b[39;00m key \u001b[38;5;241m<\u001b[39m \u001b[38;5;241m-\u001b[39mlen_axis:\n\u001b[0;32m-> 1647\u001b[0m     \u001b[38;5;28;01mraise\u001b[39;00m \u001b[38;5;167;01mIndexError\u001b[39;00m(\u001b[38;5;124m\"\u001b[39m\u001b[38;5;124msingle positional indexer is out-of-bounds\u001b[39m\u001b[38;5;124m\"\u001b[39m)\n",
      "\u001b[0;31mIndexError\u001b[0m: single positional indexer is out-of-bounds"
     ]
    }
   ],
   "source": [
    "y = kmeans_labels==2\n",
    "\n",
    "\n",
    "p = prim.Prim(df[df.columns[3:]], y, threshold=0.5)\n",
    "    \n",
    "box = p.find_box()\n",
    "box.show_tradeoff()\n",
    "\n",
    "plt.show()\n",
    "box.inspect(3)"
   ]
  },
  {
   "cell_type": "code",
   "execution_count": null,
   "id": "f7e5175e",
   "metadata": {},
   "outputs": [],
   "source": [
    "plt.scatter(embedding[:, 0], embedding[:, 1],\n",
    "            c=[i for i, f in enumerate(df.file)] ,s=10, cmap='Spectral');"
   ]
  },
  {
   "cell_type": "code",
   "execution_count": null,
   "id": "9d56b727",
   "metadata": {},
   "outputs": [],
   "source": [
    "y = kmeans_labels==3\n",
    "\n",
    "\n",
    "p = prim.Prim(df[df.columns[1:-1]], y, threshold=0.5)\n",
    "    \n",
    "box = p.find_box()\n",
    "box.show_tradeoff()\n",
    "\n",
    "plt.show()\n",
    "box.inspect(2)"
   ]
  },
  {
   "cell_type": "code",
   "execution_count": null,
   "id": "be2af231",
   "metadata": {},
   "outputs": [],
   "source": [
    "y = kmeans_labels==4\n",
    "\n",
    "\n",
    "p = prim.Prim(df[df.columns[1:-1]], y, threshold=0.5)\n",
    "    \n",
    "box = p.find_box()\n",
    "box.show_tradeoff()\n",
    "\n",
    "plt.show()\n",
    "box.inspect(2)"
   ]
  },
  {
   "cell_type": "code",
   "execution_count": null,
   "id": "cd10fb1f",
   "metadata": {},
   "outputs": [],
   "source": [
    "y = kmeans_labels==5\n",
    "\n",
    "\n",
    "p = prim.Prim(df[df.columns[1:-1]], y, threshold=0.5)\n",
    "    \n",
    "box = p.find_box()\n",
    "box.show_tradeoff()\n",
    "\n",
    "plt.show()\n",
    "box.inspect(2)"
   ]
  },
  {
   "cell_type": "code",
   "execution_count": null,
   "id": "04b47ec9",
   "metadata": {},
   "outputs": [],
   "source": [
    "plt.scatter(embedding[:, 0], embedding[:, 1], c=[i for i, f in enumerate(df.file)], cmap='Spectral', s=10)\n",
    "plt.gca().set_aspect('equal', 'datalim')\n",
    "plt.colorbar(boundaries=np.arange(len(df))).set_ticks(np.arange(len(df)/3))\n",
    "plt.title('UMAP projection of the Digits dataset', fontsize=24);"
   ]
  },
  {
   "cell_type": "code",
   "execution_count": null,
   "id": "4a035f41",
   "metadata": {},
   "outputs": [],
   "source": [
    "df['x']=embedding[:,0] \n",
    "df['y']=embedding[:,1] \n",
    "df['cluster']=kmeans_labels\n",
    "df.to_csv(\"SurveyClusters.csv\", index=False)"
   ]
  },
  {
   "cell_type": "code",
   "execution_count": null,
   "id": "c6fc5d81",
   "metadata": {},
   "outputs": [],
   "source": []
  },
  {
   "cell_type": "code",
   "execution_count": null,
   "id": "4f9e8c9e",
   "metadata": {},
   "outputs": [],
   "source": []
  }
 ],
 "metadata": {
  "kernelspec": {
   "display_name": "Python (My New Env)",
   "language": "python",
   "name": "myenv"
  },
  "language_info": {
   "codemirror_mode": {
    "name": "ipython",
    "version": 3
   },
   "file_extension": ".py",
   "mimetype": "text/x-python",
   "name": "python",
   "nbconvert_exporter": "python",
   "pygments_lexer": "ipython3",
   "version": "3.9.18"
  }
 },
 "nbformat": 4,
 "nbformat_minor": 5
}
