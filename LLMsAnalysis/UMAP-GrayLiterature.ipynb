{
 "cells": [
  {
   "cell_type": "code",
   "execution_count": 1,
   "id": "e965bf92",
   "metadata": {},
   "outputs": [
    {
     "name": "stdout",
     "output_type": "stream",
     "text": [
      "Requirement already satisfied: ema_workbench in /work/06659/wmobley/minconda3/lib/python3.11/site-packages (2.4.1)\n",
      "Requirement already satisfied: numpy in /work/06659/wmobley/minconda3/lib/python3.11/site-packages (from ema_workbench) (1.26.0)\n",
      "Requirement already satisfied: pandas in /work/06659/wmobley/minconda3/lib/python3.11/site-packages (from ema_workbench) (2.1.1)\n",
      "Requirement already satisfied: scikit-learn in /work/06659/wmobley/minconda3/lib/python3.11/site-packages (from ema_workbench) (1.3.1)\n",
      "Requirement already satisfied: salib>=1.4.6 in /work/06659/wmobley/minconda3/lib/python3.11/site-packages (from ema_workbench) (1.4.7)\n",
      "Requirement already satisfied: platypus-opt in /work/06659/wmobley/minconda3/lib/python3.11/site-packages (from ema_workbench) (1.1.0)\n",
      "Requirement already satisfied: matplotlib in /work/06659/wmobley/minconda3/lib/python3.11/site-packages (from ema_workbench) (3.8.0)\n",
      "Requirement already satisfied: statsmodels in /work/06659/wmobley/minconda3/lib/python3.11/site-packages (from ema_workbench) (0.14.0)\n",
      "Requirement already satisfied: seaborn in /work/06659/wmobley/minconda3/lib/python3.11/site-packages (from ema_workbench) (0.13.0)\n",
      "Requirement already satisfied: tqdm in /work/06659/wmobley/minconda3/lib/python3.11/site-packages (from ema_workbench) (4.65.0)\n",
      "Requirement already satisfied: multiprocess in /work/06659/wmobley/minconda3/lib/python3.11/site-packages (from salib>=1.4.6->ema_workbench) (0.70.15)\n",
      "Requirement already satisfied: scipy>=1.7.3 in /work/06659/wmobley/minconda3/lib/python3.11/site-packages (from salib>=1.4.6->ema_workbench) (1.11.3)\n",
      "Requirement already satisfied: contourpy>=1.0.1 in /work/06659/wmobley/minconda3/lib/python3.11/site-packages (from matplotlib->ema_workbench) (1.1.1)\n",
      "Requirement already satisfied: cycler>=0.10 in /work/06659/wmobley/minconda3/lib/python3.11/site-packages (from matplotlib->ema_workbench) (0.12.1)\n",
      "Requirement already satisfied: fonttools>=4.22.0 in /work/06659/wmobley/minconda3/lib/python3.11/site-packages (from matplotlib->ema_workbench) (4.43.1)\n",
      "Requirement already satisfied: kiwisolver>=1.0.1 in /work/06659/wmobley/minconda3/lib/python3.11/site-packages (from matplotlib->ema_workbench) (1.4.5)\n",
      "Requirement already satisfied: packaging>=20.0 in /work/06659/wmobley/minconda3/lib/python3.11/site-packages (from matplotlib->ema_workbench) (23.0)\n",
      "Requirement already satisfied: pillow>=6.2.0 in /work/06659/wmobley/minconda3/lib/python3.11/site-packages (from matplotlib->ema_workbench) (10.1.0)\n",
      "Requirement already satisfied: pyparsing>=2.3.1 in /work/06659/wmobley/minconda3/lib/python3.11/site-packages (from matplotlib->ema_workbench) (3.1.1)\n",
      "Requirement already satisfied: python-dateutil>=2.7 in /work/06659/wmobley/minconda3/lib/python3.11/site-packages (from matplotlib->ema_workbench) (2.8.2)\n",
      "Requirement already satisfied: pytz>=2020.1 in /work/06659/wmobley/minconda3/lib/python3.11/site-packages (from pandas->ema_workbench) (2023.3.post1)\n",
      "Requirement already satisfied: tzdata>=2022.1 in /work/06659/wmobley/minconda3/lib/python3.11/site-packages (from pandas->ema_workbench) (2023.3)\n",
      "Requirement already satisfied: joblib>=1.1.1 in /work/06659/wmobley/minconda3/lib/python3.11/site-packages (from scikit-learn->ema_workbench) (1.3.2)\n",
      "Requirement already satisfied: threadpoolctl>=2.0.0 in /work/06659/wmobley/minconda3/lib/python3.11/site-packages (from scikit-learn->ema_workbench) (3.2.0)\n",
      "Requirement already satisfied: patsy>=0.5.2 in /work/06659/wmobley/minconda3/lib/python3.11/site-packages (from statsmodels->ema_workbench) (0.5.3)\n",
      "Requirement already satisfied: six in /work/06659/wmobley/minconda3/lib/python3.11/site-packages (from patsy>=0.5.2->statsmodels->ema_workbench) (1.16.0)\n",
      "Requirement already satisfied: dill>=0.3.7 in /work/06659/wmobley/minconda3/lib/python3.11/site-packages (from multiprocess->salib>=1.4.6->ema_workbench) (0.3.7)\n",
      "Note: you may need to restart the kernel to use updated packages.\n"
     ]
    }
   ],
   "source": [
    "pip install ema_workbench"
   ]
  },
  {
   "cell_type": "code",
   "execution_count": 2,
   "id": "c9a3f8c6",
   "metadata": {},
   "outputs": [
    {
     "name": "stderr",
     "output_type": "stream",
     "text": [
      "/work/06659/wmobley/minconda3/lib/python3.11/site-packages/ema_workbench/em_framework/evaluators.py:58: UserWarning: ipyparallel not installed - IpyparalleEvaluator not available\n",
      "  warnings.warn(\"ipyparallel not installed - IpyparalleEvaluator not available\")\n",
      "/work/06659/wmobley/minconda3/lib/python3.11/site-packages/ema_workbench/analysis/prim.py:30: ImportWarning: altair based interactive inspection not available\n",
      "  warnings.warn((\"altair based interactive \" \"inspection not available\"), ImportWarning)\n"
     ]
    }
   ],
   "source": [
    "import numpy as np\n",
    "from sklearn.datasets import load_digits\n",
    "from sklearn.model_selection import train_test_split\n",
    "from sklearn.preprocessing import StandardScaler\n",
    "import matplotlib.pyplot as plt\n",
    "import seaborn as sns\n",
    "import pandas as pd\n",
    "import hdbscan\n",
    "import sklearn.cluster as cluster\n",
    "from ema_workbench.analysis import prim\n",
    "%matplotlib inline"
   ]
  },
  {
   "cell_type": "code",
   "execution_count": 3,
   "id": "77b35a3a",
   "metadata": {},
   "outputs": [],
   "source": [
    "sns.set(style='white', context='notebook', rc={'figure.figsize':(7,5)})\n"
   ]
  },
  {
   "cell_type": "code",
   "execution_count": 4,
   "id": "9eecc58c",
   "metadata": {},
   "outputs": [],
   "source": [
    "df = pd.read_csv(\"Curated/HandCleaned/CodedTopics.csv\")"
   ]
  },
  {
   "cell_type": "code",
   "execution_count": 5,
   "id": "d52f2126",
   "metadata": {},
   "outputs": [
    {
     "name": "stdout",
     "output_type": "stream",
     "text": [
      "195\n"
     ]
    }
   ],
   "source": [
    "print(len(df))"
   ]
  },
  {
   "cell_type": "code",
   "execution_count": 6,
   "id": "c6e4b8b6",
   "metadata": {},
   "outputs": [],
   "source": [
    "df = df.fillna(0)\n",
    "surveyData = df[df.columns[1:-1]].values"
   ]
  },
  {
   "cell_type": "code",
   "execution_count": null,
   "id": "9cdb6ac8",
   "metadata": {},
   "outputs": [],
   "source": []
  },
  {
   "cell_type": "code",
   "execution_count": 7,
   "id": "063c0e3a",
   "metadata": {},
   "outputs": [
    {
     "data": {
      "text/plain": [
       "array([[1., 1., 0., ..., 0., 0., 0.],\n",
       "       [1., 1., 0., ..., 0., 1., 0.],\n",
       "       [0., 0., 0., ..., 0., 0., 0.],\n",
       "       ...,\n",
       "       [1., 1., 1., ..., 1., 1., 0.],\n",
       "       [1., 1., 0., ..., 0., 0., 0.],\n",
       "       [1., 1., 1., ..., 1., 1., 1.]])"
      ]
     },
     "execution_count": 7,
     "metadata": {},
     "output_type": "execute_result"
    }
   ],
   "source": [
    "surveyData"
   ]
  },
  {
   "cell_type": "code",
   "execution_count": 8,
   "id": "303746b9",
   "metadata": {},
   "outputs": [
    {
     "name": "stderr",
     "output_type": "stream",
     "text": [
      "/work/06659/wmobley/minconda3/lib/python3.11/site-packages/umap/__init__.py:9: ImportWarning: Tensorflow not installed; ParametricUMAP will be unavailable\n",
      "  warn(\n"
     ]
    }
   ],
   "source": [
    "import umap\n",
    "reducer  = umap.UMAP(\n",
    "    n_neighbors=10,\n",
    "    min_dist=0.0,\n",
    "    n_components=2,\n",
    "    random_state=42,\n",
    ")"
   ]
  },
  {
   "cell_type": "code",
   "execution_count": 9,
   "id": "905cd60f",
   "metadata": {},
   "outputs": [
    {
     "name": "stderr",
     "output_type": "stream",
     "text": [
      "/work/06659/wmobley/minconda3/lib/python3.11/site-packages/umap/umap_.py:1943: UserWarning: n_jobs value -1 overridden to 1 by setting random_state. Use no seed for parallelism.\n",
      "  warn(f\"n_jobs value {self.n_jobs} overridden to 1 by setting random_state. Use no seed for parallelism.\")\n"
     ]
    },
    {
     "data": {
      "text/plain": [
       "(195, 2)"
      ]
     },
     "execution_count": 9,
     "metadata": {},
     "output_type": "execute_result"
    }
   ],
   "source": [
    "embedding = reducer.fit_transform(surveyData)\n",
    "embedding.shape\n"
   ]
  },
  {
   "cell_type": "code",
   "execution_count": 10,
   "id": "72f261a0",
   "metadata": {},
   "outputs": [
    {
     "name": "stderr",
     "output_type": "stream",
     "text": [
      "/work/06659/wmobley/minconda3/lib/python3.11/site-packages/sklearn/cluster/_kmeans.py:1416: FutureWarning: The default value of `n_init` will change from 10 to 'auto' in 1.4. Set the value of `n_init` explicitly to suppress the warning\n",
      "  super()._check_params_vs_input(X, default_n_init=10)\n"
     ]
    },
    {
     "data": {
      "image/png": "[encoded data removed]",
      "text/plain": [
       "<Figure size 700x500 with 2 Axes>"
      ]
     },
     "metadata": {},
     "output_type": "display_data"
    }
   ],
   "source": [
    "kmeans_labels = cluster.KMeans(n_clusters=6).fit_predict(embedding)\n",
    "plt.scatter(embedding[:, 0], embedding[:, 1], c=kmeans_labels, s=5, cmap='tab20');\n",
    "\n",
    "plt.colorbar()\n",
    "plt.title('Gray literature Clusters Reduced using UMAP', fontsize=18);"
   ]
  },
  {
   "cell_type": "code",
   "execution_count": null,
   "id": "22309b2e",
   "metadata": {},
   "outputs": [],
   "source": []
  },
  {
   "cell_type": "code",
   "execution_count": 15,
   "id": "954bff56",
   "metadata": {},
   "outputs": [
    {
     "data": {
      "image/png": "[encoded data removed]",
      "text/plain": [
       "<Figure size 700x500 with 2 Axes>"
      ]
     },
     "metadata": {},
     "output_type": "display_data"
    }
   ],
   "source": [
    "y = kmeans_labels==0\n",
    "\n",
    "\n",
    "p = prim.Prim(df[df.columns[1:-1]], y, threshold=0.5)\n",
    "    \n",
    "box = p.find_box()\n",
    "box.show_tradeoff()\n",
    "\n",
    "plt.show()"
   ]
  },
  {
   "cell_type": "code",
   "execution_count": 16,
   "id": "c9aa939d",
   "metadata": {},
   "outputs": [
    {
     "name": "stdout",
     "output_type": "stream",
     "text": [
      "coverage    0.963415\n",
      "density     0.987500\n",
      "id          2.000000\n",
      "mass        0.410256\n",
      "mean        0.987500\n",
      "res_dim     2.000000\n",
      "Name: 2, dtype: float64\n",
      "\n",
      "                   box 2                                 \n",
      "                     min  max      qp value      qp value\n",
      "not stage specific   0.0  0.5           NaN  2.918172e-20\n",
      "federal policies     0.5  1.0  1.742947e-10           NaN\n",
      "\n"
     ]
    },
    {
     "data": {
      "text/plain": [
       "[None]"
      ]
     },
     "execution_count": 16,
     "metadata": {},
     "output_type": "execute_result"
    }
   ],
   "source": [
    "box.inspect(2)"
   ]
  },
  {
   "cell_type": "code",
   "execution_count": null,
   "id": "7d1197f0",
   "metadata": {},
   "outputs": [],
   "source": [
    "plt.scatter(embedding[:, 0], embedding[:, 1],\n",
    "            c=[i for i, f in enumerate(df.file)] ,s=10, cmap='Spectral');"
   ]
  },
  {
   "cell_type": "code",
   "execution_count": null,
   "id": "0f5d5233",
   "metadata": {},
   "outputs": [],
   "source": [
    "plt.scatter(embedding[:, 0], embedding[:, 1], c=[i for i, f in enumerate(df.file)], cmap='Spectral', s=10)\n",
    "plt.gca().set_aspect('equal', 'datalim')\n",
    "plt.colorbar(boundaries=np.arange(len(df))).set_ticks(np.arange(len(df)/3))\n",
    "plt.title('UMAP projection of the Digits dataset', fontsize=24);"
   ]
  },
  {
   "cell_type": "code",
   "execution_count": null,
   "id": "8d656b77",
   "metadata": {},
   "outputs": [],
   "source": []
  },
  {
   "cell_type": "code",
   "execution_count": null,
   "id": "ca5f2ce1",
   "metadata": {},
   "outputs": [],
   "source": []
  },
  {
   "cell_type": "code",
   "execution_count": null,
   "id": "5b7aa3c3",
   "metadata": {},
   "outputs": [],
   "source": []
  }
 ],
 "metadata": {
  "kernelspec": {
   "display_name": "Python (base)",
   "language": "python",
   "name": "base"
  },
  "language_info": {
   "codemirror_mode": {
    "name": "ipython",
    "version": 3
   },
   "file_extension": ".py",
   "mimetype": "text/x-python",
   "name": "python",
   "nbconvert_exporter": "python",
   "pygments_lexer": "ipython3",
   "version": "3.11.4"
  }
 },
 "nbformat": 4,
 "nbformat_minor": 5
}
