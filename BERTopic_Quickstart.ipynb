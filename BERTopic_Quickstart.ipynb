{
 "cells": [
  {
   "cell_type": "markdown",
   "id": "1b59b281-8091-4c39-a26b-ad708d3eefaf",
   "metadata": {
    "tags": []
   },
   "source": [
    "# Tutorials on Lonestar 6: BERTopic - Basic Model Construction"
   ]
  },
  {
   "cell_type": "markdown",
   "id": "df1be1bf-e371-45c3-bc3a-8f5ecce8c4c8",
   "metadata": {
    "tags": []
   },
   "source": [
    "BERTopic is a powerful package utilizing transformers and c-TF-IDF in a sequential (and customizable) pipeline to cluster language for interpretable word-group topic extraction. When LLMs are used in an optional final step, this takes the word based groupings and the underlying documents they were derived from to produce readible English language topic descriptions. \n",
    "\n",
    "If you are new to BERTopic, we strongly recommend that you at least read over the description in the [documentation](https://maartengr.github.io/BERTopic/index.html) of the [underlying algorithm](https://maartengr.github.io/BERTopic/algorithm/algorithm.html) to understand the steps in the BERTopic pipeline and the options available.  The rest of the package documentation provides fuller discussion of all the pieces and models options availalbe. "
   ]
  },
  {
   "cell_type": "markdown",
   "id": "4ebaaa6f-b726-4848-a4d9-3fbde1bed23f",
   "metadata": {},
   "source": [
    "## Load necessary Libraries\n",
    "\n",
    "### General Operating Libraries and UI/UX parts"
   ]
  },
  {
   "cell_type": "code",
   "execution_count": 1,
   "id": "edefc2c3-733b-483c-b9a4-90f86382876b",
   "metadata": {
    "tags": []
   },
   "outputs": [],
   "source": [
    "import os\n",
    "import logging\n",
    "import sys\n",
    "import json\n",
    "import numpy as np\n",
    "import pandas as pd\n",
    "\n",
    "from IPython.display import Markdown, display\n",
    "\n",
    "# Provides UI/UX widgets within Notebook\n",
    "import ipywidgets as widgets\n",
    "from ipywidgets import Layout, Button, Box\n",
    "\n",
    "os.environ[\"TOKENIZERS_PARALLELISM\"] = \"false\"\n",
    "\n",
    "import plotly.io as pio\n",
    "pio.renderers.default='iframe'"
   ]
  },
  {
   "cell_type": "markdown",
   "id": "dd2b80ba-9c45-463b-b6ff-8ed30469d9ca",
   "metadata": {},
   "source": [
    "### Set notebook configuration options \n",
    "These parameters do not impact the BERTopic model, but rather how elements are displayed in this notebook."
   ]
  },
  {
   "cell_type": "code",
   "execution_count": 2,
   "id": "0cfbfcc5-81b6-474b-b953-79bab4c07974",
   "metadata": {
    "tags": []
   },
   "outputs": [],
   "source": [
    "# Layout Options for widgets\n",
    "items_layout = Layout( width='auto')\n",
    "\n",
    "items_style={'description_width': 'initial'}\n",
    "\n",
    "box_layout = Layout(display='flex',\n",
    "                    flex_flow='column',\n",
    "                    align_items='stretch',\n",
    "                    border='solid',\n",
    "                    width='50%')"
   ]
  },
  {
   "cell_type": "markdown",
   "id": "121f1cac-dbea-4655-bb21-652d62905b80",
   "metadata": {
    "tags": []
   },
   "source": [
    "## BERTopic Pipeline Overview\n",
    "The 'Detailed Overview' on ['The Algorithm']((https://maartengr.github.io/BERTopic/algorithm/algorithm.html)) page linked above provides a detailed description of each step below. Each step in the process is highly customizable, and gives the user the option for switching different models at each step. The following list just provides a quick overview of hte default options for each step.\n",
    "\n",
    "1) **Extract mathematical embeddings from documents**\n",
    "    * Default model for English: [SentenceTransformers](https://www.sbert.net/) \"all-MiniLM-L6-v2\"\n",
    "    * Default multilingual model: \"paraphrase-multilingual-MiniLM-L12-v2\"  \n",
    "2) **Reduce Dimensionality**  \n",
    "   * Default: [UMAP](https://github.com/lmcinnes/umap)  \n",
    "   * Alternatives: [Guide](https://maartengr.github.io/BERTopic/getting_started/dim_reduction/dim_reduction.html) for choosing alternate options\n",
    "3) **Cluster reduced embeddings**\n",
    "    * Default: density-based clustering with [HDBSCAN](https://hdbscan.readthedocs.io/en/latest/how_hdbscan_works.html)    \n",
    "    * [Guide](https://maartengr.github.io/BERTopic/getting_started/clustering/clustering.html) for selecting alternative options\n",
    "4) **Vectorize topics**  \n",
    "    * English Default: CountVectorizer\n",
    "5) **Create Topic representations**  \n",
    "    * Default: c-TF-IDF.  Creates topic representation from bag-of-words matrix\n",
    "6) **Fine-tune the topic representations (optional)**\n",
    "    * no Default. this step can use a number of different models or LLMs to convert topic word list into English language sentences.  \n",
    "\n",
    "\n",
    "\n",
    "\n",
    "\n",
    "\n"
   ]
  },
  {
   "cell_type": "markdown",
   "id": "d5d966f2-f6fa-4187-93e2-5b56f245a641",
   "metadata": {},
   "source": [
    "## BERTopic Quick Start\n",
    "This section will follow the steps in the ['Quick Start'](https://maartengr.github.io/BERTopic/getting_started/quickstart/quickstart.html) section of the BERTopic documentation.\n",
    "\n",
    "In this section we will do the following:\n",
    "1) Load the example documents (here a dataset from scikit-learn)\n",
    "2) Construct the BERTopic model using all default models and fit the docs selected\n",
    "3) Save our results for future exploration\n",
    "4) Fine-tune topic representations\n",
    "5) Examine & Visualize Results (Touched on - Additional exploration in other notebooks.)"
   ]
  },
  {
   "cell_type": "markdown",
   "id": "060e2cae-d37f-4819-af72-ee6c5050d0c7",
   "metadata": {},
   "source": [
    "### 1. Load Demo Data\n",
    "\n",
    "For this example workbook, we will use the same sklearn '20 newsgroups' dataset used in the BERTopic documentation in order to look at the various options for running the algorithim.  The documents are loaded, headers, footers and quotes removed, to generate a list of text strings.\n",
    "\n",
    "**A note on the definition of 'document'.**  \n",
    "In BERTopic a 'document' is generally a short chunk of text vs the entire text of longer pieces of information (articles, book chapters, etc.) that you might think of as a document.  For longer text, you will ingest the full text and break it into smaller chunks at a meaningful breakpoint (sentence, paragraph, etc.), and within a BERTopic context it is the smaller chunk of text that is considered a 'document', not the full length text it derives from."
   ]
  },
  {
   "cell_type": "code",
   "execution_count": 3,
   "id": "7399fac7-bbf9-4b0c-9e61-30aefd99a3c0",
   "metadata": {
    "tags": []
   },
   "outputs": [
    {
     "name": "stdout",
     "output_type": "stream",
     "text": [
      "CPU times: user 1.4 s, sys: 180 ms, total: 1.58 s\n",
      "Wall time: 1.79 s\n"
     ]
    }
   ],
   "source": [
    "%%time \n",
    "from sklearn.datasets import fetch_20newsgroups\n",
    "\n",
    "docs = fetch_20newsgroups(subset='all',  remove=('headers', 'footers', 'quotes'))['data']"
   ]
  },
  {
   "cell_type": "code",
   "execution_count": 4,
   "id": "2c225122-1b0d-4297-8d8f-70ce338f2503",
   "metadata": {
    "tags": []
   },
   "outputs": [
    {
     "data": {
      "text/plain": [
       "\"\\n\\nI am sure some bashers of Pens fans are pretty confused about the lack\\nof any kind of posts about the recent Pens massacre of the Devils. Actually,\\nI am  bit puzzled too and a bit relieved. However, I am going to put an end\\nto non-PIttsburghers' relief with a bit of praise for the Pens. Man, they\\nare killing those Devils worse than I thought. Jagr just showed you why\\nhe is much better than his regular season stats. He is also a lot\\nfo fun to watch in the playoffs. Bowman should let JAgr have a lot of\\nfun in the next couple of games since the Pens are going to beat the pulp out of Jersey anyway. I was very disappointed not to see the Islanders lose the final\\nregular season game.          PENS RULE!!!\\n\\n\""
      ]
     },
     "execution_count": 4,
     "metadata": {},
     "output_type": "execute_result"
    }
   ],
   "source": [
    "# Example of the first item in the documents list\n",
    "docs[0]"
   ]
  },
  {
   "cell_type": "markdown",
   "id": "fda0769b-3a69-4324-8074-a72778674149",
   "metadata": {},
   "source": [
    "### 2. Construct and Fit BERTopic Model"
   ]
  },
  {
   "cell_type": "markdown",
   "id": "2f52d18e-6bce-45b0-96c0-f4e6845aa4bd",
   "metadata": {},
   "source": [
    "Configure the BERTopic model as desired.  For this first example we are simply using all the default options, so this is as straightforward as calling the model construction function and assigning it a name.  "
   ]
  },
  {
   "cell_type": "code",
   "execution_count": 5,
   "id": "ca76339e-2159-4c3a-9db6-02bd8a1a5be0",
   "metadata": {
    "tags": []
   },
   "outputs": [
    {
     "name": "stdout",
     "output_type": "stream",
     "text": [
      "CPU times: user 5.54 s, sys: 1.92 s, total: 7.47 s\n",
      "Wall time: 8.76 s\n"
     ]
    }
   ],
   "source": [
    "%%time\n",
    "from bertopic import BERTopic"
   ]
  },
  {
   "cell_type": "code",
   "execution_count": 6,
   "id": "261f257a-6a7a-4482-a347-db15594939d9",
   "metadata": {
    "tags": []
   },
   "outputs": [],
   "source": [
    "newsgroups_default_model = BERTopic()"
   ]
  },
  {
   "cell_type": "markdown",
   "id": "36f2a5ae-9852-442c-97c2-828eaeafa88b",
   "metadata": {},
   "source": [
    "Fit the documents using the model generated. \n",
    "\n",
    "**Please be patient as this may take a long time.**"
   ]
  },
  {
   "cell_type": "code",
   "execution_count": 7,
   "id": "99de67f8-3602-40b1-975b-2cdf27a202ac",
   "metadata": {
    "tags": []
   },
   "outputs": [
    {
     "name": "stdout",
     "output_type": "stream",
     "text": [
      "CPU times: user 11min 39s, sys: 1min 27s, total: 13min 6s\n",
      "Wall time: 52.4 s\n"
     ]
    }
   ],
   "source": [
    "%%time\n",
    "newsgroups_default_topics, newsgroups_default_probs = newsgroups_default_model.fit_transform(docs)"
   ]
  },
  {
   "cell_type": "markdown",
   "id": "44d2b0b2-999f-4c1a-b9ac-b75fee64ab5f",
   "metadata": {},
   "source": [
    "We can now look at information on the most freqeuent topics identified. Topic -1 pulls together all the outliers and is generally ignored. "
   ]
  },
  {
   "cell_type": "code",
   "execution_count": 8,
   "id": "c4ec51d9-7a17-4ab8-b165-81cfce53097d",
   "metadata": {
    "tags": []
   },
   "outputs": [
    {
     "data": {
      "text/html": [
       "<div>\n",
       "<style scoped>\n",
       "    .dataframe tbody tr th:only-of-type {\n",
       "        vertical-align: middle;\n",
       "    }\n",
       "\n",
       "    .dataframe tbody tr th {\n",
       "        vertical-align: top;\n",
       "    }\n",
       "\n",
       "    .dataframe thead th {\n",
       "        text-align: right;\n",
       "    }\n",
       "</style>\n",
       "<table border=\"1\" class=\"dataframe\">\n",
       "  <thead>\n",
       "    <tr style=\"text-align: right;\">\n",
       "      <th></th>\n",
       "      <th>Topic</th>\n",
       "      <th>Count</th>\n",
       "      <th>Name</th>\n",
       "      <th>Representation</th>\n",
       "      <th>Representative_Docs</th>\n",
       "    </tr>\n",
       "  </thead>\n",
       "  <tbody>\n",
       "    <tr>\n",
       "      <th>0</th>\n",
       "      <td>-1</td>\n",
       "      <td>6722</td>\n",
       "      <td>-1_to_the_is_and</td>\n",
       "      <td>[to, the, is, and, of, you, for, in, it, that]</td>\n",
       "      <td>[Here is a press release from the White House....</td>\n",
       "    </tr>\n",
       "    <tr>\n",
       "      <th>1</th>\n",
       "      <td>0</td>\n",
       "      <td>1839</td>\n",
       "      <td>0_game_team_games_he</td>\n",
       "      <td>[game, team, games, he, players, season, hocke...</td>\n",
       "      <td>[NHL RESULTS FOR GAMES PLAYED 4/14/93.\\n\\n----...</td>\n",
       "    </tr>\n",
       "    <tr>\n",
       "      <th>2</th>\n",
       "      <td>1</td>\n",
       "      <td>594</td>\n",
       "      <td>1_key_clipper_chip_encryption</td>\n",
       "      <td>[key, clipper, chip, encryption, keys, escrow,...</td>\n",
       "      <td>[\\nI am not an expert in the cryptography scie...</td>\n",
       "    </tr>\n",
       "    <tr>\n",
       "      <th>3</th>\n",
       "      <td>2</td>\n",
       "      <td>524</td>\n",
       "      <td>2_ites_cheek_yep_huh</td>\n",
       "      <td>[ites, cheek, yep, huh, ken, why, each, of, , ]</td>\n",
       "      <td>[\\nHuh?, \\nYep.\\n, \\n \\n                      ...</td>\n",
       "    </tr>\n",
       "    <tr>\n",
       "      <th>4</th>\n",
       "      <td>3</td>\n",
       "      <td>470</td>\n",
       "      <td>3_israel_israeli_jews_arab</td>\n",
       "      <td>[israel, israeli, jews, arab, jewish, arabs, p...</td>\n",
       "      <td>[From: Center for Policy Research &lt;cpr&gt;\\nSubje...</td>\n",
       "    </tr>\n",
       "  </tbody>\n",
       "</table>\n",
       "</div>"
      ],
      "text/plain": [
       "   Topic  Count                           Name  \\\n",
       "0     -1   6722               -1_to_the_is_and   \n",
       "1      0   1839           0_game_team_games_he   \n",
       "2      1    594  1_key_clipper_chip_encryption   \n",
       "3      2    524           2_ites_cheek_yep_huh   \n",
       "4      3    470     3_israel_israeli_jews_arab   \n",
       "\n",
       "                                      Representation  \\\n",
       "0     [to, the, is, and, of, you, for, in, it, that]   \n",
       "1  [game, team, games, he, players, season, hocke...   \n",
       "2  [key, clipper, chip, encryption, keys, escrow,...   \n",
       "3    [ites, cheek, yep, huh, ken, why, each, of, , ]   \n",
       "4  [israel, israeli, jews, arab, jewish, arabs, p...   \n",
       "\n",
       "                                 Representative_Docs  \n",
       "0  [Here is a press release from the White House....  \n",
       "1  [NHL RESULTS FOR GAMES PLAYED 4/14/93.\\n\\n----...  \n",
       "2  [\\nI am not an expert in the cryptography scie...  \n",
       "3  [\\nHuh?, \\nYep.\\n, \\n \\n                      ...  \n",
       "4  [From: Center for Policy Research <cpr>\\nSubje...  "
      ]
     },
     "execution_count": 8,
     "metadata": {},
     "output_type": "execute_result"
    }
   ],
   "source": [
    "newsgroups_default_model.get_topic_info().head()"
   ]
  },
  {
   "cell_type": "markdown",
   "id": "7a4a8ae1-f7da-49af-abd0-57d583d3d26e",
   "metadata": {},
   "source": [
    "### 3. Fine Tune the topic representation\n",
    "BERTopic allows for a number of topic representations to choose from that can improve on the bucket of words representations.  Secondarily, there is alos the option to use a Large Language Model (LLM) to take the representative documents and these key word representations to produce a more human interpretable version. \n",
    "\n",
    "This section demonstrates these processes. You can either use a single representation model as a parameter for the BERTopic model, or use the [Multiple Representations](https://maartengr.github.io/BERTopic/getting_started/multiaspect/multiaspect.html) tehcnique as shown here. A subsequent notebook will work through using LLMs to utilise the extracted keywords and represenative douments to generate English language topic representations.\n",
    "\n",
    "For a more detailed overview of Fine-Tuning topics, review the documentation [here](https://maartengr.github.io/BERTopic/getting_started/representation/representation.html)"
   ]
  },
  {
   "cell_type": "markdown",
   "id": "47fb24db-2ced-4db3-9f0a-8634e33b24e5",
   "metadata": {},
   "source": [
    "#### Multiple Representation"
   ]
  },
  {
   "cell_type": "code",
   "execution_count": 9,
   "id": "334b0f96-82e0-4a14-9499-4dfec3edd939",
   "metadata": {},
   "outputs": [],
   "source": [
    "# Import Bertopic Representations\n",
    "from bertopic.representation import KeyBERTInspired\n",
    "from bertopic.representation import PartOfSpeech\n",
    "from bertopic.representation import MaximalMarginalRelevance"
   ]
  },
  {
   "cell_type": "code",
   "execution_count": 11,
   "id": "228b564b-4750-4059-8e28-68c7b4bc97ac",
   "metadata": {},
   "outputs": [],
   "source": [
    "# Define Representation models\n",
    "\n",
    "# The main representation of a topic\n",
    "main_representation = KeyBERTInspired()\n",
    "\n",
    "# Additional ways of representing a topic\n",
    "aspect_model1 = PartOfSpeech(\"en_core_web_sm\")\n",
    "aspect_model2 = [KeyBERTInspired(top_n_words=30), MaximalMarginalRelevance(diversity=.5)]"
   ]
  },
  {
   "cell_type": "code",
   "execution_count": 12,
   "id": "00e4cfe6-c07a-4e33-b051-de5766a365b9",
   "metadata": {},
   "outputs": [],
   "source": [
    "# Add all models together to be run in a single `fit`\n",
    "representation_model = {\n",
    "    \"Main\": main_representation,\n",
    "    \"Aspect1\":  aspect_model1,\n",
    "    \"Aspect2\":  aspect_model2\n",
    "}"
   ]
  },
  {
   "cell_type": "code",
   "execution_count": 13,
   "id": "b52807e7-c2fb-4b36-bef0-3140f5e053f7",
   "metadata": {},
   "outputs": [],
   "source": [
    "multi_rep_topic_model = BERTopic(representation_model=representation_model).fit(docs)"
   ]
  },
  {
   "cell_type": "code",
   "execution_count": 14,
   "id": "ca694079-07de-4449-9b88-068b0416930d",
   "metadata": {},
   "outputs": [
    {
     "data": {
      "text/html": [
       "<div>\n",
       "<style scoped>\n",
       "    .dataframe tbody tr th:only-of-type {\n",
       "        vertical-align: middle;\n",
       "    }\n",
       "\n",
       "    .dataframe tbody tr th {\n",
       "        vertical-align: top;\n",
       "    }\n",
       "\n",
       "    .dataframe thead th {\n",
       "        text-align: right;\n",
       "    }\n",
       "</style>\n",
       "<table border=\"1\" class=\"dataframe\">\n",
       "  <thead>\n",
       "    <tr style=\"text-align: right;\">\n",
       "      <th></th>\n",
       "      <th>Topic</th>\n",
       "      <th>Count</th>\n",
       "      <th>Name</th>\n",
       "      <th>Representation</th>\n",
       "      <th>Aspect1</th>\n",
       "      <th>Aspect2</th>\n",
       "      <th>Representative_Docs</th>\n",
       "    </tr>\n",
       "  </thead>\n",
       "  <tbody>\n",
       "    <tr>\n",
       "      <th>0</th>\n",
       "      <td>-1</td>\n",
       "      <td>6898</td>\n",
       "      <td>-1_god_what_our_if</td>\n",
       "      <td>[god, what, our, if, we, information, about, o...</td>\n",
       "      <td>[will, one, use, other, more, people, god, onl...</td>\n",
       "      <td>[god, if, we, information, be, use, system, sh...</td>\n",
       "      <td>[(Well, I'll email also, but this may apply to...</td>\n",
       "    </tr>\n",
       "    <tr>\n",
       "      <th>1</th>\n",
       "      <td>0</td>\n",
       "      <td>1817</td>\n",
       "      <td>0_nhl_playoffs_flyers_rangers</td>\n",
       "      <td>[nhl, playoffs, flyers, rangers, puck, leafs, ...</td>\n",
       "      <td>[game, team, games, players, season, hockey, p...</td>\n",
       "      <td>[nhl, playoffs, flyers, rangers, puck, leafs, ...</td>\n",
       "      <td>[The problem with your nihilistic approach, Ro...</td>\n",
       "    </tr>\n",
       "    <tr>\n",
       "      <th>2</th>\n",
       "      <td>1</td>\n",
       "      <td>582</td>\n",
       "      <td>1_encryption_clipper_crypto_encrypted</td>\n",
       "      <td>[encryption, clipper, crypto, encrypted, nsa, ...</td>\n",
       "      <td>[key, clipper, chip, encryption, keys, escrow,...</td>\n",
       "      <td>[encryption, clipper, nsa, enforcement, agenci...</td>\n",
       "      <td>[Here is a revised version of my summary which...</td>\n",
       "    </tr>\n",
       "    <tr>\n",
       "      <th>3</th>\n",
       "      <td>2</td>\n",
       "      <td>525</td>\n",
       "      <td>2_huh___</td>\n",
       "      <td>[huh, , , , , , , , , ]</td>\n",
       "      <td>[, , , , , , , , , ]</td>\n",
       "      <td>[huh, , , , , , , , , , , , , , , , , , , , , ...</td>\n",
       "      <td>[\\nYep.\\n, \\n \\n                              ...</td>\n",
       "    </tr>\n",
       "    <tr>\n",
       "      <th>4</th>\n",
       "      <td>3</td>\n",
       "      <td>476</td>\n",
       "      <td>3_palestinians_gaza_palestinian_israeli</td>\n",
       "      <td>[palestinians, gaza, palestinian, israeli, isr...</td>\n",
       "      <td>[israeli, arab, arabs, palestinian, peace, sta...</td>\n",
       "      <td>[palestinians, israels, zionism, jerusalem, le...</td>\n",
       "      <td>[From: Center for Policy Research &lt;cpr&gt;\\nSubje...</td>\n",
       "    </tr>\n",
       "  </tbody>\n",
       "</table>\n",
       "</div>"
      ],
      "text/plain": [
       "   Topic  Count                                     Name  \\\n",
       "0     -1   6898                       -1_god_what_our_if   \n",
       "1      0   1817            0_nhl_playoffs_flyers_rangers   \n",
       "2      1    582    1_encryption_clipper_crypto_encrypted   \n",
       "3      2    525                                 2_huh___   \n",
       "4      3    476  3_palestinians_gaza_palestinian_israeli   \n",
       "\n",
       "                                      Representation  \\\n",
       "0  [god, what, our, if, we, information, about, o...   \n",
       "1  [nhl, playoffs, flyers, rangers, puck, leafs, ...   \n",
       "2  [encryption, clipper, crypto, encrypted, nsa, ...   \n",
       "3                            [huh, , , , , , , , , ]   \n",
       "4  [palestinians, gaza, palestinian, israeli, isr...   \n",
       "\n",
       "                                             Aspect1  \\\n",
       "0  [will, one, use, other, more, people, god, onl...   \n",
       "1  [game, team, games, players, season, hockey, p...   \n",
       "2  [key, clipper, chip, encryption, keys, escrow,...   \n",
       "3                               [, , , , , , , , , ]   \n",
       "4  [israeli, arab, arabs, palestinian, peace, sta...   \n",
       "\n",
       "                                             Aspect2  \\\n",
       "0  [god, if, we, information, be, use, system, sh...   \n",
       "1  [nhl, playoffs, flyers, rangers, puck, leafs, ...   \n",
       "2  [encryption, clipper, nsa, enforcement, agenci...   \n",
       "3  [huh, , , , , , , , , , , , , , , , , , , , , ...   \n",
       "4  [palestinians, israels, zionism, jerusalem, le...   \n",
       "\n",
       "                                 Representative_Docs  \n",
       "0  [(Well, I'll email also, but this may apply to...  \n",
       "1  [The problem with your nihilistic approach, Ro...  \n",
       "2  [Here is a revised version of my summary which...  \n",
       "3  [\\nYep.\\n, \\n \\n                              ...  \n",
       "4  [From: Center for Policy Research <cpr>\\nSubje...  "
      ]
     },
     "execution_count": 14,
     "metadata": {},
     "output_type": "execute_result"
    }
   ],
   "source": [
    "multi_rep_topic_model.get_topic_info().head()"
   ]
  },
  {
   "cell_type": "markdown",
   "id": "f6113771-d5eb-4836-9100-8a4838109918",
   "metadata": {},
   "source": [
    "### 4. Visualizing our results"
   ]
  },
  {
   "cell_type": "code",
   "execution_count": 2,
   "id": "69633cbb-8ce7-4663-8a4a-d649a3739589",
   "metadata": {},
   "outputs": [
    {
     "ename": "NameError",
     "evalue": "name 'newsgroups_default_model' is not defined",
     "output_type": "error",
     "traceback": [
      "\u001b[0;31m---------------------------------------------------------------------------\u001b[0m",
      "\u001b[0;31mNameError\u001b[0m                                 Traceback (most recent call last)",
      "Cell \u001b[0;32mIn[2], line 1\u001b[0m\n\u001b[0;32m----> 1\u001b[0m \u001b[43mnewsgroups_default_model\u001b[49m\u001b[38;5;241m.\u001b[39mvisualize_topics()\n",
      "\u001b[0;31mNameError\u001b[0m: name 'newsgroups_default_model' is not defined"
     ]
    }
   ],
   "source": [
    "newsgroups_default_model.visualize_topics()"
   ]
  },
  {
   "cell_type": "code",
   "execution_count": null,
   "id": "7fc6e616-e3ec-4462-8863-728c6c9fa86c",
   "metadata": {},
   "outputs": [],
   "source": []
  },
  {
   "cell_type": "code",
   "execution_count": null,
   "id": "bcb2aff7-16ed-4147-bd1c-2f3498e02faa",
   "metadata": {},
   "outputs": [],
   "source": []
  }
 ],
 "metadata": {
  "kernelspec": {
   "display_name": "Python (llm)",
   "language": "python",
   "name": "llm"
  },
  "language_info": {
   "codemirror_mode": {
    "name": "ipython",
    "version": 3
   },
   "file_extension": ".py",
   "mimetype": "text/x-python",
   "name": "python",
   "nbconvert_exporter": "python",
   "pygments_lexer": "ipython3",
   "version": "3.12.2"
  }
 },
 "nbformat": 4,
 "nbformat_minor": 5
}
