{
 "cells": [
  {
   "cell_type": "markdown",
   "id": "ac4ab43a-13e1-49b5-a727-26092e32a9a5",
   "metadata": {},
   "source": [
    "# Bertopic using 1-gram. \n",
    "* Clean up langauge (remove 'redacted', 'yeah', etc.)\n",
    "\n",
    "## Libraries and configurations"
   ]
  },
  {
   "cell_type": "code",
   "execution_count": 208,
   "id": "91f4c4a3-cc80-4eda-a91d-e92ab4f9cc38",
   "metadata": {
    "tags": []
   },
   "outputs": [],
   "source": [
    "import pandas as pd\n",
    "import numpy as np"
   ]
  },
  {
   "cell_type": "code",
   "execution_count": 2,
   "id": "1cb5c11c-cc6b-463f-afbe-8a9a809809bd",
   "metadata": {
    "tags": []
   },
   "outputs": [],
   "source": [
    "import openai\n",
    "import os\n",
    "\n",
    "from dotenv import load_dotenv, find_dotenv\n",
    "_ = load_dotenv(find_dotenv()) # read local .env file\n",
    "\n",
    "openai.api_key  = os.getenv('OPENAI_API_KEY')"
   ]
  },
  {
   "cell_type": "code",
   "execution_count": 3,
   "id": "5ffa79be-80df-49a2-b4a9-525bdca46895",
   "metadata": {
    "tags": []
   },
   "outputs": [],
   "source": [
    "#  Get figures to actually render in notebook [issue](https://github.com/MaartenGr/BERTopic/issues/764)\n",
    "import plotly.io as pio\n",
    "pio.renderers.default='iframe'"
   ]
  },
  {
   "cell_type": "code",
   "execution_count": 4,
   "id": "5a155336-e4ba-448d-a9c9-e2b20e3b583e",
   "metadata": {
    "tags": []
   },
   "outputs": [],
   "source": [
    "# LOAD BERT LIBRARIES\n",
    "from umap import UMAP\n",
    "from hdbscan import HDBSCAN\n",
    "from sentence_transformers import SentenceTransformer\n",
    "from sklearn.feature_extraction.text import CountVectorizer\n",
    "\n",
    "from bertopic import BERTopic\n",
    "from bertopic.representation import KeyBERTInspired\n",
    "from bertopic.vectorizers import ClassTfidfTransformer"
   ]
  },
  {
   "cell_type": "code",
   "execution_count": 5,
   "id": "88cb2bdd-006e-4e07-9b5d-613319739981",
   "metadata": {
    "tags": []
   },
   "outputs": [],
   "source": [
    "from bertopic.representation import KeyBERTInspired, MaximalMarginalRelevance, OpenAI, PartOfSpeech"
   ]
  },
  {
   "cell_type": "markdown",
   "id": "f8be7331-4aa9-4c5a-9a9b-24426d4d6d01",
   "metadata": {},
   "source": [
    "## Load and clean interview data"
   ]
  },
  {
   "cell_type": "code",
   "execution_count": 6,
   "id": "be849ca8-c709-4fb4-b90c-7e40c6ed9b7f",
   "metadata": {
    "tags": []
   },
   "outputs": [],
   "source": [
    "interviews_csv = 'all_public_interviews.csv'\n",
    "interviews = pd.read_csv(interviews_csv, dtype=str, keep_default_na=False)"
   ]
  },
  {
   "cell_type": "code",
   "execution_count": 7,
   "id": "c24178cc-0a1b-4bb6-919b-83f4bcb3f8b7",
   "metadata": {
    "tags": []
   },
   "outputs": [],
   "source": [
    "# Add class columns to use in differentiating\n",
    "interviews['class'] = interviews.apply(lambda x: x['Set'] + '_' + x['Interview'], axis=1)\n",
    "interviews['Set_speaker'] = interviews.apply(lambda x: x['Set'] + '_Interviewer' if x['speaker_type'] == 'ER' else  x['Set'] + '_Interviewee', axis=1)"
   ]
  },
  {
   "cell_type": "markdown",
   "id": "55a7e6ff-2496-4c80-8524-b5d3234ec6f2",
   "metadata": {},
   "source": [
    "### Clean up: remove words from strings"
   ]
  },
  {
   "cell_type": "code",
   "execution_count": 8,
   "id": "2115702b-7202-403e-8725-8c107e58b576",
   "metadata": {
    "tags": []
   },
   "outputs": [],
   "source": [
    "# String clean up functions\n",
    "def recursively_remove_spaces(string):\n",
    "    if '  ' in string:\n",
    "        string = string.replace('  ',' ')\n",
    "        return(recursively_remove_spaces(string))\n",
    "    else:\n",
    "        return string\n",
    "    \n",
    "def clean_up_punctuation(string):\n",
    "    for p in punctuation_list:\n",
    "        space_p = ' ' + p        \n",
    "        string = string.replace(space_p, p)\n",
    "    return string\n",
    "\n",
    "def remove_words_from_string(string, remove_words_list, punctuation_list=[]):   \n",
    "    # remove remove words\n",
    "    for remove_word in remove_words_list:\n",
    "        # TODO: use regex to match to items next to punctuation but not sub-words\n",
    "        string = string.replace(remove_word, '')\n",
    "        \n",
    "    # Condense all spaces into single space\n",
    "    string = recursively_remove_spaces(string)\n",
    "                \n",
    "    # strip spaces from abandonded punctuation\n",
    "    for p in punctuation_list:\n",
    "        space_p = ' ' + p        \n",
    "        string = string.replace(space_p, p)\n",
    "    return string"
   ]
  },
  {
   "cell_type": "code",
   "execution_count": 9,
   "id": "82ffbd05-66cd-4167-a17e-b12391c869a4",
   "metadata": {
    "tags": []
   },
   "outputs": [],
   "source": [
    "remove_words_list = ['[REDACTED]','Okay','okay','No','uh','Yeah', 'yes', 'yeah','yep',  'inaudible', '[crosstalk]','[]']\n",
    "punctuation_list = ['.',',']"
   ]
  },
  {
   "cell_type": "code",
   "execution_count": 10,
   "id": "e90a7f72-5a25-4ac8-a80f-ed91922a745d",
   "metadata": {
    "tags": []
   },
   "outputs": [],
   "source": [
    "interviews['cleaned_text'] = interviews.apply(lambda x: remove_words_from_string(x['Text'], remove_words_list, punctuation_list), axis=1)"
   ]
  },
  {
   "cell_type": "code",
   "execution_count": 11,
   "id": "50917d4f-4448-4fa8-ae1c-53c78eb9af87",
   "metadata": {
    "tags": []
   },
   "outputs": [],
   "source": [
    "# Drop rows with empyt text field\n",
    "interviews_cleaned = interviews[(interviews['cleaned_text']!='') & (interviews['cleaned_text']!=' ')].copy()"
   ]
  },
  {
   "cell_type": "code",
   "execution_count": 12,
   "id": "6b1a851f-7ec1-42e1-aee4-f120c905267c",
   "metadata": {
    "tags": []
   },
   "outputs": [],
   "source": [
    "mask = (interviews_cleaned['cleaned_text'].str.len() < 5 )"
   ]
  },
  {
   "cell_type": "code",
   "execution_count": 13,
   "id": "50b9ccf2-8b71-4eca-8d24-effa9d37b3bf",
   "metadata": {
    "tags": []
   },
   "outputs": [
    {
     "data": {
      "text/plain": [
       "array(['. ', ',. ', '.. ', 'Me. ', 'Yea ', 'Uh. ', '48. ', 'pe. ', 'in. ',\n",
       "       'do. ', ' I. ', ' - ', 'on? ', 'Oh. ', '... ', 'go. ', 'it. ',\n",
       "       'In', 'it ', ',.. ', '? ', 'or? ', ' ? ', 'Yes ', ', ', 'So. ',\n",
       "       'Oh! ', 'to. ', 'me. ', 'on ', ',,. ', 'Or? ', '.'], dtype=object)"
      ]
     },
     "execution_count": 13,
     "metadata": {},
     "output_type": "execute_result"
    }
   ],
   "source": [
    "interviews_cleaned.loc[mask]['cleaned_text'].unique()"
   ]
  },
  {
   "cell_type": "code",
   "execution_count": 14,
   "id": "093a3297-9392-4b26-9b70-ee82779d2810",
   "metadata": {
    "tags": []
   },
   "outputs": [],
   "source": [
    "# Text length of 5 seems to be dividing line for meaningful text, so drop text length < 5\n",
    "interviews_cleaned = interviews_cleaned.loc[~mask].copy()"
   ]
  },
  {
   "cell_type": "code",
   "execution_count": 15,
   "id": "a95272ce-7be4-447b-8917-038788c16a6f",
   "metadata": {
    "tags": []
   },
   "outputs": [],
   "source": [
    "docs = list(interviews_cleaned['cleaned_text'])\n",
    "origin = list(interviews_cleaned['Set'])\n",
    "speaker_type = list(interviews_cleaned['speaker_type'])\n",
    "set_speaker = list(interviews_cleaned['Set_speaker'])"
   ]
  },
  {
   "cell_type": "markdown",
   "id": "17db997e-6c45-4484-bac5-dacf36daa2f6",
   "metadata": {},
   "source": [
    "## Precalculate Embeddings"
   ]
  },
  {
   "cell_type": "code",
   "execution_count": 16,
   "id": "c0a60c36-8d22-4d9e-ba90-73f98cad1959",
   "metadata": {
    "tags": []
   },
   "outputs": [],
   "source": [
    "# Pre-calculate embeddings\n",
    "embedding_model = SentenceTransformer(\"all-MiniLM-L6-v2\")\n",
    "embeddings = embedding_model.encode(docs)"
   ]
  },
  {
   "cell_type": "markdown",
   "id": "b84342fc-3720-47f6-b845-d153645ef61f",
   "metadata": {},
   "source": [
    "## Define Base BERTopic with defaults + specified random_state\n",
    "Take-away: need future work on clustering.  Cleaning looks good"
   ]
  },
  {
   "cell_type": "code",
   "execution_count": 17,
   "id": "aabf5ef6-1cb8-4a9e-a873-cff09919cb0f",
   "metadata": {
    "tags": []
   },
   "outputs": [],
   "source": [
    "# BASE MODEL CONFIGURATIONS (these are package defaults unless commented)\n",
    "\n",
    "# Step 1 - Extract embeddings\n",
    "embedding_model = SentenceTransformer(\"all-MiniLM-L6-v2\")\n",
    "\n",
    "# Step 2 - Reduce dimensionality\n",
    "umap_model = UMAP(n_neighbors=15, n_components=5, min_dist=0.0, metric='cosine', random_state=42) # Use consistent random state for repeatability\n",
    "\n",
    "# Step 3 - Cluster reduced embeddings\n",
    "hdbscan_model = HDBSCAN(min_cluster_size=15, metric='euclidean', cluster_selection_method='eom', prediction_data=True)\n",
    "\n",
    "# Step 4 - Tokenize topics\n",
    "vectorizer_model = CountVectorizer(stop_words=\"english\" )\n",
    "\n",
    "# Step 5 - Create topic representation\n",
    "ctfidf_model = ClassTfidfTransformer()"
   ]
  },
  {
   "cell_type": "code",
   "execution_count": 18,
   "id": "4b89efdc-c182-4029-9552-3721ea244347",
   "metadata": {
    "tags": []
   },
   "outputs": [],
   "source": [
    "base_model = BERTopic(umap_model=umap_model) # All default settings + random_state"
   ]
  },
  {
   "cell_type": "code",
   "execution_count": 19,
   "id": "eaa5ad17-d72a-40fe-8260-62e6ae5792df",
   "metadata": {
    "tags": []
   },
   "outputs": [],
   "source": [
    "topics_base, probs_base = base_model.fit_transform(docs, embeddings)"
   ]
  },
  {
   "cell_type": "code",
   "execution_count": 20,
   "id": "e624e81b-5e11-4b55-90eb-cf4195502b76",
   "metadata": {
    "tags": []
   },
   "outputs": [],
   "source": [
    "# Save base model topic info for Name / Representation in base mode\"\n",
    "base_df = base_model.get_topic_info()"
   ]
  },
  {
   "cell_type": "code",
   "execution_count": 21,
   "id": "1d51cc69-60ff-4b01-9fca-11104ddaa2d9",
   "metadata": {
    "tags": []
   },
   "outputs": [
    {
     "data": {
      "text/html": [
       "<div>\n",
       "<style scoped>\n",
       "    .dataframe tbody tr th:only-of-type {\n",
       "        vertical-align: middle;\n",
       "    }\n",
       "\n",
       "    .dataframe tbody tr th {\n",
       "        vertical-align: top;\n",
       "    }\n",
       "\n",
       "    .dataframe thead th {\n",
       "        text-align: right;\n",
       "    }\n",
       "</style>\n",
       "<table border=\"1\" class=\"dataframe\">\n",
       "  <thead>\n",
       "    <tr style=\"text-align: right;\">\n",
       "      <th></th>\n",
       "      <th>Topic</th>\n",
       "      <th>Count</th>\n",
       "      <th>Name</th>\n",
       "      <th>Representation</th>\n",
       "      <th>Representative_Docs</th>\n",
       "    </tr>\n",
       "  </thead>\n",
       "  <tbody>\n",
       "    <tr>\n",
       "      <th>0</th>\n",
       "      <td>-1</td>\n",
       "      <td>3979</td>\n",
       "      <td>-1_to_the_and_water</td>\n",
       "      <td>[to, the, and, water, that, of, like, in, know...</td>\n",
       "      <td>[Oh,, there's definitely operational challenge...</td>\n",
       "    </tr>\n",
       "    <tr>\n",
       "      <th>1</th>\n",
       "      <td>0</td>\n",
       "      <td>223</td>\n",
       "      <td>0_pipes_pipe_piped_piping</td>\n",
       "      <td>[pipes, pipe, piped, piping, system, old, new,...</td>\n",
       "      <td>[The pipes,. , in the pipes. , The pipes? ]</td>\n",
       "    </tr>\n",
       "    <tr>\n",
       "      <th>2</th>\n",
       "      <td>1</td>\n",
       "      <td>172</td>\n",
       "      <td>1_questions_anything_asked_should</td>\n",
       "      <td>[questions, anything, asked, should, ask, any,...</td>\n",
       "      <td>[That's good. Well, I don't think that I have ...</td>\n",
       "    </tr>\n",
       "    <tr>\n",
       "      <th>3</th>\n",
       "      <td>2</td>\n",
       "      <td>129</td>\n",
       "      <td>2_community_communities_people_been</td>\n",
       "      <td>[community, communities, people, been, members...</td>\n",
       "      <td>[There's a system in place and then the commun...</td>\n",
       "    </tr>\n",
       "    <tr>\n",
       "      <th>4</th>\n",
       "      <td>3</td>\n",
       "      <td>100</td>\n",
       "      <td>3_tank_tanks_inside_plastic</td>\n",
       "      <td>[tank, tanks, inside, plastic, new, holding, c...</td>\n",
       "      <td>[tanks? , that tank to.. , One house I went to...</td>\n",
       "    </tr>\n",
       "  </tbody>\n",
       "</table>\n",
       "</div>"
      ],
      "text/plain": [
       "   Topic  Count                                 Name  \\\n",
       "0     -1   3979                  -1_to_the_and_water   \n",
       "1      0    223            0_pipes_pipe_piped_piping   \n",
       "2      1    172    1_questions_anything_asked_should   \n",
       "3      2    129  2_community_communities_people_been   \n",
       "4      3    100          3_tank_tanks_inside_plastic   \n",
       "\n",
       "                                      Representation  \\\n",
       "0  [to, the, and, water, that, of, like, in, know...   \n",
       "1  [pipes, pipe, piped, piping, system, old, new,...   \n",
       "2  [questions, anything, asked, should, ask, any,...   \n",
       "3  [community, communities, people, been, members...   \n",
       "4  [tank, tanks, inside, plastic, new, holding, c...   \n",
       "\n",
       "                                 Representative_Docs  \n",
       "0  [Oh,, there's definitely operational challenge...  \n",
       "1        [The pipes,. , in the pipes. , The pipes? ]  \n",
       "2  [That's good. Well, I don't think that I have ...  \n",
       "3  [There's a system in place and then the commun...  \n",
       "4  [tanks? , that tank to.. , One house I went to...  "
      ]
     },
     "execution_count": 21,
     "metadata": {},
     "output_type": "execute_result"
    }
   ],
   "source": [
    "base_df.head(5)"
   ]
  },
  {
   "cell_type": "code",
   "execution_count": 22,
   "id": "e08da9bc-df9c-4be8-8587-5412fb1c61d7",
   "metadata": {
    "tags": []
   },
   "outputs": [
    {
     "data": {
      "text/html": [
       "<iframe\n",
       "    scrolling=\"no\"\n",
       "    width=\"670px\"\n",
       "    height=\"670\"\n",
       "    src=\"iframe_figures/figure_22.html\"\n",
       "    frameborder=\"0\"\n",
       "    allowfullscreen\n",
       "></iframe>\n"
      ]
     },
     "metadata": {},
     "output_type": "display_data"
    }
   ],
   "source": [
    "base_model.visualize_topics()"
   ]
  },
  {
   "cell_type": "markdown",
   "id": "6299a3aa-27ba-4f25-b5e0-7ba0aaa6829e",
   "metadata": {
    "tags": []
   },
   "source": [
    "## Update Topics with KeyBERT and OpenAi-4"
   ]
  },
  {
   "cell_type": "code",
   "execution_count": 32,
   "id": "6ec76d90-f92f-4f69-aa96-327706bb9df3",
   "metadata": {
    "tags": []
   },
   "outputs": [],
   "source": [
    "# KeyBERT\n",
    "keybert_model = KeyBERTInspired()\n",
    "\n",
    "# OpenAI Prompt\n",
    "prompt = \"\"\"\n",
    "I have a topic that contains the following documents: \n",
    "[DOCUMENTS]\n",
    "The topic is described by the following keywords: [KEYWORDS]\n",
    "\n",
    "Based on the information above, extract a short but highly descriptive topic label of at most 5 words. Make sure it is in the following format:\n",
    "topic: <topic label>\n",
    "\"\"\"\n",
    "\n",
    "# GPT-3.5\n",
    "openai_35_model = OpenAI(model=\"gpt-3.5-turbo\", exponential_backoff=True, chat=True, prompt=prompt)\n",
    "\n",
    "# GPT-4\n",
    "openai_4_model = OpenAI(model=\"gpt-4\", exponential_backoff=True, chat=True, prompt=prompt)"
   ]
  },
  {
   "cell_type": "code",
   "execution_count": 34,
   "id": "620f419f-39a9-4faf-b6fb-4487cb9f2f29",
   "metadata": {
    "tags": []
   },
   "outputs": [],
   "source": [
    "rep_model = BERTopic(\n",
    "\n",
    "  # Pipeline models\n",
    "  embedding_model=embedding_model,\n",
    "  umap_model=umap_model,\n",
    "  hdbscan_model=hdbscan_model,\n",
    "  vectorizer_model=vectorizer_model,\n",
    "  ctfidf_model=ctfidf_model,\n",
    "  representation_model={\n",
    "        \"KeyBERT\": keybert_model,\n",
    "        \"OpenAI-4\": openai_4_model,    \n",
    "    },\n",
    "\n",
    "  # Hyperparameters\n",
    "  top_n_words=10,\n",
    "  verbose=True\n",
    ")"
   ]
  },
  {
   "cell_type": "code",
   "execution_count": 35,
   "id": "4e40f8ea-1eb0-4a7f-a732-921592078283",
   "metadata": {
    "tags": []
   },
   "outputs": [],
   "source": [
    "# Do 3.5 separately as it has a tendency to hit timeout errors\n",
    "representation_model_35 = {\n",
    "    \"OpenAI\": openai_35_model,    \n",
    "}"
   ]
  },
  {
   "cell_type": "code",
   "execution_count": 36,
   "id": "a5ce1bf5-9562-42d7-908a-58ed30f83d11",
   "metadata": {
    "tags": []
   },
   "outputs": [
    {
     "data": {
      "application/vnd.jupyter.widget-view+json": {
       "model_id": "404cf3c99d044204891f7ec4ea570fbc",
       "version_major": 2,
       "version_minor": 0
      },
      "text/plain": [
       "Batches:   0%|          | 0/291 [00:00<?, ?it/s]"
      ]
     },
     "metadata": {},
     "output_type": "display_data"
    },
    {
     "name": "stderr",
     "output_type": "stream",
     "text": [
      "2023-10-20 14:57:15,337 - BERTopic - Transformed documents to Embeddings\n",
      "2023-10-20 14:57:33,149 - BERTopic - Reduced dimensionality\n",
      "2023-10-20 14:57:33,580 - BERTopic - Clustered reduced embeddings\n"
     ]
    }
   ],
   "source": [
    "topics_rep, probs_rep = rep_model.fit_transform(docs)"
   ]
  },
  {
   "cell_type": "code",
   "execution_count": 45,
   "id": "38a16a04-3340-4c72-855a-4e56a7e80ea6",
   "metadata": {
    "tags": []
   },
   "outputs": [],
   "source": [
    "rep_model_df = rep_model.get_topic_info()"
   ]
  },
  {
   "cell_type": "code",
   "execution_count": 79,
   "id": "fe35a8fa-18ba-4198-8bbd-ef8ae15d2ba9",
   "metadata": {
    "tags": []
   },
   "outputs": [
    {
     "data": {
      "text/html": [
       "<div>\n",
       "<style scoped>\n",
       "    .dataframe tbody tr th:only-of-type {\n",
       "        vertical-align: middle;\n",
       "    }\n",
       "\n",
       "    .dataframe tbody tr th {\n",
       "        vertical-align: top;\n",
       "    }\n",
       "\n",
       "    .dataframe thead th {\n",
       "        text-align: right;\n",
       "    }\n",
       "</style>\n",
       "<table border=\"1\" class=\"dataframe\">\n",
       "  <thead>\n",
       "    <tr style=\"text-align: right;\">\n",
       "      <th></th>\n",
       "      <th>Topic</th>\n",
       "      <th>Count</th>\n",
       "      <th>Name</th>\n",
       "      <th>Representation</th>\n",
       "      <th>KeyBERT</th>\n",
       "      <th>OpenAI-4</th>\n",
       "      <th>Representative_Docs</th>\n",
       "    </tr>\n",
       "  </thead>\n",
       "  <tbody>\n",
       "    <tr>\n",
       "      <th>1</th>\n",
       "      <td>0</td>\n",
       "      <td>226</td>\n",
       "      <td>0_pipes_pipe_piped_piping</td>\n",
       "      <td>[pipes, pipe, piped, piping, old, new, hdpe, r...</td>\n",
       "      <td>[pipes, pipe, piping, pipeline, piped, hoses, ...</td>\n",
       "      <td>[Pipe Installation and Replacement]</td>\n",
       "      <td>[pipes, and everything else. , The pipes? , pi...</td>\n",
       "    </tr>\n",
       "    <tr>\n",
       "      <th>2</th>\n",
       "      <td>1</td>\n",
       "      <td>174</td>\n",
       "      <td>1_questions_asked_ask_didn</td>\n",
       "      <td>[questions, asked, ask, didn, question, missin...</td>\n",
       "      <td>[questions, ask, asking, asked, question, thin...</td>\n",
       "      <td>[Inquiring About Unasked Questions]</td>\n",
       "      <td>[.. I think those are all the questions I have...</td>\n",
       "    </tr>\n",
       "    <tr>\n",
       "      <th>3</th>\n",
       "      <td>2</td>\n",
       "      <td>163</td>\n",
       "      <td>2_plant_operator_operators_level</td>\n",
       "      <td>[plant, operator, operators, level, plants, ce...</td>\n",
       "      <td>[plant, plants, water, wastewater, operate, op...</td>\n",
       "      <td>[Water Plant Operator Training]</td>\n",
       "      <td>[water plant operator or about? , plant. , How...</td>\n",
       "    </tr>\n",
       "    <tr>\n",
       "      <th>4</th>\n",
       "      <td>3</td>\n",
       "      <td>125</td>\n",
       "      <td>3_great_awesome_thank_perfect</td>\n",
       "      <td>[great, awesome, thank, perfect, cool, thanks,...</td>\n",
       "      <td>[great, awesome, fantastic, amazing, good, hap...</td>\n",
       "      <td>[Expressions of Appreciation and Approval]</td>\n",
       "      <td>[,. That's awesome. Well, great. , Great. Awes...</td>\n",
       "    </tr>\n",
       "    <tr>\n",
       "      <th>5</th>\n",
       "      <td>4</td>\n",
       "      <td>124</td>\n",
       "      <td>4_filter_filters_brita_filtration</td>\n",
       "      <td>[filter, filters, brita, filtration, filtered,...</td>\n",
       "      <td>[filter, filtered, filters, filtering, filtrat...</td>\n",
       "      <td>[Water Filtration and Filters]</td>\n",
       "      <td>[Well here I filter the water. , have a filter...</td>\n",
       "    </tr>\n",
       "    <tr>\n",
       "      <th>6</th>\n",
       "      <td>5</td>\n",
       "      <td>119</td>\n",
       "      <td>5_community_communities_members_meetings</td>\n",
       "      <td>[community, communities, members, meetings, ro...</td>\n",
       "      <td>[community, communities, people, folks, gather...</td>\n",
       "      <td>[Role and Sense in Communities]</td>\n",
       "      <td>[the community. Some people at least. , commun...</td>\n",
       "    </tr>\n",
       "    <tr>\n",
       "      <th>7</th>\n",
       "      <td>6</td>\n",
       "      <td>104</td>\n",
       "      <td>6_lived_moved_live_grew</td>\n",
       "      <td>[lived, moved, live, grew, long, living, broug...</td>\n",
       "      <td>[years, relocating, lived, area, long, forever...</td>\n",
       "      <td>[Duration of Residence in Area]</td>\n",
       "      <td>[here, so you moved to, but how long were you ...</td>\n",
       "    </tr>\n",
       "    <tr>\n",
       "      <th>8</th>\n",
       "      <td>7</td>\n",
       "      <td>95</td>\n",
       "      <td>7_tank_tanks_inside_plastic</td>\n",
       "      <td>[tank, tanks, inside, plastic, holding, new, p...</td>\n",
       "      <td>[tanks, tank, gallon, fuel, inlet, volume, sip...</td>\n",
       "      <td>[Cleaning and Priming New Tanks]</td>\n",
       "      <td>[,. And how big is your tank? , the tank was, ...</td>\n",
       "    </tr>\n",
       "    <tr>\n",
       "      <th>9</th>\n",
       "      <td>8</td>\n",
       "      <td>95</td>\n",
       "      <td>8_piped_water_pipe_enjoy</td>\n",
       "      <td>[piped, water, pipe, enjoy, pipes, clear, swit...</td>\n",
       "      <td>[pipes, pipe, piped, water, watering, flow, to...</td>\n",
       "      <td>[Enjoyment and Preference of Piped Water]</td>\n",
       "      <td>[, the piped water? ,  you had piped water? , ...</td>\n",
       "    </tr>\n",
       "    <tr>\n",
       "      <th>10</th>\n",
       "      <td>9</td>\n",
       "      <td>90</td>\n",
       "      <td>9_village_council_villages_tribal</td>\n",
       "      <td>[village, council, villages, tribal, local, ci...</td>\n",
       "      <td>[village, villages, tribe, tribes, municipalit...</td>\n",
       "      <td>[Tribal Villages Local Government Interaction]</td>\n",
       "      <td>[village , Well, they ruined they ruined the l...</td>\n",
       "    </tr>\n",
       "    <tr>\n",
       "      <th>11</th>\n",
       "      <td>10</td>\n",
       "      <td>87</td>\n",
       "      <td>10_test_pass_exam_testing</td>\n",
       "      <td>[test, pass, exam, testing, tests, questions, ...</td>\n",
       "      <td>[tests, test, testing, exam, tester, pass, stu...</td>\n",
       "      <td>[Exam Passing Strategies in Teaching]</td>\n",
       "      <td>[So our pass rates in rural Alaska are horribl...</td>\n",
       "    </tr>\n",
       "    <tr>\n",
       "      <th>12</th>\n",
       "      <td>11</td>\n",
       "      <td>87</td>\n",
       "      <td>11_rainwater_rain_gutters_collect</td>\n",
       "      <td>[rainwater, rain, gutters, collect, use, acid,...</td>\n",
       "      <td>[rainwater, rains, rain, raining, rainy, water...</td>\n",
       "      <td>[Collecting and Using Rainwater]</td>\n",
       "      <td>[Rainwater? , Is rainwater? , So from rainwate...</td>\n",
       "    </tr>\n",
       "    <tr>\n",
       "      <th>13</th>\n",
       "      <td>12</td>\n",
       "      <td>80</td>\n",
       "      <td>12_systems_change_platform_newer</td>\n",
       "      <td>[systems, change, platform, newer, sense, zero...</td>\n",
       "      <td>[systems, platform, computer, upgrades, failur...</td>\n",
       "      <td>[Maintaining and Upgrading New Systems]</td>\n",
       "      <td>[systems. They have a system, and so it doesn’...</td>\n",
       "    </tr>\n",
       "    <tr>\n",
       "      <th>14</th>\n",
       "      <td>13</td>\n",
       "      <td>80</td>\n",
       "      <td>13_house_houses_door_home</td>\n",
       "      <td>[house, houses, door, home, located, live, bro...</td>\n",
       "      <td>[house, houses, home, homes, housing, upstairs...</td>\n",
       "      <td>[Living in Large Family Home]</td>\n",
       "      <td>[Within your house. , house. , That's. I was i...</td>\n",
       "    </tr>\n",
       "    <tr>\n",
       "      <th>15</th>\n",
       "      <td>14</td>\n",
       "      <td>79</td>\n",
       "      <td>14_communities_community_talk_water</td>\n",
       "      <td>[communities, community, talk, water, school, ...</td>\n",
       "      <td>[water, infrastructure, teachers, communities,...</td>\n",
       "      <td>[Community Discussions on Water Issues]</td>\n",
       "      <td>[Generally, most the time they go. Sometimes p...</td>\n",
       "    </tr>\n",
       "    <tr>\n",
       "      <th>16</th>\n",
       "      <td>15</td>\n",
       "      <td>73</td>\n",
       "      <td>15_hauled_piped_water_hauling</td>\n",
       "      <td>[hauled, piped, water, hauling, wasn, haul, cl...</td>\n",
       "      <td>[hauled, hauling, water, rainwater, haul, frei...</td>\n",
       "      <td>[Hauled Water Delivery and Usage]</td>\n",
       "      <td>[I have hauled water. , hauled water? , I'm on...</td>\n",
       "    </tr>\n",
       "    <tr>\n",
       "      <th>17</th>\n",
       "      <td>16</td>\n",
       "      <td>72</td>\n",
       "      <td>16_winter_seasonally_snow_summer</td>\n",
       "      <td>[winter, seasonally, snow, summer, seasonality...</td>\n",
       "      <td>[winter, wintertime, seasonally, snow, snowy, ...</td>\n",
       "      <td>[Seasonal Changes in Winter]</td>\n",
       "      <td>[,. Is that so mostly kind of like seasonally ...</td>\n",
       "    </tr>\n",
       "    <tr>\n",
       "      <th>18</th>\n",
       "      <td>17</td>\n",
       "      <td>71</td>\n",
       "      <td>17_taste_tastes_funny_does</td>\n",
       "      <td>[taste, tastes, funny, does, smell, jail, worr...</td>\n",
       "      <td>[taste, tastes, tasted, flavor, smell, smells,...</td>\n",
       "      <td>[Experiencing Different Tastes]</td>\n",
       "      <td>[You can taste it? , taste? , , so like the ta...</td>\n",
       "    </tr>\n",
       "    <tr>\n",
       "      <th>19</th>\n",
       "      <td>18</td>\n",
       "      <td>69</td>\n",
       "      <td>18_drivers_driver_drive_underpaid</td>\n",
       "      <td>[drivers, driver, drive, underpaid, memory, co...</td>\n",
       "      <td>[drivers, driver, driving, drive, drove, cab, ...</td>\n",
       "      <td>[Experienced Underpaid Part-Time Drivers]</td>\n",
       "      <td>[problem. Some of the drivers just would not d...</td>\n",
       "    </tr>\n",
       "  </tbody>\n",
       "</table>\n",
       "</div>"
      ],
      "text/plain": [
       "    Topic  Count                                      Name  \\\n",
       "1       0    226                 0_pipes_pipe_piped_piping   \n",
       "2       1    174                1_questions_asked_ask_didn   \n",
       "3       2    163          2_plant_operator_operators_level   \n",
       "4       3    125             3_great_awesome_thank_perfect   \n",
       "5       4    124         4_filter_filters_brita_filtration   \n",
       "6       5    119  5_community_communities_members_meetings   \n",
       "7       6    104                   6_lived_moved_live_grew   \n",
       "8       7     95               7_tank_tanks_inside_plastic   \n",
       "9       8     95                  8_piped_water_pipe_enjoy   \n",
       "10      9     90         9_village_council_villages_tribal   \n",
       "11     10     87                 10_test_pass_exam_testing   \n",
       "12     11     87         11_rainwater_rain_gutters_collect   \n",
       "13     12     80          12_systems_change_platform_newer   \n",
       "14     13     80                 13_house_houses_door_home   \n",
       "15     14     79       14_communities_community_talk_water   \n",
       "16     15     73             15_hauled_piped_water_hauling   \n",
       "17     16     72          16_winter_seasonally_snow_summer   \n",
       "18     17     71                17_taste_tastes_funny_does   \n",
       "19     18     69         18_drivers_driver_drive_underpaid   \n",
       "\n",
       "                                       Representation  \\\n",
       "1   [pipes, pipe, piped, piping, old, new, hdpe, r...   \n",
       "2   [questions, asked, ask, didn, question, missin...   \n",
       "3   [plant, operator, operators, level, plants, ce...   \n",
       "4   [great, awesome, thank, perfect, cool, thanks,...   \n",
       "5   [filter, filters, brita, filtration, filtered,...   \n",
       "6   [community, communities, members, meetings, ro...   \n",
       "7   [lived, moved, live, grew, long, living, broug...   \n",
       "8   [tank, tanks, inside, plastic, holding, new, p...   \n",
       "9   [piped, water, pipe, enjoy, pipes, clear, swit...   \n",
       "10  [village, council, villages, tribal, local, ci...   \n",
       "11  [test, pass, exam, testing, tests, questions, ...   \n",
       "12  [rainwater, rain, gutters, collect, use, acid,...   \n",
       "13  [systems, change, platform, newer, sense, zero...   \n",
       "14  [house, houses, door, home, located, live, bro...   \n",
       "15  [communities, community, talk, water, school, ...   \n",
       "16  [hauled, piped, water, hauling, wasn, haul, cl...   \n",
       "17  [winter, seasonally, snow, summer, seasonality...   \n",
       "18  [taste, tastes, funny, does, smell, jail, worr...   \n",
       "19  [drivers, driver, drive, underpaid, memory, co...   \n",
       "\n",
       "                                              KeyBERT  \\\n",
       "1   [pipes, pipe, piping, pipeline, piped, hoses, ...   \n",
       "2   [questions, ask, asking, asked, question, thin...   \n",
       "3   [plant, plants, water, wastewater, operate, op...   \n",
       "4   [great, awesome, fantastic, amazing, good, hap...   \n",
       "5   [filter, filtered, filters, filtering, filtrat...   \n",
       "6   [community, communities, people, folks, gather...   \n",
       "7   [years, relocating, lived, area, long, forever...   \n",
       "8   [tanks, tank, gallon, fuel, inlet, volume, sip...   \n",
       "9   [pipes, pipe, piped, water, watering, flow, to...   \n",
       "10  [village, villages, tribe, tribes, municipalit...   \n",
       "11  [tests, test, testing, exam, tester, pass, stu...   \n",
       "12  [rainwater, rains, rain, raining, rainy, water...   \n",
       "13  [systems, platform, computer, upgrades, failur...   \n",
       "14  [house, houses, home, homes, housing, upstairs...   \n",
       "15  [water, infrastructure, teachers, communities,...   \n",
       "16  [hauled, hauling, water, rainwater, haul, frei...   \n",
       "17  [winter, wintertime, seasonally, snow, snowy, ...   \n",
       "18  [taste, tastes, tasted, flavor, smell, smells,...   \n",
       "19  [drivers, driver, driving, drive, drove, cab, ...   \n",
       "\n",
       "                                          OpenAI-4  \\\n",
       "1              [Pipe Installation and Replacement]   \n",
       "2              [Inquiring About Unasked Questions]   \n",
       "3                  [Water Plant Operator Training]   \n",
       "4       [Expressions of Appreciation and Approval]   \n",
       "5                   [Water Filtration and Filters]   \n",
       "6                  [Role and Sense in Communities]   \n",
       "7                  [Duration of Residence in Area]   \n",
       "8                 [Cleaning and Priming New Tanks]   \n",
       "9        [Enjoyment and Preference of Piped Water]   \n",
       "10  [Tribal Villages Local Government Interaction]   \n",
       "11           [Exam Passing Strategies in Teaching]   \n",
       "12                [Collecting and Using Rainwater]   \n",
       "13         [Maintaining and Upgrading New Systems]   \n",
       "14                   [Living in Large Family Home]   \n",
       "15         [Community Discussions on Water Issues]   \n",
       "16               [Hauled Water Delivery and Usage]   \n",
       "17                    [Seasonal Changes in Winter]   \n",
       "18                 [Experiencing Different Tastes]   \n",
       "19       [Experienced Underpaid Part-Time Drivers]   \n",
       "\n",
       "                                  Representative_Docs  \n",
       "1   [pipes, and everything else. , The pipes? , pi...  \n",
       "2   [.. I think those are all the questions I have...  \n",
       "3   [water plant operator or about? , plant. , How...  \n",
       "4   [,. That's awesome. Well, great. , Great. Awes...  \n",
       "5   [Well here I filter the water. , have a filter...  \n",
       "6   [the community. Some people at least. , commun...  \n",
       "7   [here, so you moved to, but how long were you ...  \n",
       "8   [,. And how big is your tank? , the tank was, ...  \n",
       "9   [, the piped water? ,  you had piped water? , ...  \n",
       "10  [village , Well, they ruined they ruined the l...  \n",
       "11  [So our pass rates in rural Alaska are horribl...  \n",
       "12  [Rainwater? , Is rainwater? , So from rainwate...  \n",
       "13  [systems. They have a system, and so it doesn’...  \n",
       "14  [Within your house. , house. , That's. I was i...  \n",
       "15  [Generally, most the time they go. Sometimes p...  \n",
       "16  [I have hauled water. , hauled water? , I'm on...  \n",
       "17  [,. Is that so mostly kind of like seasonally ...  \n",
       "18  [You can taste it? , taste? , , so like the ta...  \n",
       "19  [problem. Some of the drivers just would not d...  "
      ]
     },
     "execution_count": 79,
     "metadata": {},
     "output_type": "execute_result"
    }
   ],
   "source": [
    "rep_model_df[1:20]"
   ]
  },
  {
   "cell_type": "markdown",
   "id": "fc3cce79-4ab7-49b8-908e-ea338b57c71e",
   "metadata": {},
   "source": [
    "## Visualize"
   ]
  },
  {
   "cell_type": "code",
   "execution_count": 77,
   "id": "9f649b0a-6f73-48f7-9175-bb5e86965447",
   "metadata": {
    "tags": []
   },
   "outputs": [],
   "source": [
    "fig = rep_model.visualize_topics(top_n_topics=20, custom_labels='KeyBERT')"
   ]
  },
  {
   "cell_type": "code",
   "execution_count": 78,
   "id": "c978aebc-2580-4e1e-a6f0-326a6dd38d83",
   "metadata": {
    "tags": []
   },
   "outputs": [
    {
     "data": {
      "text/html": [
       "<iframe\n",
       "    scrolling=\"no\"\n",
       "    width=\"670px\"\n",
       "    height=\"670\"\n",
       "    src=\"iframe_figures/figure_78.html\"\n",
       "    frameborder=\"0\"\n",
       "    allowfullscreen\n",
       "></iframe>\n"
      ]
     },
     "metadata": {},
     "output_type": "display_data"
    }
   ],
   "source": [
    "fig.show()"
   ]
  },
  {
   "cell_type": "code",
   "execution_count": 75,
   "id": "0ea07986-1f86-4a06-8064-f055cebaa394",
   "metadata": {
    "tags": []
   },
   "outputs": [
    {
     "data": {
      "text/html": [
       "<iframe\n",
       "    scrolling=\"no\"\n",
       "    width=\"820px\"\n",
       "    height=\"820\"\n",
       "    src=\"iframe_figures/figure_75.html\"\n",
       "    frameborder=\"0\"\n",
       "    allowfullscreen\n",
       "></iframe>\n"
      ]
     },
     "metadata": {},
     "output_type": "display_data"
    }
   ],
   "source": [
    "rep_model.visualize_heatmap(top_n_topics=30,  custom_labels='KeyBERT')"
   ]
  },
  {
   "cell_type": "markdown",
   "id": "94b4c27a-801c-4919-b137-51a5f3f1f08c",
   "metadata": {
    "tags": []
   },
   "source": [
    "### Create topics per group\n",
    "* Interview set    \n",
    "* Speaker Type\n",
    "* Combination\n",
    "\n",
    "#### Dictionaries for updating default graph labeling"
   ]
  },
  {
   "cell_type": "code",
   "execution_count": 163,
   "id": "21ed6634-120f-4cff-891b-a9eb5beab2f5",
   "metadata": {
    "tags": []
   },
   "outputs": [],
   "source": [
    "# Update Fig Dictionary\n",
    "topic_label_dict = {}\n",
    "for i in range(1,fig_topics_number + 1):\n",
    "    init_label = 'Topic ' + str(rep_model_df.iloc[i]['Topic'])\n",
    "    new_label = rep_model_df.iloc[i]['OpenAI-4'][0]\n",
    "    topic_label[init_label] = new_label\n",
    "    \n",
    "topic_labels_list = list(topic_label_dict.keys())    \n",
    "\n"
   ]
  },
  {
   "cell_type": "code",
   "execution_count": 164,
   "id": "a84bbfff-1696-411c-a5fb-147efdbb2b19",
   "metadata": {
    "tags": []
   },
   "outputs": [],
   "source": [
    "topic_rep_dict = {}\n",
    "\n",
    "for i in range(1,fig_topics_number + 1):\n",
    "    topic_name = rep_model_df.iloc[i]['Name']\n",
    "    new_label = 'Topic ' + str(rep_model_df.iloc[i]['Topic']) + ': ' + rep_model_df.iloc[i]['OpenAI-4'][0]\n",
    "    topic_rep_dict[topic_name] = new_label\n",
    "    \n",
    "topic_rep_list = list(topic_rep_dict.keys())    \n"
   ]
  },
  {
   "cell_type": "markdown",
   "id": "f06094f9-c0a8-4cb2-ab66-6c75cf8ebfea",
   "metadata": {
    "tags": []
   },
   "source": [
    "### Interview Set"
   ]
  },
  {
   "cell_type": "code",
   "execution_count": 62,
   "id": "477871f9-09f8-4061-a0fd-f7e10a329838",
   "metadata": {
    "tags": []
   },
   "outputs": [
    {
     "name": "stderr",
     "output_type": "stream",
     "text": [
      "2it [00:00,  5.20it/s]\n"
     ]
    }
   ],
   "source": [
    "topics_per_origin = rep_model.topics_per_class(docs, classes=origin)"
   ]
  },
  {
   "cell_type": "code",
   "execution_count": 162,
   "id": "fcdf2486-b510-44d9-ab6e-2bd2eb493a58",
   "metadata": {
    "tags": []
   },
   "outputs": [],
   "source": [
    "fig_topics_number = 20\n",
    "fig_topics_origin = rep_model.visualize_topics_per_class(topics_per_origin, top_n_topics=fig_topics_number)"
   ]
  },
  {
   "cell_type": "code",
   "execution_count": 166,
   "id": "d1b87ddd-1911-4c70-8775-de6a0f8590ab",
   "metadata": {
    "tags": []
   },
   "outputs": [
    {
     "data": {
      "text/html": [
       "<iframe\n",
       "    scrolling=\"no\"\n",
       "    width=\"1270px\"\n",
       "    height=\"920\"\n",
       "    src=\"iframe_figures/figure_166.html\"\n",
       "    frameborder=\"0\"\n",
       "    allowfullscreen\n",
       "></iframe>\n"
      ]
     },
     "metadata": {},
     "output_type": "display_data"
    }
   ],
   "source": [
    "fig_topics_origin"
   ]
  },
  {
   "cell_type": "code",
   "execution_count": 190,
   "id": "38bf15ef-71e6-484a-81d1-4b813efc6a53",
   "metadata": {
    "tags": []
   },
   "outputs": [],
   "source": [
    "new_fig = rep_model.visualize_topics_per_class(topics_per_origin, top_n_topics=fig_topics_number)"
   ]
  },
  {
   "cell_type": "code",
   "execution_count": 191,
   "id": "0318a0d8-aea3-4390-b84b-4dc7c6843ab8",
   "metadata": {
    "tags": []
   },
   "outputs": [],
   "source": [
    "# Commands to update labeling in figure\n",
    "for bar in new_fig['data']:\n",
    "    bar['name'] = topic_rep_dict[bar['name']]\n",
    "new_fig['layout']['legend']['title']['text'] = '<b>Topic</b>'\n",
    "new_fig['layout']['title']['text'] = '<b>Topics per Interview Set</b>'\n",
    "new_fig['layout']['yaxis']['title']['text'] = 'Interview Set'"
   ]
  },
  {
   "cell_type": "code",
   "execution_count": 192,
   "id": "6b982151-b693-4fa0-b0d7-66598fd7550c",
   "metadata": {
    "tags": []
   },
   "outputs": [
    {
     "data": {
      "text/html": [
       "<iframe\n",
       "    scrolling=\"no\"\n",
       "    width=\"1270px\"\n",
       "    height=\"920\"\n",
       "    src=\"iframe_figures/figure_192.html\"\n",
       "    frameborder=\"0\"\n",
       "    allowfullscreen\n",
       "></iframe>\n"
      ]
     },
     "metadata": {},
     "output_type": "display_data"
    }
   ],
   "source": [
    "new_fig"
   ]
  },
  {
   "cell_type": "markdown",
   "id": "5f9214f6-2320-430b-8d47-c793eccde633",
   "metadata": {},
   "source": [
    "## Topics per speaker type"
   ]
  },
  {
   "cell_type": "code",
   "execution_count": null,
   "id": "cba4a710-055b-4b68-a16c-aedd889dff50",
   "metadata": {},
   "outputs": [
    {
     "name": "stderr",
     "output_type": "stream",
     "text": [
      "2it [00:00,  5.25it/s]\n"
     ]
    }
   ],
   "source": [
    "topics_per_speaker_type = rep_model.topics_per_class(docs, classes=speaker_type)"
   ]
  },
  {
   "cell_type": "code",
   "execution_count": 194,
   "id": "c6438d23-1a87-4e8f-acc1-b33575889cbe",
   "metadata": {
    "tags": []
   },
   "outputs": [],
   "source": [
    "fig_speaker_type = rep_model.visualize_topics_per_class(topics_per_speaker_type, top_n_topics=fig_topics_number)"
   ]
  },
  {
   "cell_type": "code",
   "execution_count": 215,
   "id": "1f4791b1-d054-4a2e-a5b8-a5243b69c7ba",
   "metadata": {
    "tags": []
   },
   "outputs": [],
   "source": [
    "# Commands to update labeling in figure\n",
    "# for bar in fig_speaker_type['data']:\n",
    "#     bar['name'] = topic_rep_dict[bar['name']]\n",
    "# fig_speaker_type['layout']['legend']['title']['text'] = '<b>Topic</b>'\n",
    "# fig_speaker_type['layout']['title']['text'] = '<b>Topics per Speaker Class</b>'\n",
    "# fig_speaker_type['layout']['yaxis']['title']['text'] = 'Speaker Class'"
   ]
  },
  {
   "cell_type": "code",
   "execution_count": null,
   "id": "a76f2f12-6ccb-41d6-b116-c57d55d5e905",
   "metadata": {},
   "outputs": [],
   "source": [
    "# Commands to update labeling in figure\n",
    "# speaker_types_array = np.array(['Interviewee', 'Interviewer'])\n",
    "# for bar in fig_speaker_type['data']:\n",
    "#     bar['y'] = speaker_types_array"
   ]
  },
  {
   "cell_type": "code",
   "execution_count": 216,
   "id": "495a09ec-54f5-49e7-9d2e-e81c8c5e24af",
   "metadata": {
    "tags": []
   },
   "outputs": [
    {
     "data": {
      "text/html": [
       "<iframe\n",
       "    scrolling=\"no\"\n",
       "    width=\"1270px\"\n",
       "    height=\"920\"\n",
       "    src=\"iframe_figures/figure_216.html\"\n",
       "    frameborder=\"0\"\n",
       "    allowfullscreen\n",
       "></iframe>\n"
      ]
     },
     "metadata": {},
     "output_type": "display_data"
    }
   ],
   "source": [
    "fig_speaker_type"
   ]
  },
  {
   "cell_type": "markdown",
   "id": "ce9b6e56-2ebe-4906-ada1-53d13e98a9ca",
   "metadata": {},
   "source": [
    "### 4 way split"
   ]
  },
  {
   "cell_type": "code",
   "execution_count": 217,
   "id": "35e1c28c-79f1-4230-b1c9-d0c3b25d6988",
   "metadata": {
    "tags": []
   },
   "outputs": [
    {
     "name": "stderr",
     "output_type": "stream",
     "text": [
      "4it [00:00,  6.27it/s]\n"
     ]
    }
   ],
   "source": [
    "topics_per_set_and_speaker = rep_model.topics_per_class(docs, classes=set_speaker)"
   ]
  },
  {
   "cell_type": "code",
   "execution_count": 218,
   "id": "0928f689-f4e1-4548-9201-37e5a1b4d174",
   "metadata": {
    "tags": []
   },
   "outputs": [],
   "source": [
    "fig_both = rep_model.visualize_topics_per_class(topics_per_set_and_speaker, top_n_topics=fig_topics_number)"
   ]
  },
  {
   "cell_type": "code",
   "execution_count": 220,
   "id": "f6273912-79a8-4403-bbcc-b2b17e291e51",
   "metadata": {
    "tags": []
   },
   "outputs": [],
   "source": [
    "# Commands to update labeling in figure\n",
    "for bar in fig_both['data']:\n",
    "    bar['name'] = topic_rep_dict[bar['name']]\n",
    "fig_both['layout']['legend']['title']['text'] = '<b>Topic</b>'\n",
    "fig_both['layout']['title']['text'] = '<b>Topics per Interview Group and Speaker Class</b>'\n",
    "fig_both['layout']['yaxis']['title']['text'] = 'interview Group / Speaker Class'"
   ]
  },
  {
   "cell_type": "code",
   "execution_count": 221,
   "id": "6c47f798-edf7-44a6-b2a7-3c8e0af4e704",
   "metadata": {
    "tags": []
   },
   "outputs": [
    {
     "data": {
      "text/html": [
       "<iframe\n",
       "    scrolling=\"no\"\n",
       "    width=\"1270px\"\n",
       "    height=\"920\"\n",
       "    src=\"iframe_figures/figure_221.html\"\n",
       "    frameborder=\"0\"\n",
       "    allowfullscreen\n",
       "></iframe>\n"
      ]
     },
     "metadata": {},
     "output_type": "display_data"
    }
   ],
   "source": [
    "fig_both"
   ]
  },
  {
   "cell_type": "markdown",
   "id": "f9974ceb-9d46-4a36-bc5f-0739e29e4ed1",
   "metadata": {},
   "source": [
    "# Modify MOdel Parameters (Future)"
   ]
  },
  {
   "cell_type": "markdown",
   "id": "9f8ff03d-1cd3-42a4-aaeb-8a838b079919",
   "metadata": {
    "tags": []
   },
   "source": [
    "## Modify parameters / configurations for clustering\n",
    "HDBSCAN\n",
    "* min_cluster_size 15 --> 30\n",
    "* min_topic_size  default (10?) --> 50\n",
    "\n",
    "HYPER PARAMETERS\n",
    "* add top_n_words=10\n",
    "* min_topic_size (default is 10)"
   ]
  },
  {
   "cell_type": "code",
   "execution_count": 50,
   "id": "9e3ce912-718d-4d80-a481-8fa667b072ca",
   "metadata": {
    "tags": []
   },
   "outputs": [],
   "source": [
    "# Step 3 - Cluster reduced embeddings\n",
    "hdbscan_model_1 = HDBSCAN(min_cluster_size=30, metric='euclidean', cluster_selection_method='eom', prediction_data=True)"
   ]
  },
  {
   "cell_type": "code",
   "execution_count": 51,
   "id": "df17ace7-e838-414a-a91d-decd9d353aae",
   "metadata": {
    "tags": []
   },
   "outputs": [],
   "source": [
    "model_1 = BERTopic(\n",
    "  # Pipeline models\n",
    "  umap_model=umap_model_will,\n",
    "  hdbscan_model = hdbscan_model_1,\n",
    "\n",
    "  # Hyperparameters\n",
    "  top_n_words=10,\n",
    "  min_topic_size = 50,\n",
    "  verbose=True\n",
    ")"
   ]
  },
  {
   "cell_type": "code",
   "execution_count": null,
   "id": "db6ad068-3947-4cc5-879b-c53a7b5738bf",
   "metadata": {},
   "outputs": [],
   "source": []
  }
 ],
 "metadata": {
  "kernelspec": {
   "display_name": "BERT",
   "language": "python",
   "name": "bert"
  },
  "language_info": {
   "codemirror_mode": {
    "name": "ipython",
    "version": 3
   },
   "file_extension": ".py",
   "mimetype": "text/x-python",
   "name": "python",
   "nbconvert_exporter": "python",
   "pygments_lexer": "ipython3",
   "version": "3.10.9"
  }
 },
 "nbformat": 4,
 "nbformat_minor": 5
}
