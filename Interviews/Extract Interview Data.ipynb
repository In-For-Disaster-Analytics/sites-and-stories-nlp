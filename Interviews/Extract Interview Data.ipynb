{
 "cells": [
  {
   "cell_type": "markdown",
   "id": "d06c00e9",
   "metadata": {},
   "source": [
    "# Pre-processing of public interview data\n",
    "\n",
    "Since planing to use OpenAI, working with the publicly uploaded interview data available from the [Arctic Data Center Catalog](https://arcticdata.io/catalog).\n",
    "\n",
    "We will specifically use the following PDFs of compiled interviews:   \n",
    "* [Interviews with Water Sector Stakeholders in Rural Alaska, 2021-2022](https://arcticdata.io/catalog/view/doi%3A10.18739%2FA29Z90D4B)\n",
    "* [Interview Data from April 2022: End-Users' Perceptions of Water Services in Rural Alaska](https://arcticdata.io/catalog/view/doi%3A10.18739%2FA26Q1SJ48)"
   ]
  },
  {
   "cell_type": "markdown",
   "id": "73dca8ba",
   "metadata": {},
   "source": [
    "## Libraries & Configurations"
   ]
  },
  {
   "cell_type": "code",
   "execution_count": 1,
   "id": "5b521b6e-a54b-4e4d-85c8-ce2ff9ea0714",
   "metadata": {
    "tags": []
   },
   "outputs": [],
   "source": [
    "# Load OpenAI API key from local .env file\n",
    "import openai\n",
    "import os\n",
    "\n",
    "from dotenv import load_dotenv, find_dotenv\n",
    "_ = load_dotenv(find_dotenv()) # read local .env file\n",
    "\n",
    "openai.api_key  = os.getenv('OPENAI_API_KEY')"
   ]
  },
  {
   "cell_type": "code",
   "execution_count": 2,
   "id": "099b4d3f",
   "metadata": {},
   "outputs": [],
   "source": [
    "import fitz # this is PyMuPDF. Weird name because developers.\n",
    "import re\n",
    "\n",
    "import pandas as pd \n",
    "import json\n",
    "import numpy as np"
   ]
  },
  {
   "cell_type": "markdown",
   "id": "637ff49e",
   "metadata": {},
   "source": [
    "## Processing Functions"
   ]
  },
  {
   "cell_type": "code",
   "execution_count": 3,
   "id": "7daf38e8",
   "metadata": {},
   "outputs": [],
   "source": [
    "# Font Flag descriptions from PyMuPDF documentation \n",
    "# https://pymupdf.readthedocs.io/en/latest/recipes-text.html#how-to-analyze-font-characteristics\n",
    "def flags_decomposer(flags):\n",
    "    \"\"\"Make font flags human readable.\"\"\"\n",
    "    l = []\n",
    "    if flags & 2 ** 0:\n",
    "        l.append(\"superscript\")\n",
    "    if flags & 2 ** 1:\n",
    "        l.append(\"italic\")\n",
    "    if flags & 2 ** 2:\n",
    "        l.append(\"serifed\")\n",
    "    else:\n",
    "        l.append(\"sans\")\n",
    "    if flags & 2 ** 3:\n",
    "        l.append(\"monospaced\")\n",
    "    else:\n",
    "        l.append(\"proportional\")\n",
    "    if flags & 2 ** 4:\n",
    "        l.append(\"bold\")\n",
    "    return \", \".join(l)"
   ]
  },
  {
   "cell_type": "code",
   "execution_count": 67,
   "id": "2515803e-0bb5-4bd4-973e-bc83dc01dc41",
   "metadata": {
    "tags": []
   },
   "outputs": [],
   "source": [
    "def load_and_chunk(pdffile):\n",
    "    doc = fitz.open(os.path.join(pdffile)) # Use the 'Blocks' option in the PyMuPDF package\n",
    "    \n",
    "    # Load each page in doc into a dictionary\n",
    "    block_dict = {}\n",
    "    page_num = 1\n",
    "    for page in doc:\n",
    "        # Load blocks for each page\n",
    "        block_dict[page_num] = page.get_text('dict')['blocks']\n",
    "        page_num += 1\n",
    "    \n",
    "    # Read blocks into dataframe\n",
    "    blocksdf = pd.DataFrame()\n",
    "    for page_num, blocks in block_dict.items():\n",
    "        blockdf = pd.DataFrame(blocks)\n",
    "        blockdf['page_num'] = page_num\n",
    "\n",
    "        if blocksdf.empty:\n",
    "            blocksdf = blockdf\n",
    "        else:\n",
    "            blocksdf = pd.concat([blocksdf, blockdf])\n",
    "            \n",
    "    # Extract span information for each block\n",
    "    textcols = ['page_num', 'number', 'lines']\n",
    "    textdf = blocksdf[blocksdf['type'] == 0][textcols].reset_index(drop=True)\n",
    "    textdf = textdf.explode('lines')\n",
    "    textdf['spans'] = textdf['lines'].apply(lambda x: x['spans'])\n",
    "    textdf = textdf.explode('spans')\n",
    "    textdf.reset_index(inplace=True, drop=True)           \n",
    "    \n",
    "    # Turn spans dictionary into dataframe and then merge back in\n",
    "    spans_df = pd.DataFrame(textdf['spans'].tolist())\n",
    "    alldf = pd.concat([textdf, spans_df], axis=1)    \n",
    "    \n",
    "    # Subset data and rename\n",
    "    col_dict = {\n",
    "        'page_num' : 'Page',\n",
    "        'number': 'Block',\n",
    "        'size': 'font_size',\n",
    "        'flags':'font_flag', \n",
    "        'font': 'font',\n",
    "        'color': 'color',\n",
    "        'bbox':'bbox',\n",
    "        'text':'text'}\n",
    "    df = alldf[col_dict.keys()].copy()\n",
    "    df.rename(columns=col_dict, inplace=True)    \n",
    "    \n",
    "    # Drop lines of empty text\n",
    "    dftext = df[(df.text != ' ') & (df.text != '  ')].copy()\n",
    "\n",
    "    dftext['page_text'] = dftext.apply(lambda x: str(x['Page'])+ ' ' == x['text'], axis = 1)\n",
    "    dftext = dftext[~dftext['page_text']].copy()\n",
    "\n",
    "    dftext.reset_index(drop=True, inplace=True)    \n",
    "    \n",
    "    # Add columnst o flag if text is lower case, upper case, convert Flag to human readable form\n",
    "    dftext['is_bold'] = dftext['font'].apply(lambda x: True if \"bold\" in x.lower() else False)\n",
    "    dftext['is_upper'] = dftext['text'].apply(lambda x: True if re.sub(\"[\\(\\[].*?[\\)\\]]\", \"\", x).isupper() else False)\n",
    "    dftext['Flag'] = dftext['font_flag'].apply(lambda x: flags_decomposer(x))     \n",
    "    \n",
    "    return dftext"
   ]
  },
  {
   "cell_type": "code",
   "execution_count": null,
   "id": "b1010470-b858-4776-95d7-70161d746d3d",
   "metadata": {},
   "outputs": [],
   "source": []
  },
  {
   "cell_type": "markdown",
   "id": "2c204c40",
   "metadata": {},
   "source": [
    "## Load PDF and Chunk\n",
    "\n",
    "### Interviews with Water Sector Stakeholders in Rural Alaska, 2021-2022\n",
    "Note: the formatting of the interviews changes between Interview 14 and 15 / page 250 and 251 in the pdf"
   ]
  },
  {
   "cell_type": "code",
   "execution_count": 50,
   "id": "8f24b957",
   "metadata": {},
   "outputs": [],
   "source": [
    "# Pointer to local copy of the pdf of interview data\n",
    "pdffile = '../DATA/Arctic_Data_21_22/data/2023_08_22_Compiled.pdf'"
   ]
  },
  {
   "cell_type": "code",
   "execution_count": 68,
   "id": "544fed50-d925-4235-a9c9-b4c00a5328ce",
   "metadata": {
    "tags": []
   },
   "outputs": [],
   "source": [
    "int_21_22 = load_and_chunk(pdffile)"
   ]
  },
  {
   "cell_type": "code",
   "execution_count": 66,
   "id": "de2244e2-d752-4ba0-bb99-0061f9132719",
   "metadata": {
    "tags": []
   },
   "outputs": [
    {
     "data": {
      "text/html": [
       "<div>\n",
       "<style scoped>\n",
       "    .dataframe tbody tr th:only-of-type {\n",
       "        vertical-align: middle;\n",
       "    }\n",
       "\n",
       "    .dataframe tbody tr th {\n",
       "        vertical-align: top;\n",
       "    }\n",
       "\n",
       "    .dataframe thead th {\n",
       "        text-align: right;\n",
       "    }\n",
       "</style>\n",
       "<table border=\"1\" class=\"dataframe\">\n",
       "  <thead>\n",
       "    <tr style=\"text-align: right;\">\n",
       "      <th></th>\n",
       "      <th>Page</th>\n",
       "      <th>Block</th>\n",
       "      <th>font_size</th>\n",
       "      <th>font_flag</th>\n",
       "      <th>font</th>\n",
       "      <th>color</th>\n",
       "      <th>bbox</th>\n",
       "      <th>text</th>\n",
       "      <th>page_text</th>\n",
       "      <th>is_bold</th>\n",
       "      <th>is_upper</th>\n",
       "      <th>Flag</th>\n",
       "      <th>time_marker</th>\n",
       "      <th>Interview</th>\n",
       "    </tr>\n",
       "  </thead>\n",
       "  <tbody>\n",
       "    <tr>\n",
       "      <th>0</th>\n",
       "      <td>1</td>\n",
       "      <td>1</td>\n",
       "      <td>11.04</td>\n",
       "      <td>16</td>\n",
       "      <td>Calibri-Bold</td>\n",
       "      <td>0</td>\n",
       "      <td>(276.04998779296875, 74.18002319335938, 338.56...</td>\n",
       "      <td>INTERVIEW 1</td>\n",
       "      <td>False</td>\n",
       "      <td>True</td>\n",
       "      <td>True</td>\n",
       "      <td>sans, proportional, bold</td>\n",
       "      <td>False</td>\n",
       "      <td>INTERVIEW 1</td>\n",
       "    </tr>\n",
       "    <tr>\n",
       "      <th>1</th>\n",
       "      <td>1</td>\n",
       "      <td>2</td>\n",
       "      <td>11.04</td>\n",
       "      <td>16</td>\n",
       "      <td>Calibri-Bold</td>\n",
       "      <td>0</td>\n",
       "      <td>(72.02400207519531, 96.62002563476562, 137.515...</td>\n",
       "      <td>Interviewee 1</td>\n",
       "      <td>False</td>\n",
       "      <td>True</td>\n",
       "      <td>False</td>\n",
       "      <td>sans, proportional, bold</td>\n",
       "      <td>False</td>\n",
       "      <td>INTERVIEW 1</td>\n",
       "    </tr>\n",
       "  </tbody>\n",
       "</table>\n",
       "</div>"
      ],
      "text/plain": [
       "   Page  Block  font_size  font_flag          font  color  \\\n",
       "0     1      1      11.04         16  Calibri-Bold      0   \n",
       "1     1      2      11.04         16  Calibri-Bold      0   \n",
       "\n",
       "                                                bbox            text  \\\n",
       "0  (276.04998779296875, 74.18002319335938, 338.56...    INTERVIEW 1    \n",
       "1  (72.02400207519531, 96.62002563476562, 137.515...  Interviewee 1    \n",
       "\n",
       "   page_text  is_bold  is_upper                      Flag  time_marker  \\\n",
       "0      False     True      True  sans, proportional, bold        False   \n",
       "1      False     True     False  sans, proportional, bold        False   \n",
       "\n",
       "      Interview  \n",
       "0  INTERVIEW 1   \n",
       "1  INTERVIEW 1   "
      ]
     },
     "execution_count": 66,
     "metadata": {},
     "output_type": "execute_result"
    }
   ],
   "source": [
    "int_21_22.head(2)"
   ]
  },
  {
   "cell_type": "markdown",
   "id": "3f8cacee-94ee-4a29-b702-65d21470dc71",
   "metadata": {
    "tags": []
   },
   "source": [
    "### Interview Data from April 2022: End-Users' Perceptions of Water Services in Rural Alaska"
   ]
  },
  {
   "cell_type": "code",
   "execution_count": 32,
   "id": "e5770b01-fb1b-45d3-9751-c1cca0fda596",
   "metadata": {
    "tags": []
   },
   "outputs": [],
   "source": [
    "# Pointer to local copy of the pdf of interview data\n",
    "yk_pdffile = '../DATA/YK_Delta_April22/data/YKDelta_End_User_Interviews_Anonymized.pdf'"
   ]
  },
  {
   "cell_type": "code",
   "execution_count": 303,
   "id": "80c397a5-65dc-4f4a-ad1e-800fb3591202",
   "metadata": {
    "tags": []
   },
   "outputs": [],
   "source": [
    "apr_22 = load_and_chunk(yk_pdffile)"
   ]
  },
  {
   "cell_type": "code",
   "execution_count": 35,
   "id": "275c0dfb-9f6f-4e36-a30c-ea2393ccb0df",
   "metadata": {
    "tags": []
   },
   "outputs": [
    {
     "data": {
      "text/html": [
       "<div>\n",
       "<style scoped>\n",
       "    .dataframe tbody tr th:only-of-type {\n",
       "        vertical-align: middle;\n",
       "    }\n",
       "\n",
       "    .dataframe tbody tr th {\n",
       "        vertical-align: top;\n",
       "    }\n",
       "\n",
       "    .dataframe thead th {\n",
       "        text-align: right;\n",
       "    }\n",
       "</style>\n",
       "<table border=\"1\" class=\"dataframe\">\n",
       "  <thead>\n",
       "    <tr style=\"text-align: right;\">\n",
       "      <th></th>\n",
       "      <th>Page</th>\n",
       "      <th>Block</th>\n",
       "      <th>font_size</th>\n",
       "      <th>font_flag</th>\n",
       "      <th>font</th>\n",
       "      <th>color</th>\n",
       "      <th>bbox</th>\n",
       "      <th>text</th>\n",
       "      <th>page_text</th>\n",
       "      <th>is_bold</th>\n",
       "      <th>is_upper</th>\n",
       "      <th>Flag</th>\n",
       "    </tr>\n",
       "  </thead>\n",
       "  <tbody>\n",
       "    <tr>\n",
       "      <th>0</th>\n",
       "      <td>1</td>\n",
       "      <td>0</td>\n",
       "      <td>11.04</td>\n",
       "      <td>0</td>\n",
       "      <td>ArialMT</td>\n",
       "      <td>9605778</td>\n",
       "      <td>(54.0, 741.9720458984375, 377.53912353515625, ...</td>\n",
       "      <td>Transcript anonymized according to IRB for pri...</td>\n",
       "      <td>False</td>\n",
       "      <td>False</td>\n",
       "      <td>False</td>\n",
       "      <td>sans, proportional</td>\n",
       "    </tr>\n",
       "    <tr>\n",
       "      <th>1</th>\n",
       "      <td>1</td>\n",
       "      <td>0</td>\n",
       "      <td>11.04</td>\n",
       "      <td>0</td>\n",
       "      <td>ArialMT</td>\n",
       "      <td>0</td>\n",
       "      <td>(540.7000122070312, 745.572021484375, 563.3291...</td>\n",
       "      <td>- 1 -</td>\n",
       "      <td>False</td>\n",
       "      <td>False</td>\n",
       "      <td>False</td>\n",
       "      <td>sans, proportional</td>\n",
       "    </tr>\n",
       "  </tbody>\n",
       "</table>\n",
       "</div>"
      ],
      "text/plain": [
       "   Page  Block  font_size  font_flag     font    color  \\\n",
       "0     1      0      11.04          0  ArialMT  9605778   \n",
       "1     1      0      11.04          0  ArialMT        0   \n",
       "\n",
       "                                                bbox  \\\n",
       "0  (54.0, 741.9720458984375, 377.53912353515625, ...   \n",
       "1  (540.7000122070312, 745.572021484375, 563.3291...   \n",
       "\n",
       "                                                text  page_text  is_bold  \\\n",
       "0  Transcript anonymized according to IRB for pri...      False    False   \n",
       "1                                             - 1 -       False    False   \n",
       "\n",
       "   is_upper                Flag  \n",
       "0     False  sans, proportional  \n",
       "1     False  sans, proportional  "
      ]
     },
     "execution_count": 35,
     "metadata": {},
     "output_type": "execute_result"
    }
   ],
   "source": [
    "apr_22.head(2)"
   ]
  },
  {
   "cell_type": "markdown",
   "id": "f43a2498-d8e9-47ca-9667-64ccc7b74ba6",
   "metadata": {},
   "source": [
    "## Process text data into standardized data format with: Interview, Page, Block, Speaker, Time (if available), Text\n",
    "\n",
    "### Interviews with Water Sector Stakeholders in Rural Alaska, 2021-2022\n",
    "Split text at page 250 where structure of Interview documents changes.  \n",
    "**Assumption**: this reflects the split between the 2 interview sessions (Nov 21 and August 22), and we will preserve that distinction for possible use later"
   ]
  },
  {
   "cell_type": "markdown",
   "id": "2f5864b8-30f2-4b8b-aa89-ea9fe6360032",
   "metadata": {},
   "source": [
    "### Nov 21 Interviews"
   ]
  },
  {
   "cell_type": "code",
   "execution_count": 212,
   "id": "a0c3d969-f7d0-4bd3-8ffb-31d8033a9730",
   "metadata": {
    "tags": []
   },
   "outputs": [],
   "source": [
    "nov21 = int_21_22[int_21_22.Page <= 250].copy()"
   ]
  },
  {
   "cell_type": "code",
   "execution_count": 213,
   "id": "91f6fdeb",
   "metadata": {},
   "outputs": [],
   "source": [
    "# Flag Time marks in interview, which are distinguished logically by the color of the font\n",
    "nov21['time_marker'] = nov21['color'].apply(lambda x: True if x == 6123908 else False)"
   ]
  },
  {
   "cell_type": "code",
   "execution_count": 214,
   "id": "db2f66c6",
   "metadata": {},
   "outputs": [],
   "source": [
    "# The title of the section (which defines which Interview the text came from) is distinguished by is_upper = True \n",
    "# Fill forward for all rows until the next Interview begins\n",
    "nov21['Interview'] = nov21.apply(lambda x: x['text'] if x['is_upper'] and x['is_bold'] else np.NaN, axis = 1)\n",
    "nov21['Interview'] = nov21['Interview'].fillna(method='ffill')"
   ]
  },
  {
   "cell_type": "code",
   "execution_count": 215,
   "id": "75bf5c1f-f983-4b45-9150-d79c0a59a60e",
   "metadata": {},
   "outputs": [],
   "source": [
    "# Remove text line that delineates the Interview\n",
    "nov21 = nov21[nov21['text'] != nov21['Interview']]"
   ]
  },
  {
   "cell_type": "code",
   "execution_count": 216,
   "id": "9a34acd1-06af-44b0-985a-7967e3ad7757",
   "metadata": {},
   "outputs": [],
   "source": [
    "# is_bold = defines speaker, forward fill\n",
    "nov21['Speaker'] = nov21.apply(lambda x: x['text'] if x['is_bold'] else np.NaN, axis = 1)\n",
    "nov21['Speaker'] = nov21['Speaker'].fillna(method='ffill')"
   ]
  },
  {
   "cell_type": "code",
   "execution_count": 217,
   "id": "46af0f90",
   "metadata": {},
   "outputs": [],
   "source": [
    "# Get the shifted text value and use this as the time marker for the speaker value, then forward fill\n",
    "nov21['shift'] = nov21['text'].shift(-1)\n",
    "nov21['Time_Mark'] = nov21.apply(lambda x: x['shift'] if x['is_bold'] else np.NaN, axis = 1)\n",
    "nov21['Time_Mark'] = nov21['Time_Mark'].fillna(method='ffill')"
   ]
  },
  {
   "cell_type": "code",
   "execution_count": 218,
   "id": "e3390495",
   "metadata": {},
   "outputs": [],
   "source": [
    "# Drop speaker and time marker rows\n",
    "nov21 = nov21[(~nov21['is_bold']) & (~nov21['time_marker'])].copy()\n",
    "nov21.reset_index(drop=True, inplace=True)"
   ]
  },
  {
   "cell_type": "code",
   "execution_count": 219,
   "id": "33b80d8c-359c-4fbd-beac-c3d443ff449d",
   "metadata": {
    "tags": []
   },
   "outputs": [],
   "source": [
    "# rename 'text' --> 'Text' for consistency\n",
    "nov21.rename(columns={\"text\": \"Text\"}, inplace=True)"
   ]
  },
  {
   "cell_type": "code",
   "execution_count": 221,
   "id": "33bc6cf0",
   "metadata": {},
   "outputs": [],
   "source": [
    "# Subset datafrane with specific columns for analysis\n",
    "keep_cols = ['Interview','Page', 'Block', 'Speaker', 'Time_Mark']\n",
    "nov21_b = nov21[keep_cols + ['Text']].copy()"
   ]
  },
  {
   "cell_type": "markdown",
   "id": "b6d9a437-208c-4695-87a2-96710eb7a23b",
   "metadata": {},
   "source": [
    "#### Group all text from particular Speaker at one point into single row\n",
    "This is necessary because the pdf reader will split text into separate blocks randomly in the middle of a sentence.  in downsrteam steps can always resplit into sentences."
   ]
  },
  {
   "cell_type": "code",
   "execution_count": 292,
   "id": "1152988a",
   "metadata": {},
   "outputs": [],
   "source": [
    "# Aggregate all text from a specific speaker\n",
    "nov21_grouped = nov21_b.groupby(keep_cols).agg({'Text': lambda x: ' '.join(x)})\n",
    "nov21_grouped.reset_index(inplace=True)\n",
    "nov21_grouped.sort_values(by=['Interview','Time_Mark'],inplace=True)"
   ]
  },
  {
   "cell_type": "code",
   "execution_count": 293,
   "id": "34a0e84f-bae7-4fe6-af70-6a546e6e95d8",
   "metadata": {
    "tags": []
   },
   "outputs": [
    {
     "data": {
      "text/html": [
       "<div>\n",
       "<style scoped>\n",
       "    .dataframe tbody tr th:only-of-type {\n",
       "        vertical-align: middle;\n",
       "    }\n",
       "\n",
       "    .dataframe tbody tr th {\n",
       "        vertical-align: top;\n",
       "    }\n",
       "\n",
       "    .dataframe thead th {\n",
       "        text-align: right;\n",
       "    }\n",
       "</style>\n",
       "<table border=\"1\" class=\"dataframe\">\n",
       "  <thead>\n",
       "    <tr style=\"text-align: right;\">\n",
       "      <th></th>\n",
       "      <th>Interview</th>\n",
       "      <th>Page</th>\n",
       "      <th>Block</th>\n",
       "      <th>Speaker</th>\n",
       "      <th>Time_Mark</th>\n",
       "      <th>Text</th>\n",
       "    </tr>\n",
       "  </thead>\n",
       "  <tbody>\n",
       "    <tr>\n",
       "      <th>0</th>\n",
       "      <td>INTERVIEW 1</td>\n",
       "      <td>1</td>\n",
       "      <td>2</td>\n",
       "      <td>Interviewee 1</td>\n",
       "      <td>00:00</td>\n",
       "      <td>A sewer project called the [REDACTED], I forge...</td>\n",
       "    </tr>\n",
       "    <tr>\n",
       "      <th>2</th>\n",
       "      <td>INTERVIEW 1</td>\n",
       "      <td>1</td>\n",
       "      <td>2</td>\n",
       "      <td>Interviewer 1</td>\n",
       "      <td>02:56</td>\n",
       "      <td>So like with the new subdivisions coming online?</td>\n",
       "    </tr>\n",
       "    <tr>\n",
       "      <th>1</th>\n",
       "      <td>INTERVIEW 1</td>\n",
       "      <td>1</td>\n",
       "      <td>2</td>\n",
       "      <td>Interviewee 1</td>\n",
       "      <td>02:59</td>\n",
       "      <td>That's what I'm worried about. Yeah, so we're ...</td>\n",
       "    </tr>\n",
       "  </tbody>\n",
       "</table>\n",
       "</div>"
      ],
      "text/plain": [
       "      Interview  Page  Block         Speaker Time_Mark  \\\n",
       "0  INTERVIEW 1      1      2  Interviewee 1      00:00   \n",
       "2  INTERVIEW 1      1      2  Interviewer 1      02:56   \n",
       "1  INTERVIEW 1      1      2  Interviewee 1      02:59   \n",
       "\n",
       "                                                Text  \n",
       "0  A sewer project called the [REDACTED], I forge...  \n",
       "2  So like with the new subdivisions coming online?   \n",
       "1  That's what I'm worried about. Yeah, so we're ...  "
      ]
     },
     "execution_count": 293,
     "metadata": {},
     "output_type": "execute_result"
    }
   ],
   "source": [
    "nov21_grouped.head(3)"
   ]
  },
  {
   "cell_type": "markdown",
   "id": "5f90e8fe-9eed-4939-af8d-02229acdbc7c",
   "metadata": {
    "tags": []
   },
   "source": [
    "### Aug 22 Interviews"
   ]
  },
  {
   "cell_type": "code",
   "execution_count": 226,
   "id": "441e190a-122f-4e00-b0d3-8a17a4a8d282",
   "metadata": {
    "tags": []
   },
   "outputs": [],
   "source": [
    "aug22 = int_21_22[int_21_22.Page > 250].copy()"
   ]
  },
  {
   "cell_type": "code",
   "execution_count": 227,
   "id": "9dc4c182-c535-42ff-8e1c-0682de601218",
   "metadata": {
    "tags": []
   },
   "outputs": [],
   "source": [
    "# The title of the section (which defines which Interview the text came from) is distinguished by is_upper = True \n",
    "# Fill forward for all rows until the next Interview begins\n",
    "aug22['Interview'] = aug22.apply(lambda x: x['text'] if x['is_upper'] and x['is_bold'] else np.NaN, axis = 1)\n",
    "aug22['Interview'] = aug22['Interview'].fillna(method='ffill')\n",
    "# Remove text line that delineates the Interview\n",
    "aug22 = aug22[aug22['text'] != aug22['Interview']]"
   ]
  },
  {
   "cell_type": "code",
   "execution_count": 228,
   "id": "e23270e2-6b91-48aa-bdba-2471edb69657",
   "metadata": {},
   "outputs": [],
   "source": [
    "# Use bbox to define if text includes speaker or starts with speech\n",
    "aug22['left_col_present'] = aug22.apply(lambda x: True if x['bbox'][0] < 73 else False, axis = 1)"
   ]
  },
  {
   "cell_type": "code",
   "execution_count": 231,
   "id": "cfcb1c6b-8723-4373-a9a0-e591b54c393b",
   "metadata": {
    "tags": []
   },
   "outputs": [],
   "source": [
    "# PDF sometimes keeps both cols together and sometimes not.  Left col present in bbox indicates the text field contains the speaker inforamtion.  \n",
    "# May also include text, but this is uncertain.  If the bbox starts at higher x this is just text without speaker\n",
    "aug22_left_col = aug22[aug22['left_col_present']].copy()\n",
    "aug22_right_col = aug22[~aug22['left_col_present']].copy()"
   ]
  },
  {
   "cell_type": "code",
   "execution_count": 232,
   "id": "3f6ab2f5-8c4e-4ca0-98f0-af5a15fcd827",
   "metadata": {},
   "outputs": [],
   "source": [
    "# if left column present, split on first instance of :\n",
    "aug22_left_col[['Speaker','Text']] = aug22_left_col['text'].str.split(':',n=1,expand=True)"
   ]
  },
  {
   "cell_type": "code",
   "execution_count": 233,
   "id": "95099236-8545-4c7e-a71f-01281ea5ee88",
   "metadata": {
    "tags": []
   },
   "outputs": [],
   "source": [
    "aug22_right_col['Speaker'] = np.nan"
   ]
  },
  {
   "cell_type": "code",
   "execution_count": 234,
   "id": "3675c4fc-a645-4bdf-8511-1cab05babfa6",
   "metadata": {
    "tags": []
   },
   "outputs": [],
   "source": [
    "aug22_right_col['Text'] = aug22_right_col['text'] "
   ]
  },
  {
   "cell_type": "code",
   "execution_count": 294,
   "id": "9ecc8374-1b22-4dff-8140-724e2a03e089",
   "metadata": {
    "tags": []
   },
   "outputs": [],
   "source": [
    "aug22_merged = pd.concat([aug22_left_col, aug22_right_col])"
   ]
  },
  {
   "cell_type": "code",
   "execution_count": 295,
   "id": "17d02ca4-bcd4-4fc5-be79-2d2724978891",
   "metadata": {
    "tags": []
   },
   "outputs": [],
   "source": [
    "# Sort back into original order\n",
    "aug22_merged.sort_index(inplace=True)"
   ]
  },
  {
   "cell_type": "code",
   "execution_count": 296,
   "id": "fedb8358-7a22-410e-aa2d-ebb06a8b8128",
   "metadata": {
    "tags": []
   },
   "outputs": [],
   "source": [
    "# Some text splits into single row, others are spread across rows due to pdf read in.  \n",
    "# Forward fill the speaker into rows with speech text\n",
    "aug22_merged['Speaker'] = aug22_merged['Speaker'].fillna(method='ffill')"
   ]
  },
  {
   "cell_type": "code",
   "execution_count": 297,
   "id": "1242966d-2694-4a29-b8f9-af1f06fd8f10",
   "metadata": {
    "tags": []
   },
   "outputs": [],
   "source": [
    "# Drop lines of empty text\n",
    "aug22_merged = aug22_merged[(aug22_merged.Text != ' ') & (aug22_merged.Text != '  ')].copy()"
   ]
  },
  {
   "cell_type": "code",
   "execution_count": 298,
   "id": "49e2a07c-56c3-4ef9-9d65-44397569bc28",
   "metadata": {
    "tags": []
   },
   "outputs": [],
   "source": [
    "aug22_merged['Time_Mark'] = aug22_merged.groupby(['Interview']).cumcount()+1"
   ]
  },
  {
   "cell_type": "code",
   "execution_count": 299,
   "id": "8b6e2eed-f8b4-4daa-a04a-cdb2c6f5a1a2",
   "metadata": {
    "tags": []
   },
   "outputs": [],
   "source": [
    "# Subset datafrane with specific columns for analysis\n",
    "keep_cols = ['Interview','Page', 'Block', 'Speaker','Time_Mark']\n",
    "aug22_merged = aug22_merged[keep_cols + ['Text']].copy()"
   ]
  },
  {
   "cell_type": "markdown",
   "id": "f50192a4-1961-4129-81d8-fc7993069b3c",
   "metadata": {},
   "source": [
    "#### Group all text from particular Speaker at one point into single row\n",
    "\n",
    "This is necessary because the pdf reader will split text into separate blocks randomly in the middle of a sentence. in downsrteam steps can always resplit into sentences.\n"
   ]
  },
  {
   "cell_type": "code",
   "execution_count": 300,
   "id": "5ef9320f-d38d-46f5-b1cf-6db55e72a555",
   "metadata": {
    "tags": []
   },
   "outputs": [],
   "source": [
    "# Aggregate all text from a specific speaker\n",
    "aug22_merged = aug22_merged.groupby(keep_cols).agg({'Text': lambda x: ' '.join(x)})\n",
    "aug22_merged.reset_index(inplace=True)\n",
    "aug22_merged.sort_values(by=['Interview','Time_Mark'],inplace=True)"
   ]
  },
  {
   "cell_type": "markdown",
   "id": "fcc9a563-da41-474a-966d-a85336737a63",
   "metadata": {},
   "source": [
    "### April 22 Interviews (YK Delta)"
   ]
  },
  {
   "cell_type": "code",
   "execution_count": 304,
   "id": "951beb87-31c8-47c5-ab22-cb4f9d79648f",
   "metadata": {
    "tags": []
   },
   "outputs": [],
   "source": [
    "# Expand bbox for use in cleanup\n",
    "apr_22[['x0','y0','x1','y1']] = pd.DataFrame(apr_22['bbox'].tolist(), index= apr_22.index)"
   ]
  },
  {
   "cell_type": "code",
   "execution_count": 305,
   "id": "aec64e91-f965-4606-8bc5-ef86c980c39f",
   "metadata": {
    "tags": []
   },
   "outputs": [],
   "source": [
    "# Drop rows for footer page number and transcript anonymization text. use logic bbox y0 > 740\n",
    "apr_22 = apr_22[apr_22['y0'] < 740].copy()"
   ]
  },
  {
   "cell_type": "code",
   "execution_count": 306,
   "id": "cb29a0f4-60f3-4175-9be3-4b28a402fef0",
   "metadata": {
    "tags": []
   },
   "outputs": [],
   "source": [
    "# use is_bold as flag for Interview label\n",
    "# Fill forward for all rows until the next Interview begins\n",
    "apr_22['Interview'] = apr_22.apply(lambda x: x['text'] if x['is_bold'] else np.NaN, axis = 1)\n",
    "apr_22['Interview'] = apr_22['Interview'].fillna(method='ffill')\n",
    "# Remove text line that delineates the Interview\n",
    "apr_22 = apr_22[apr_22['text'] != apr_22['Interview']]"
   ]
  },
  {
   "cell_type": "code",
   "execution_count": 307,
   "id": "9625c15a-e7ba-4dde-97bb-127c1a84de05",
   "metadata": {
    "tags": []
   },
   "outputs": [],
   "source": [
    "# Font color 6123908 indicates Speaker\n",
    "apr_22['Speaker'] = apr_22.apply(lambda x: x['text'] if x['color']==6123908 else np.NaN, axis = 1)\n",
    "apr_22['Speaker'] = apr_22['Speaker'].fillna(method='ffill')"
   ]
  },
  {
   "cell_type": "code",
   "execution_count": 308,
   "id": "6ea7289d-e401-4971-87cc-198dbf0df72d",
   "metadata": {
    "tags": []
   },
   "outputs": [],
   "source": [
    "# Drop the columns where Speaker = Text\n",
    "apr_22 = apr_22[~(apr_22['text']==apr_22['Speaker'])]"
   ]
  },
  {
   "cell_type": "code",
   "execution_count": 309,
   "id": "eee991fd-09fa-4374-b9c7-05c40b37e20b",
   "metadata": {
    "tags": []
   },
   "outputs": [],
   "source": [
    "# rename 'text' --> 'Text' for consistency\n",
    "apr_22.rename(columns={\"text\": \"Text\"}, inplace=True)"
   ]
  },
  {
   "cell_type": "code",
   "execution_count": 310,
   "id": "e5eb2a48-4460-41f5-97af-b99d4659d621",
   "metadata": {
    "tags": []
   },
   "outputs": [],
   "source": [
    "# Add cumcount column as time_mark since no times given in interview transcript, so this explicitly preserves speech order\n",
    "apr_22['Time_Mark'] = apr_22.groupby(['Interview']).cumcount()+1"
   ]
  },
  {
   "cell_type": "code",
   "execution_count": 311,
   "id": "96c1c194-0c44-436e-9b85-2aca339b7d82",
   "metadata": {
    "tags": []
   },
   "outputs": [],
   "source": [
    "# Subset datafrane with specific columns for analysis\n",
    "keep_cols = ['Interview','Page', 'Block', 'Speaker', 'Time_Mark']\n",
    "apr_22 = apr_22[keep_cols + ['Text']].copy()"
   ]
  },
  {
   "cell_type": "markdown",
   "id": "fe13314e-369e-46e2-b392-bc690aac63e6",
   "metadata": {},
   "source": [
    "#### Group all text from particular Speaker at one point into single row\n",
    "This is necessary because the pdf reader will split text into separate blocks randomly in the middle of a sentence.  in downsrteam steps can always resplit into sentences."
   ]
  },
  {
   "cell_type": "code",
   "execution_count": 312,
   "id": "10cdd58d-4d76-477e-b932-429cfbaa4954",
   "metadata": {
    "tags": []
   },
   "outputs": [],
   "source": [
    "# Aggregate all text from a specific speaker\n",
    "apr_22 = apr_22.groupby(keep_cols).agg({'Text': lambda x: ' '.join(x)})\n",
    "apr_22.reset_index(inplace=True)\n",
    "apr_22.sort_values(by=['Interview','Time_Mark'],inplace=True)"
   ]
  },
  {
   "cell_type": "code",
   "execution_count": 313,
   "id": "72fb0e93-2d78-415d-a4aa-2e62f40f9d53",
   "metadata": {
    "tags": []
   },
   "outputs": [
    {
     "data": {
      "text/html": [
       "<div>\n",
       "<style scoped>\n",
       "    .dataframe tbody tr th:only-of-type {\n",
       "        vertical-align: middle;\n",
       "    }\n",
       "\n",
       "    .dataframe tbody tr th {\n",
       "        vertical-align: top;\n",
       "    }\n",
       "\n",
       "    .dataframe thead th {\n",
       "        text-align: right;\n",
       "    }\n",
       "</style>\n",
       "<table border=\"1\" class=\"dataframe\">\n",
       "  <thead>\n",
       "    <tr style=\"text-align: right;\">\n",
       "      <th></th>\n",
       "      <th>Interview</th>\n",
       "      <th>Page</th>\n",
       "      <th>Block</th>\n",
       "      <th>Speaker</th>\n",
       "      <th>Time_Mark</th>\n",
       "      <th>Text</th>\n",
       "    </tr>\n",
       "  </thead>\n",
       "  <tbody>\n",
       "    <tr>\n",
       "      <th>16</th>\n",
       "      <td>Interview 1</td>\n",
       "      <td>1</td>\n",
       "      <td>2</td>\n",
       "      <td>Interviewer</td>\n",
       "      <td>1</td>\n",
       "      <td>And we're good to go. So.</td>\n",
       "    </tr>\n",
       "    <tr>\n",
       "      <th>0</th>\n",
       "      <td>Interview 1</td>\n",
       "      <td>1</td>\n",
       "      <td>2</td>\n",
       "      <td>Interviewee</td>\n",
       "      <td>2</td>\n",
       "      <td>So we use the water, it's just like back at ho...</td>\n",
       "    </tr>\n",
       "    <tr>\n",
       "      <th>1</th>\n",
       "      <td>Interview 1</td>\n",
       "      <td>1</td>\n",
       "      <td>2</td>\n",
       "      <td>Interviewee</td>\n",
       "      <td>3</td>\n",
       "      <td>everyday like necessity skills like we use it ...</td>\n",
       "    </tr>\n",
       "    <tr>\n",
       "      <th>2</th>\n",
       "      <td>Interview 1</td>\n",
       "      <td>1</td>\n",
       "      <td>2</td>\n",
       "      <td>Interviewee</td>\n",
       "      <td>4</td>\n",
       "      <td>we use it to like basically basically like, li...</td>\n",
       "    </tr>\n",
       "    <tr>\n",
       "      <th>3</th>\n",
       "      <td>Interview 1</td>\n",
       "      <td>1</td>\n",
       "      <td>2</td>\n",
       "      <td>Interviewee</td>\n",
       "      <td>5</td>\n",
       "      <td>somewhere around six, six to twelve gallons a ...</td>\n",
       "    </tr>\n",
       "  </tbody>\n",
       "</table>\n",
       "</div>"
      ],
      "text/plain": [
       "       Interview  Page  Block      Speaker  Time_Mark  \\\n",
       "16  Interview 1      1      2  Interviewer          1   \n",
       "0   Interview 1      1      2  Interviewee          2   \n",
       "1   Interview 1      1      2  Interviewee          3   \n",
       "2   Interview 1      1      2  Interviewee          4   \n",
       "3   Interview 1      1      2  Interviewee          5   \n",
       "\n",
       "                                                 Text  \n",
       "16                         And we're good to go. So.   \n",
       "0   So we use the water, it's just like back at ho...  \n",
       "1   everyday like necessity skills like we use it ...  \n",
       "2   we use it to like basically basically like, li...  \n",
       "3   somewhere around six, six to twelve gallons a ...  "
      ]
     },
     "execution_count": 313,
     "metadata": {},
     "output_type": "execute_result"
    }
   ],
   "source": [
    "apr_22.head()"
   ]
  },
  {
   "cell_type": "markdown",
   "id": "78f2d140-30db-41af-b0f0-a7018b621f12",
   "metadata": {},
   "source": [
    "## Combine Data into single dataframe"
   ]
  },
  {
   "cell_type": "markdown",
   "id": "929e64ed-881e-47ff-b4f8-cb620dd5187e",
   "metadata": {
    "tags": []
   },
   "source": [
    "#### Standardize format and column order"
   ]
  },
  {
   "cell_type": "code",
   "execution_count": 314,
   "id": "c5152a92-424b-45f8-9b4f-e5feef9c7da6",
   "metadata": {},
   "outputs": [],
   "source": [
    "# Assign interviews to a PDF set to link to the catalog reference\n",
    "nov21_grouped['Set'] = '21-22 Combined'\n",
    "aug22_merged['Set'] = '21-22 Combined'\n",
    "apr_22['Set'] = 'April 22'"
   ]
  },
  {
   "cell_type": "code",
   "execution_count": 315,
   "id": "c9a4a417-75eb-4f9d-a0f6-aed04f7d1b75",
   "metadata": {
    "tags": []
   },
   "outputs": [],
   "source": [
    "col_order = ['Set','Interview','Page','Block', 'Speaker', 'Text','Time_Mark']"
   ]
  },
  {
   "cell_type": "code",
   "execution_count": 316,
   "id": "66501ded-a10c-4b02-81d5-5f942ca3ad62",
   "metadata": {
    "tags": []
   },
   "outputs": [],
   "source": [
    "all_public_interviews = pd.concat([nov21_grouped[col_order], aug22_merged[col_order], apr_22[col_order]])"
   ]
  },
  {
   "cell_type": "code",
   "execution_count": 317,
   "id": "34038c3b-6f43-4461-94dd-efe651676f48",
   "metadata": {
    "tags": []
   },
   "outputs": [],
   "source": [
    "all_public_interviews.to_csv('all_public_interviews.csv')"
   ]
  },
  {
   "cell_type": "code",
   "execution_count": 318,
   "id": "f16dc230-78eb-487f-b43f-8be6712700b8",
   "metadata": {
    "tags": []
   },
   "outputs": [
    {
     "data": {
      "text/html": [
       "<div>\n",
       "<style scoped>\n",
       "    .dataframe tbody tr th:only-of-type {\n",
       "        vertical-align: middle;\n",
       "    }\n",
       "\n",
       "    .dataframe tbody tr th {\n",
       "        vertical-align: top;\n",
       "    }\n",
       "\n",
       "    .dataframe thead th {\n",
       "        text-align: right;\n",
       "    }\n",
       "</style>\n",
       "<table border=\"1\" class=\"dataframe\">\n",
       "  <thead>\n",
       "    <tr style=\"text-align: right;\">\n",
       "      <th></th>\n",
       "      <th>Set</th>\n",
       "      <th>Interview</th>\n",
       "      <th>Page</th>\n",
       "      <th>Block</th>\n",
       "      <th>Speaker</th>\n",
       "      <th>Text</th>\n",
       "      <th>Time_Mark</th>\n",
       "    </tr>\n",
       "  </thead>\n",
       "  <tbody>\n",
       "    <tr>\n",
       "      <th>0</th>\n",
       "      <td>21-22 Combined</td>\n",
       "      <td>INTERVIEW 1</td>\n",
       "      <td>1</td>\n",
       "      <td>2</td>\n",
       "      <td>Interviewee 1</td>\n",
       "      <td>A sewer project called the [REDACTED], I forge...</td>\n",
       "      <td>00:00</td>\n",
       "    </tr>\n",
       "    <tr>\n",
       "      <th>2</th>\n",
       "      <td>21-22 Combined</td>\n",
       "      <td>INTERVIEW 1</td>\n",
       "      <td>1</td>\n",
       "      <td>2</td>\n",
       "      <td>Interviewer 1</td>\n",
       "      <td>So like with the new subdivisions coming online?</td>\n",
       "      <td>02:56</td>\n",
       "    </tr>\n",
       "    <tr>\n",
       "      <th>1</th>\n",
       "      <td>21-22 Combined</td>\n",
       "      <td>INTERVIEW 1</td>\n",
       "      <td>1</td>\n",
       "      <td>2</td>\n",
       "      <td>Interviewee 1</td>\n",
       "      <td>That's what I'm worried about. Yeah, so we're ...</td>\n",
       "      <td>02:59</td>\n",
       "    </tr>\n",
       "    <tr>\n",
       "      <th>3</th>\n",
       "      <td>21-22 Combined</td>\n",
       "      <td>INTERVIEW 1</td>\n",
       "      <td>1</td>\n",
       "      <td>2</td>\n",
       "      <td>Interviewer 1</td>\n",
       "      <td>I think the scope of what we're trying to look...</td>\n",
       "      <td>04:13</td>\n",
       "    </tr>\n",
       "    <tr>\n",
       "      <th>4</th>\n",
       "      <td>21-22 Combined</td>\n",
       "      <td>INTERVIEW 1</td>\n",
       "      <td>2</td>\n",
       "      <td>1</td>\n",
       "      <td>Interviewee 1</td>\n",
       "      <td>One challenge on the hauled side of it for us....</td>\n",
       "      <td>04:47</td>\n",
       "    </tr>\n",
       "  </tbody>\n",
       "</table>\n",
       "</div>"
      ],
      "text/plain": [
       "              Set     Interview  Page  Block         Speaker  \\\n",
       "0  21-22 Combined  INTERVIEW 1      1      2  Interviewee 1    \n",
       "2  21-22 Combined  INTERVIEW 1      1      2  Interviewer 1    \n",
       "1  21-22 Combined  INTERVIEW 1      1      2  Interviewee 1    \n",
       "3  21-22 Combined  INTERVIEW 1      1      2  Interviewer 1    \n",
       "4  21-22 Combined  INTERVIEW 1      2      1  Interviewee 1    \n",
       "\n",
       "                                                Text Time_Mark  \n",
       "0  A sewer project called the [REDACTED], I forge...     00:00  \n",
       "2  So like with the new subdivisions coming online?      02:56  \n",
       "1  That's what I'm worried about. Yeah, so we're ...     02:59  \n",
       "3  I think the scope of what we're trying to look...     04:13  \n",
       "4  One challenge on the hauled side of it for us....     04:47  "
      ]
     },
     "execution_count": 318,
     "metadata": {},
     "output_type": "execute_result"
    }
   ],
   "source": [
    "all_public_interviews.head()"
   ]
  },
  {
   "cell_type": "code",
   "execution_count": null,
   "id": "20f6bf3b-f313-4101-a96c-0cf97081de4e",
   "metadata": {},
   "outputs": [],
   "source": []
  }
 ],
 "metadata": {
  "kernelspec": {
   "display_name": "BERT",
   "language": "python",
   "name": "bert"
  },
  "language_info": {
   "codemirror_mode": {
    "name": "ipython",
    "version": 3
   },
   "file_extension": ".py",
   "mimetype": "text/x-python",
   "name": "python",
   "nbconvert_exporter": "python",
   "pygments_lexer": "ipython3",
   "version": "3.10.9"
  }
 },
 "nbformat": 4,
 "nbformat_minor": 5
}
