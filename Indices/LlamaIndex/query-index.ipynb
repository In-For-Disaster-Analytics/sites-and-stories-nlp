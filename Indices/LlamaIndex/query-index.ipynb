{
 "cells": [
  {
   "cell_type": "code",
   "execution_count": 10,
   "id": "15238b1f",
   "metadata": {},
   "outputs": [],
   "source": [
    "import os\n",
    "import openai\n",
    "\n",
    "openai.api_key = '<OpenAI key>'\n",
    "os.environ[\"OPENAI_API_KEY\"] = '<OpenAI key>'"
   ]
  },
  {
   "cell_type": "code",
   "execution_count": 12,
   "id": "5fc27857",
   "metadata": {},
   "outputs": [],
   "source": [
    "from llama_index import StorageContext, load_index_from_storage\n",
    "\n",
    "storage_context = StorageContext.from_defaults(persist_dir=\"index-hand-coded\")\n",
    "\n",
    "index = load_index_from_storage(storage_context)\n",
    "query_engine = index.as_query_engine()"
   ]
  },
  {
   "cell_type": "code",
   "execution_count": 14,
   "id": "6c008f9b",
   "metadata": {},
   "outputs": [
    {
     "name": "stdout",
     "output_type": "stream",
     "text": [
      "To obtain water operator certification, individuals are typically required to meet certain criteria. This includes being at least 18 years old and having a high school diploma or general equivalency diploma (GED). Additionally, applicants are usually required to complete an application, pass the appropriate exam for the certification level they are seeking, and pay a fee. Each state may have specific experience and education requirements for different grades or classifications of operators. It is also common for applicants to be asked to provide proof of age, education, licenses to operate a vehicle, past working history, reliable references, veteran status, and undergo a criminal background check.\n"
     ]
    }
   ],
   "source": [
    "waterquery = 'What is required to obtain water operator certification?'\n",
    "\n",
    "response = query_engine.query(waterquery)\n",
    "print(response)"
   ]
  },
  {
   "cell_type": "code",
   "execution_count": 15,
   "id": "221ddff1",
   "metadata": {},
   "outputs": [
    {
     "name": "stdout",
     "output_type": "stream",
     "text": [
      "To operate a wastewater facility for a single-family home, the individual must have a high school diploma or a general equivalency diploma (GED). They must also successfully pass the written examination for the level of certification being sought. Additionally, they must have at least 1 year of experience and 10 training credits for Class 1 and Small Systems certification.\n"
     ]
    }
   ],
   "source": [
    "waterquery = 'What is required to operate a wastewater facility for a single family home?'\n",
    "\n",
    "response = query_engine.query(waterquery)\n",
    "print(response)"
   ]
  },
  {
   "cell_type": "code",
   "execution_count": 16,
   "id": "e1bf1e09",
   "metadata": {},
   "outputs": [
    {
     "name": "stdout",
     "output_type": "stream",
     "text": [
      "The requirements to obtain a Small Systems certification include having a high school diploma or GED, as well as a certain amount of experience operating a small untreated or treated water system. Alternatively, completion of the ADEC Small Untreated or Treated Water Systems Correspondence Course can also fulfill the experience requirement.\n"
     ]
    }
   ],
   "source": [
    "waterquery = 'What are the requirements to obtain a Small Systems certification?'\n",
    "\n",
    "response = query_engine.query(waterquery)\n",
    "print(response)"
   ]
  },
  {
   "cell_type": "code",
   "execution_count": null,
   "id": "016c8900",
   "metadata": {},
   "outputs": [],
   "source": []
  }
 ],
 "metadata": {
  "kernelspec": {
   "display_name": "openai",
   "language": "python",
   "name": "openai"
  },
  "language_info": {
   "codemirror_mode": {
    "name": "ipython",
    "version": 3
   },
   "file_extension": ".py",
   "mimetype": "text/x-python",
   "name": "python",
   "nbconvert_exporter": "python",
   "pygments_lexer": "ipython3",
   "version": "3.11.4"
  }
 },
 "nbformat": 4,
 "nbformat_minor": 5
}
