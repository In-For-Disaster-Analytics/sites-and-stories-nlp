{
 "cells": [
  {
   "cell_type": "markdown",
   "id": "9c918b57",
   "metadata": {},
   "source": [
    "# Create Llama Indices from the Grey Literature corpus"
   ]
  },
  {
   "cell_type": "markdown",
   "id": "269688b5",
   "metadata": {},
   "source": [
    "References  \n",
    "[Getting Started With LlamaIndex](https://betterprogramming.pub/getting-started-with-llamaindex-169bbf475a94)  "
   ]
  },
  {
   "cell_type": "markdown",
   "id": "abd90e17",
   "metadata": {},
   "source": [
    "## Import Relevant libraries and set API key"
   ]
  },
  {
   "cell_type": "code",
   "execution_count": 1,
   "id": "c3756714",
   "metadata": {},
   "outputs": [],
   "source": [
    "from pathlib import Path\n",
    "from llama_index import download_loader"
   ]
  },
  {
   "cell_type": "code",
   "execution_count": 2,
   "id": "9d9d2982",
   "metadata": {},
   "outputs": [],
   "source": [
    "import os"
   ]
  },
  {
   "cell_type": "code",
   "execution_count": 16,
   "id": "85baa9cf",
   "metadata": {},
   "outputs": [],
   "source": [
    "import openai\n",
    "openai.api_key = '<OpenAI key>'\n",
    "os.environ[\"OPENAI_API_KEY\"] = '<OpenAI key>'"
   ]
  },
  {
   "cell_type": "code",
   "execution_count": 42,
   "id": "3b76cc43",
   "metadata": {},
   "outputs": [],
   "source": [
    "## 1. settings to Load pdf documents\n",
    "PyMuPDFReader = download_loader(\"PyMuPDFReader\")\n",
    "loader = PyMuPDFReader()\n",
    "\n",
    "# Run code to load documents into document list\n",
    "\n",
    "# 2. Parse the docs into nodes\n",
    "# Load requirements\n",
    "from llama_index.node_parser import SimpleNodeParser\n",
    "parser = SimpleNodeParser()\n",
    "\n",
    "# Code to run for specific files\n",
    "# nodes = parser.get_nodes_from_documents(documents)\n",
    "\n",
    "# 3. Build an index\n",
    "from llama_index import GPTVectorStoreIndex\n",
    "\n",
    "# Code to run for specific files\n",
    "# index = GPTVectorStoreIndex(nodes)\n",
    "\n",
    "# 4. Store the index\n",
    "# Code to persist the index, alter persist_dir as needed\n",
    "# index.storage_context.persist(persist_dir=\"index\")"
   ]
  },
  {
   "cell_type": "markdown",
   "id": "257b6b61",
   "metadata": {},
   "source": [
    "## Custom Functions \n",
    "Functions to:  \n",
    "    (a) generate a list pdfs from a directory for investigation  \n",
    "    (b) load all pdfs from a given directory into a documents list"
   ]
  },
  {
   "cell_type": "code",
   "execution_count": 31,
   "id": "222222eb",
   "metadata": {},
   "outputs": [],
   "source": [
    "def get_list_of_pdfs_in_directory(directory_filepath):\n",
    "    pdf_list = []\n",
    "    for root, dirs, files in os.walk(directory_filepath):\n",
    "        for file in files:\n",
    "            # add pdf files to list\n",
    "            if file.endswith(\".pdf\"):\n",
    "                pdf_list.append(file)\n",
    "                \n",
    "    return pdf_list"
   ]
  },
  {
   "cell_type": "code",
   "execution_count": 29,
   "id": "f9ccc580",
   "metadata": {},
   "outputs": [],
   "source": [
    "def load_pdf_files_in_directory(directory_filepath):\n",
    "    # Initiate empty documents list\n",
    "    documents_list = []\n",
    "    \n",
    "    # Walk directory to find the pdf files\n",
    "    for root, dirs, files in os.walk(directory_filepath):\n",
    "        for file in files:\n",
    "            # if pdf, load to documents\n",
    "            if file.endswith(\".pdf\"):\n",
    "                filepath = os.path.join(directory_filepath, file)\n",
    "                documents_list = documents_list + loader.load(file_path=filepath, metadata=True)\n",
    "    \n",
    "    return documents_list"
   ]
  },
  {
   "cell_type": "markdown",
   "id": "b88992a4",
   "metadata": {},
   "source": [
    "## Generate Llama-index for Hand Coded files"
   ]
  },
  {
   "cell_type": "code",
   "execution_count": 35,
   "id": "fc1a6d9e",
   "metadata": {},
   "outputs": [],
   "source": [
    "# Set location of file directory\n",
    "hand_coded_filefolder = os.path.abspath(\"../azure/code/data/raw/Gray_Literature_Round_1/Hand-Coded\")"
   ]
  },
  {
   "cell_type": "code",
   "execution_count": 36,
   "id": "aa76895c",
   "metadata": {},
   "outputs": [],
   "source": [
    "# Investigate files\n",
    "hand_coded_files = get_list_of_pdfs_in_directory(hand_coded_filefolder)"
   ]
  },
  {
   "cell_type": "code",
   "execution_count": 37,
   "id": "1da47174",
   "metadata": {},
   "outputs": [
    {
     "data": {
      "text/plain": [
       "['ABC_2000_VSWSGuidebook.pdf',\n",
       " 'ABC_2013_Validating Your Certification Exam.pdf',\n",
       " 'ABC_2018_Guide Collect ClassI.pdf',\n",
       " 'ABC_2018_Guide Collect ClassII.pdf',\n",
       " 'ABC_2018_Guide Distr ClassII.pdf']"
      ]
     },
     "execution_count": 37,
     "metadata": {},
     "output_type": "execute_result"
    }
   ],
   "source": [
    "hand_coded_files[0:5]"
   ]
  },
  {
   "cell_type": "code",
   "execution_count": null,
   "id": "03e44376",
   "metadata": {},
   "outputs": [],
   "source": [
    "# 1. Load pdfs\n",
    "hand_coded_documents = load_pdf_files_in_directory(hand_coded_filefolder)"
   ]
  },
  {
   "cell_type": "code",
   "execution_count": 12,
   "id": "dfcd64c8",
   "metadata": {},
   "outputs": [],
   "source": [
    "# 2. Parse the docs into nodes\n",
    "hand_coded_nodes = parser.get_nodes_from_documents(hand_coded_documents)"
   ]
  },
  {
   "cell_type": "code",
   "execution_count": 17,
   "id": "b06944c8",
   "metadata": {},
   "outputs": [],
   "source": [
    "# 3. Build an index\n",
    "hand_coded_index = GPTVectorStoreIndex(hand_coded_nodes)"
   ]
  },
  {
   "cell_type": "code",
   "execution_count": 18,
   "id": "193890f7",
   "metadata": {},
   "outputs": [],
   "source": [
    "# 4. Store the index\n",
    "hand_coded_index.storage_context.persist(persist_dir=\"indices/index-hand-coded\")"
   ]
  },
  {
   "cell_type": "markdown",
   "id": "97691e5a",
   "metadata": {},
   "source": [
    "## Llama-index for non-Hand Coded files"
   ]
  },
  {
   "cell_type": "code",
   "execution_count": 20,
   "id": "35797827",
   "metadata": {},
   "outputs": [],
   "source": [
    "# Set location of file directory\n",
    "not_coded_folder = os.path.abspath(\"../azure/code/data/raw/Gray_Literature_Round_1/Not-Hand-Coded\")"
   ]
  },
  {
   "cell_type": "code",
   "execution_count": 32,
   "id": "d93fb220",
   "metadata": {},
   "outputs": [],
   "source": [
    "# Investigate files\n",
    "not_coded_pdfs = get_list_of_pdfs_in_directory(not_coded_folder)"
   ]
  },
  {
   "cell_type": "code",
   "execution_count": 33,
   "id": "a2ed44b1",
   "metadata": {},
   "outputs": [
    {
     "data": {
      "text/plain": [
       "['ABC_2008_SampleBPAT.pdf',\n",
       " 'ABC_2008_SampleVSWS.pdf',\n",
       " 'ABC_2008_WaterTreatmentOperatorCertificationApplication031716.pdf',\n",
       " 'ABC_2009_ExamEquivalencyChart0709.pdf',\n",
       " 'ABC_2009_WastewaterTestingServiceExamEquivalencyChart0709.pdf']"
      ]
     },
     "execution_count": 33,
     "metadata": {},
     "output_type": "execute_result"
    }
   ],
   "source": [
    "not_coded_pdfs[0:5]"
   ]
  },
  {
   "cell_type": "code",
   "execution_count": 30,
   "id": "419a240d",
   "metadata": {},
   "outputs": [],
   "source": [
    "# 1. Load pdfs\n",
    "not_coded_documents = load_pdf_files_in_directory(not_coded_folder)"
   ]
  },
  {
   "cell_type": "code",
   "execution_count": 39,
   "id": "3971dbc2",
   "metadata": {},
   "outputs": [],
   "source": [
    "# 2. Parse the docs into nodes\n",
    "not_coded_nodes = parser.get_nodes_from_documents(not_coded_documents)"
   ]
  },
  {
   "cell_type": "code",
   "execution_count": 40,
   "id": "b57ef90b",
   "metadata": {},
   "outputs": [],
   "source": [
    "# 3. Build an index\n",
    "not_coded_index = GPTVectorStoreIndex(not_coded_nodes)"
   ]
  },
  {
   "cell_type": "code",
   "execution_count": 41,
   "id": "009b113b",
   "metadata": {},
   "outputs": [],
   "source": [
    "# 4. Store the index\n",
    "not_coded_index.storage_context.persist(persist_dir=\"indices/index-not-coded\")"
   ]
  },
  {
   "cell_type": "code",
   "execution_count": null,
   "id": "3e036605",
   "metadata": {},
   "outputs": [],
   "source": []
  }
 ],
 "metadata": {
  "kernelspec": {
   "display_name": "openai",
   "language": "python",
   "name": "openai"
  },
  "language_info": {
   "codemirror_mode": {
    "name": "ipython",
    "version": 3
   },
   "file_extension": ".py",
   "mimetype": "text/x-python",
   "name": "python",
   "nbconvert_exporter": "python",
   "pygments_lexer": "ipython3",
   "version": "3.11.4"
  }
 },
 "nbformat": 4,
 "nbformat_minor": 5
}
